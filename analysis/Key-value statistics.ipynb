{
 "cells": [
  {
   "cell_type": "code",
   "execution_count": 16,
   "metadata": {},
   "outputs": [],
   "source": [
    "#imports\n",
    "import gzip\n",
    "from collections import defaultdict"
   ]
  },
  {
   "cell_type": "code",
   "execution_count": 12,
   "metadata": {},
   "outputs": [],
   "source": [
    "cskg_location='../output/cskg_connected.tsv.gz'"
   ]
  },
  {
   "cell_type": "code",
   "execution_count": 43,
   "metadata": {},
   "outputs": [],
   "source": [
    "def line2list(line):\n",
    "    return line.decode().rstrip('\\n').split('\\t')"
   ]
  },
  {
   "cell_type": "code",
   "execution_count": 44,
   "metadata": {},
   "outputs": [],
   "source": [
    "def get_labels(l):\n",
    "    if '|' in l:\n",
    "        return l.split('|')\n",
    "    else:\n",
    "        return [l]"
   ]
  },
  {
   "cell_type": "code",
   "execution_count": 46,
   "metadata": {},
   "outputs": [],
   "source": [
    "hr2t=defaultdict(set)\n",
    "hr2t_labels=defaultdict(set)\n",
    "\n",
    "with gzip.open(cskg_location, 'r') as f:\n",
    "    header=line2list(next(f))\n",
    "    for line in f:\n",
    "        data=line2list(line)\n",
    "        hr=(data[1], data[2])\n",
    "        t=data[3]\n",
    "        hr2t[hr].add(t)\n",
    "        \n",
    "        hlbls=get_labels(data[4])\n",
    "        tlbls=get_labels(data[5])\n",
    "        for hl in hlbls:\n",
    "            for tl in tlbls:\n",
    "                hr_label=(hl, data[2])\n",
    "                hr2t_labels[hr_label].add(tl)"
   ]
  },
  {
   "cell_type": "code",
   "execution_count": 48,
   "metadata": {},
   "outputs": [
    {
     "data": {
      "text/plain": [
       "2228029"
      ]
     },
     "execution_count": 48,
     "metadata": {},
     "output_type": "execute_result"
    }
   ],
   "source": [
    "len(hr2t)"
   ]
  },
  {
   "cell_type": "code",
   "execution_count": 49,
   "metadata": {},
   "outputs": [
    {
     "data": {
      "text/plain": [
       "2283344"
      ]
     },
     "execution_count": 49,
     "metadata": {},
     "output_type": "execute_result"
    }
   ],
   "source": [
    "len(hr2t_labels)"
   ]
  },
  {
   "cell_type": "code",
   "execution_count": 51,
   "metadata": {},
   "outputs": [
    {
     "data": {
      "text/plain": [
       "[('0.22 inch calibre', '/r/IsA'),\n",
       " ('0', '/r/SimilarTo'),\n",
       " ('0', '/r/Synonym'),\n",
       " ('0', '/r/Antonym'),\n",
       " ('0', '/r/HasContext'),\n",
       " ('0', '/r/RelatedTo'),\n",
       " ('000', '/r/RelatedTo'),\n",
       " ('007', '/r/RelatedTo'),\n",
       " ('007', '/r/Synonym'),\n",
       " ('007s', '/r/FormOf')]"
      ]
     },
     "execution_count": 51,
     "metadata": {},
     "output_type": "execute_result"
    }
   ],
   "source": [
    "list(hr2t_labels.keys())[:10]"
   ]
  },
  {
   "cell_type": "code",
   "execution_count": 28,
   "metadata": {},
   "outputs": [
    {
     "name": "stdout",
     "output_type": "stream",
     "text": [
      " 6003238 ../output/cskg_connected.tsv\n"
     ]
    }
   ],
   "source": [
    "!wc -l ../output/cskg_connected.tsv"
   ]
  },
  {
   "cell_type": "code",
   "execution_count": 26,
   "metadata": {},
   "outputs": [
    {
     "data": {
      "text/plain": [
       "['id',\n",
       " 'node1',\n",
       " 'relation',\n",
       " 'node2',\n",
       " 'node1;label',\n",
       " 'node2;label',\n",
       " 'relation;label',\n",
       " 'relation;dimension',\n",
       " 'source',\n",
       " 'sentence']"
      ]
     },
     "execution_count": 26,
     "metadata": {},
     "output_type": "execute_result"
    }
   ],
   "source": [
    "header"
   ]
  },
  {
   "cell_type": "code",
   "execution_count": null,
   "metadata": {},
   "outputs": [],
   "source": []
  }
 ],
 "metadata": {
  "kernelspec": {
   "display_name": "Python 3",
   "language": "python",
   "name": "python3"
  },
  "language_info": {
   "codemirror_mode": {
    "name": "ipython",
    "version": 3
   },
   "file_extension": ".py",
   "mimetype": "text/x-python",
   "name": "python",
   "nbconvert_exporter": "python",
   "pygments_lexer": "ipython3",
   "version": "3.7.9"
  }
 },
 "nbformat": 4,
 "nbformat_minor": 4
}
