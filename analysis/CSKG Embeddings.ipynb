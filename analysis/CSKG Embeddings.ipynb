{
 "cells": [
  {
   "cell_type": "markdown",
   "metadata": {},
   "source": [
    "# CSKG embeddings\n",
    "\n",
    "This notebooks compares graph and text embeddings computed over CSKG.\n",
    "\n",
    "**Graph embeddings** The graph embeddings have been computed by the command:\n",
    "\n",
    "`python embeddings/embedding_click.py -i input/kgtk_framenet.tsv -o output/kgtk_framenet`\n",
    "\n",
    "using the `embedding/embedding_click.py` script in this repository.\n",
    "\n",
    "We are currently integrating this function into the CSKG package.\n",
    "\n",
    "**Text embeddings** The text embeddings were computed by using the KGTK `text-embedding` command as follows:\n",
    "```\n",
    "TBA!\n",
    "```"
   ]
  },
  {
   "cell_type": "code",
   "execution_count": 3,
   "metadata": {},
   "outputs": [],
   "source": [
    "from gensim.models import KeyedVectors, Word2Vec\n",
    "import h5py\n",
    "from annoy import AnnoyIndex"
   ]
  },
  {
   "cell_type": "code",
   "execution_count": 4,
   "metadata": {},
   "outputs": [],
   "source": [
    "# Dimension of the embeddings - choose one of 100, 300, 400\n",
    "dim=400"
   ]
  },
  {
   "cell_type": "code",
   "execution_count": 5,
   "metadata": {},
   "outputs": [],
   "source": [
    "tsv_filename='../output/embeddings/entity_embedding_%d.tsv' % dim\n",
    "#filename='../output/embeddings/embeddings_all_0.v100.h5'"
   ]
  },
  {
   "cell_type": "code",
   "execution_count": 6,
   "metadata": {},
   "outputs": [
    {
     "data": {
      "text/plain": [
       "True"
      ]
     },
     "execution_count": 6,
     "metadata": {},
     "output_type": "execute_result"
    }
   ],
   "source": [
    "t = AnnoyIndex(dim, 'euclidean')  # Length of item vector that will be indexed\n",
    "node2id={}\n",
    "id2node={}\n",
    "with open(tsv_filename, 'r') as f:\n",
    "    i=0\n",
    "    for line in f:\n",
    "        node, *data=line.split()\n",
    "        v=[float(d) for d in data]\n",
    "        t.add_item(i, v)\n",
    "        node2id[node]=i\n",
    "        id2node[i]=node\n",
    "        i+=1\n",
    "t.build(10) # 10 trees\n",
    "t.save('complex_%d.ann' % dim)"
   ]
  },
  {
   "cell_type": "code",
   "execution_count": 7,
   "metadata": {},
   "outputs": [
    {
     "data": {
      "text/plain": [
       "True"
      ]
     },
     "execution_count": 7,
     "metadata": {},
     "output_type": "execute_result"
    }
   ],
   "source": [
    "u = AnnoyIndex(dim,'euclidean')\n",
    "u.load('complex_%d.ann' % dim) # super fast, will just mmap the file\n"
   ]
  },
  {
   "cell_type": "code",
   "execution_count": 20,
   "metadata": {},
   "outputs": [],
   "source": [
    "try_this='/c/en/man'\n",
    "try_id=node2id[try_this]"
   ]
  },
  {
   "cell_type": "code",
   "execution_count": 21,
   "metadata": {},
   "outputs": [
    {
     "data": {
      "text/plain": [
       "222090"
      ]
     },
     "execution_count": 21,
     "metadata": {},
     "output_type": "execute_result"
    }
   ],
   "source": [
    "try_id"
   ]
  },
  {
   "cell_type": "code",
   "execution_count": 22,
   "metadata": {},
   "outputs": [
    {
     "data": {
      "text/plain": [
       "['/c/en/man',\n",
       " '/c/en/stavnsbånd/n',\n",
       " '/c/en/moneyman',\n",
       " '/c/en/satyromaniac/n',\n",
       " '/c/en/youth/n',\n",
       " '/c/en/plainclotheswoman/n',\n",
       " '/c/en/ladies_auxiliary/n',\n",
       " '/c/en/man_child/n',\n",
       " '/c/en/girl/n',\n",
       " '/c/en/heemraad/n']"
      ]
     },
     "execution_count": 22,
     "metadata": {},
     "output_type": "execute_result"
    }
   ],
   "source": [
    "[id2node[i] for i in u.get_nns_by_item(try_id, 10)]"
   ]
  },
  {
   "cell_type": "code",
   "execution_count": null,
   "metadata": {},
   "outputs": [],
   "source": []
  },
  {
   "cell_type": "code",
   "execution_count": null,
   "metadata": {},
   "outputs": [],
   "source": []
  }
 ],
 "metadata": {
  "kernelspec": {
   "display_name": "Python 3",
   "language": "python",
   "name": "python3"
  },
  "language_info": {
   "codemirror_mode": {
    "name": "ipython",
    "version": 3
   },
   "file_extension": ".py",
   "mimetype": "text/x-python",
   "name": "python",
   "nbconvert_exporter": "python",
   "pygments_lexer": "ipython3",
   "version": "3.7.8"
  }
 },
 "nbformat": 4,
 "nbformat_minor": 4
}
