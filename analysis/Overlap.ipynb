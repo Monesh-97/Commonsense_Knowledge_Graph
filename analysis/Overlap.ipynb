{
 "cells": [
  {
   "cell_type": "code",
   "execution_count": 1,
   "metadata": {},
   "outputs": [],
   "source": [
    "#file1=['../tmp/kgtk_roget_synonyms.tsv', '../tmp/kgtk_roget_antonyms.tsv']\n",
    "#file1=['../tmp/kgtk_conceptnet.tsv']\n",
    "\n",
    "files=['../tmp/kgtk_wordnet.tsv', '../tmp/kgtk_wikidata.tsv', '../tmp/kgtk_conceptnet.tsv']"
   ]
  },
  {
   "cell_type": "code",
   "execution_count": 2,
   "metadata": {},
   "outputs": [],
   "source": [
    "from tqdm import tqdm\n",
    "import json"
   ]
  },
  {
   "cell_type": "code",
   "execution_count": 3,
   "metadata": {},
   "outputs": [],
   "source": [
    "dim_file='../consolidation/dimensions.json'"
   ]
  },
  {
   "cell_type": "code",
   "execution_count": 4,
   "metadata": {},
   "outputs": [],
   "source": [
    "with open(dim_file, 'r') as f:\n",
    "    dim_mapping=json.load(f)"
   ]
  },
  {
   "cell_type": "code",
   "execution_count": 5,
   "metadata": {},
   "outputs": [],
   "source": [
    "dimensions=set(dim_mapping.values())"
   ]
  },
  {
   "cell_type": "code",
   "execution_count": 6,
   "metadata": {},
   "outputs": [
    {
     "data": {
      "text/plain": [
       "12"
      ]
     },
     "execution_count": 6,
     "metadata": {},
     "output_type": "execute_result"
    }
   ],
   "source": [
    "len(dimensions)"
   ]
  },
  {
   "cell_type": "code",
   "execution_count": 7,
   "metadata": {},
   "outputs": [
    {
     "data": {
      "text/plain": [
       "{'creation',\n",
       " 'desire',\n",
       " 'distinctness',\n",
       " 'lexical',\n",
       " 'part-whole',\n",
       " 'quality',\n",
       " 'rel-other',\n",
       " 'similarity',\n",
       " 'spatial',\n",
       " 'taxonomic',\n",
       " 'temporal',\n",
       " 'utility'}"
      ]
     },
     "execution_count": 7,
     "metadata": {},
     "output_type": "execute_result"
    }
   ],
   "source": [
    "dimensions"
   ]
  },
  {
   "cell_type": "code",
   "execution_count": 8,
   "metadata": {},
   "outputs": [],
   "source": [
    "def get_all_labels(l):\n",
    "    if '|' not in l:\n",
    "        return [l]\n",
    "    else:\n",
    "        return [l2 for l2 in l.split('|') if l2!='']"
   ]
  },
  {
   "cell_type": "code",
   "execution_count": 13,
   "metadata": {},
   "outputs": [],
   "source": [
    "def get_triples(a_file, abstract_rel=False, dim_mapping={}, dim_filter=None):\n",
    "    triples=set()\n",
    "    with open(a_file, 'r') as f1:\n",
    "        header=next(f1)\n",
    "        for line in tqdm(f1, total=3500000):\n",
    "            data=line.split('\\t')\n",
    "            rel_label=data[1]\n",
    "            if abstract_rel:\n",
    "                if rel_label not in dim_mapping.keys(): continue\n",
    "                if dim_filter:\n",
    "                    rel_label=dim_mapping[rel_label]\n",
    "                    if rel_label!=dim_filter: continue\n",
    "            for n1_label in get_all_labels(data[3]):\n",
    "                for n2_label in get_all_labels(data[4]):\n",
    "                    if n1_label=='' or n2_label=='': print(data)\n",
    "                    triple=(n1_label, rel_label, n2_label)\n",
    "                    triples.add(triple)\n",
    "    return triples"
   ]
  },
  {
   "cell_type": "markdown",
   "metadata": {},
   "source": [
    "## Compute overlaps between each source pair"
   ]
  },
  {
   "cell_type": "code",
   "execution_count": 14,
   "metadata": {},
   "outputs": [],
   "source": [
    "def file_to_source(f):\n",
    "    return f.split('/')[-1].replace('kgtk_', '').replace('.tsv', '')"
   ]
  },
  {
   "cell_type": "code",
   "execution_count": 15,
   "metadata": {},
   "outputs": [
    {
     "name": "stderr",
     "output_type": "stream",
     "text": [
      "  3%|▎         | 101771/3500000 [00:00<00:05, 570487.23it/s]\n",
      "  3%|▎         | 111276/3500000 [00:00<00:12, 274180.32it/s]\n",
      "  3%|▎         | 105560/3500000 [00:00<00:06, 509994.77it/s]"
     ]
    },
    {
     "name": "stdout",
     "output_type": "stream",
     "text": [
      "wikidata - wordnet BOTH: 1613 ONLY S1: 98246 ONLY S2: 419103\n"
     ]
    },
    {
     "name": "stderr",
     "output_type": "stream",
     "text": [
      " 98%|█████████▊| 3423004/3500000 [00:05<00:00, 620244.92it/s]\n",
      "  3%|▎         | 111276/3500000 [00:00<00:12, 276722.63it/s]\n",
      "  3%|▎         | 104597/3500000 [00:00<00:06, 506765.46it/s]"
     ]
    },
    {
     "name": "stdout",
     "output_type": "stream",
     "text": [
      "conceptnet - wordnet BOTH: 66102 ONLY S1: 3257219 ONLY S2: 354614\n"
     ]
    },
    {
     "name": "stderr",
     "output_type": "stream",
     "text": [
      " 98%|█████████▊| 3423004/3500000 [00:05<00:00, 633963.60it/s]\n",
      "  3%|▎         | 101771/3500000 [00:00<00:05, 591695.38it/s]\n"
     ]
    },
    {
     "name": "stdout",
     "output_type": "stream",
     "text": [
      "conceptnet - wikidata BOTH: 2386 ONLY S1: 3320935 ONLY S2: 97473\n"
     ]
    }
   ],
   "source": [
    "for file1 in files:\n",
    "    for file2 in files:\n",
    "        if file1<file2:\n",
    "\n",
    "            f1_triples=get_triples(file1)\n",
    "            f2_triples=get_triples(file2)\n",
    "            both_triples=set(f1_triples) & set(f2_triples)\n",
    "\n",
    "            only_src2=len(set(f2_triples)-set(f1_triples))\n",
    "            pct_only_src2=only_src2/(only_src2+len(both_triples))\n",
    "\n",
    "            only_src1=len(set(f1_triples)-set(f2_triples))\n",
    "            pct_only_src1=only_src1/(only_src1+len(both_triples))\n",
    "\n",
    "            f1=file_to_source(file1)\n",
    "            f2=file_to_source(file2)\n",
    "\n",
    "            print(f1, '-', f2, 'BOTH:', len(both_triples), 'ONLY S1:', only_src1, 'ONLY S2:', only_src2)"
   ]
  },
  {
   "cell_type": "markdown",
   "metadata": {},
   "source": [
    "## Compute mappings (with dimensions instead of relations)"
   ]
  },
  {
   "cell_type": "code",
   "execution_count": 16,
   "metadata": {},
   "outputs": [
    {
     "name": "stderr",
     "output_type": "stream",
     "text": [
      "  3%|▎         | 101771/3500000 [00:00<00:06, 548388.54it/s]\n",
      "  3%|▎         | 111276/3500000 [00:00<00:12, 265414.85it/s]\n",
      "  3%|▎         | 100923/3500000 [00:00<00:06, 491480.87it/s]"
     ]
    },
    {
     "name": "stdout",
     "output_type": "stream",
     "text": [
      "wikidata - wordnet BOTH: 1613 ONLY S1: 98246 ONLY S2: 419103\n"
     ]
    },
    {
     "name": "stderr",
     "output_type": "stream",
     "text": [
      " 98%|█████████▊| 3423004/3500000 [00:05<00:00, 593091.84it/s]\n",
      "  3%|▎         | 111276/3500000 [00:00<00:12, 270429.36it/s]\n",
      "  3%|▎         | 98437/3500000 [00:00<00:07, 475514.25it/s]"
     ]
    },
    {
     "name": "stdout",
     "output_type": "stream",
     "text": [
      "conceptnet - wordnet BOTH: 66102 ONLY S1: 3244955 ONLY S2: 354614\n"
     ]
    },
    {
     "name": "stderr",
     "output_type": "stream",
     "text": [
      " 98%|█████████▊| 3423004/3500000 [00:06<00:00, 555812.20it/s]\n",
      "  3%|▎         | 101771/3500000 [00:00<00:06, 546796.74it/s]\n"
     ]
    },
    {
     "name": "stdout",
     "output_type": "stream",
     "text": [
      "conceptnet - wikidata BOTH: 2386 ONLY S1: 3308671 ONLY S2: 97473\n"
     ]
    }
   ],
   "source": [
    "for file1 in files:\n",
    "    for file2 in files:\n",
    "        if file1<file2:\n",
    "\n",
    "            f1_triples=get_triples(file1, True, dim_mapping)\n",
    "            f2_triples=get_triples(file2, True, dim_mapping)\n",
    "            both_triples=set(f1_triples) & set(f2_triples)\n",
    "\n",
    "            only_src2=len(set(f2_triples)-set(f1_triples))\n",
    "            pct_only_src2=only_src2/(only_src2+len(both_triples))\n",
    "\n",
    "            only_src1=len(set(f1_triples)-set(f2_triples))\n",
    "            pct_only_src1=only_src1/(only_src1+len(both_triples))\n",
    "\n",
    "            f1=file_to_source(file1)\n",
    "            f2=file_to_source(file2)\n",
    "\n",
    "            print(f1, '-', f2, 'BOTH:', len(both_triples), 'ONLY S1:', only_src1, 'ONLY S2:', only_src2)"
   ]
  },
  {
   "cell_type": "markdown",
   "metadata": {},
   "source": [
    "### Compute mappings per dimension"
   ]
  },
  {
   "cell_type": "code",
   "execution_count": 18,
   "metadata": {},
   "outputs": [
    {
     "name": "stderr",
     "output_type": "stream",
     "text": [
      "  3%|▎         | 101771/3500000 [00:00<00:03, 928354.90it/s]\n",
      "  3%|▎         | 111276/3500000 [00:00<00:03, 1033884.34it/s]\n",
      "  3%|▎         | 101771/3500000 [00:00<00:03, 950198.26it/s]\n",
      "  3%|▎         | 111276/3500000 [00:00<00:03, 1091635.24it/s]\n",
      "  3%|▎         | 101771/3500000 [00:00<00:03, 1010986.01it/s]\n",
      "  3%|▎         | 111276/3500000 [00:00<00:05, 656387.12it/s]\n",
      "  3%|▎         | 101771/3500000 [00:00<00:03, 964680.35it/s]\n",
      "  0%|          | 0/3500000 [00:00<?, ?it/s]"
     ]
    },
    {
     "name": "stdout",
     "output_type": "stream",
     "text": [
      "wikidata - wordnet DIMENSION part-whole BOTH: 82 ONLY S1: 8121 ONLY S2: 100839\n"
     ]
    },
    {
     "name": "stderr",
     "output_type": "stream",
     "text": [
      "  3%|▎         | 111276/3500000 [00:00<00:03, 1046741.69it/s]\n",
      "  3%|▎         | 101771/3500000 [00:00<00:03, 998870.95it/s] \n",
      "  3%|▎         | 111276/3500000 [00:00<00:03, 1009679.53it/s]\n",
      "  3%|▎         | 101771/3500000 [00:00<00:03, 1095888.70it/s]\n",
      "  3%|▎         | 111276/3500000 [00:00<00:03, 1120613.34it/s]\n",
      "  3%|▎         | 101771/3500000 [00:00<00:03, 1079888.97it/s]\n",
      "  3%|▎         | 111276/3500000 [00:00<00:03, 1101744.41it/s]\n",
      "  3%|▎         | 101771/3500000 [00:00<00:03, 1074531.00it/s]\n",
      "  3%|▎         | 111276/3500000 [00:00<00:03, 1055519.46it/s]\n",
      "  3%|▎         | 101771/3500000 [00:00<00:03, 1053737.47it/s]\n",
      "  3%|▎         | 111276/3500000 [00:00<00:03, 1099240.38it/s]\n",
      "  3%|▎         | 101771/3500000 [00:00<00:03, 1113443.25it/s]\n",
      "  3%|▎         | 111276/3500000 [00:00<00:03, 1087975.97it/s]\n",
      "  3%|▎         | 101771/3500000 [00:00<00:04, 690478.29it/s]\n",
      "  3%|▎         | 111276/3500000 [00:00<00:10, 334287.63it/s]\n",
      "  3%|▎         | 101771/3500000 [00:00<00:03, 863366.00it/s]\n",
      "  0%|          | 0/3500000 [00:00<?, ?it/s]"
     ]
    },
    {
     "name": "stdout",
     "output_type": "stream",
     "text": [
      "wikidata - wordnet DIMENSION taxonomic BOTH: 1533 ONLY S1: 69884 ONLY S2: 318236\n"
     ]
    },
    {
     "name": "stderr",
     "output_type": "stream",
     "text": [
      "  3%|▎         | 111276/3500000 [00:00<00:03, 973041.87it/s]\n",
      " 98%|█████████▊| 3423004/3500000 [00:02<00:00, 1168302.17it/s]\n",
      "  3%|▎         | 111276/3500000 [00:00<00:03, 1051041.24it/s]\n",
      " 98%|█████████▊| 3423004/3500000 [00:02<00:00, 1150422.56it/s]\n",
      "  3%|▎         | 111276/3500000 [00:00<00:03, 1021359.12it/s]\n",
      " 98%|█████████▊| 3423004/3500000 [00:03<00:00, 1102681.76it/s]\n",
      "  3%|▎         | 111276/3500000 [00:00<00:05, 643326.11it/s]\n",
      "  2%|▏         | 85499/3500000 [00:00<00:03, 854980.62it/s]"
     ]
    },
    {
     "name": "stdout",
     "output_type": "stream",
     "text": [
      "conceptnet - wordnet DIMENSION part-whole BOTH: 4710 ONLY S1: 13877 ONLY S2: 96211\n"
     ]
    },
    {
     "name": "stderr",
     "output_type": "stream",
     "text": [
      " 98%|█████████▊| 3423004/3500000 [00:03<00:00, 945960.85it/s] \n",
      "  3%|▎         | 111276/3500000 [00:00<00:03, 986788.64it/s]\n",
      " 98%|█████████▊| 3423004/3500000 [00:03<00:00, 1065617.06it/s]\n",
      "  3%|▎         | 111276/3500000 [00:00<00:03, 928692.13it/s]\n",
      " 98%|█████████▊| 3423004/3500000 [00:03<00:00, 1129921.33it/s]\n",
      "  3%|▎         | 111276/3500000 [00:00<00:03, 950638.28it/s]\n",
      " 98%|█████████▊| 3423004/3500000 [00:03<00:00, 1090927.47it/s]\n",
      "  3%|▎         | 111276/3500000 [00:00<00:03, 1025067.14it/s]\n",
      " 98%|█████████▊| 3423004/3500000 [00:02<00:00, 1145490.11it/s]\n",
      "  3%|▎         | 111276/3500000 [00:00<00:03, 1041774.45it/s]\n",
      " 98%|█████████▊| 3423004/3500000 [00:04<00:00, 736205.75it/s]\n",
      "  3%|▎         | 111276/3500000 [00:00<00:03, 888259.65it/s]\n",
      " 98%|█████████▊| 3423004/3500000 [00:02<00:00, 1157884.50it/s]\n",
      "  3%|▎         | 111276/3500000 [00:00<00:03, 1022240.51it/s]\n",
      " 98%|█████████▊| 3423004/3500000 [00:03<00:00, 1095591.23it/s]\n",
      "  3%|▎         | 111276/3500000 [00:00<00:10, 324581.65it/s]\n",
      "  5%|▌         | 178184/3500000 [00:00<00:03, 837528.59it/s]"
     ]
    },
    {
     "name": "stdout",
     "output_type": "stream",
     "text": [
      "conceptnet - wordnet DIMENSION taxonomic BOTH: 73123 ONLY S1: 161584 ONLY S2: 246646\n"
     ]
    },
    {
     "name": "stderr",
     "output_type": "stream",
     "text": [
      " 98%|█████████▊| 3423004/3500000 [00:03<00:00, 1107281.25it/s]\n",
      "  3%|▎         | 111276/3500000 [00:00<00:03, 945067.51it/s]\n",
      " 98%|█████████▊| 3423004/3500000 [00:02<00:00, 1153630.11it/s]\n",
      "  3%|▎         | 101771/3500000 [00:00<00:03, 1032840.48it/s]\n",
      " 98%|█████████▊| 3423004/3500000 [00:02<00:00, 1165481.53it/s]\n",
      "  3%|▎         | 101771/3500000 [00:00<00:03, 1018075.06it/s]\n",
      "  3%|▎         | 100394/3500000 [00:00<00:03, 1003928.99it/s]"
     ]
    },
    {
     "name": "stdout",
     "output_type": "stream",
     "text": [
      "conceptnet - wikidata DIMENSION distinctness BOTH: 266 ONLY S1: 19867 ONLY S2: 6455\n"
     ]
    },
    {
     "name": "stderr",
     "output_type": "stream",
     "text": [
      " 98%|█████████▊| 3423004/3500000 [00:02<00:00, 1178823.44it/s]\n",
      "  3%|▎         | 101771/3500000 [00:00<00:03, 962492.11it/s]\n",
      "  4%|▍         | 157101/3500000 [00:00<00:04, 819306.49it/s]"
     ]
    },
    {
     "name": "stdout",
     "output_type": "stream",
     "text": [
      "conceptnet - wikidata DIMENSION part-whole BOTH: 68 ONLY S1: 18519 ONLY S2: 8135\n"
     ]
    },
    {
     "name": "stderr",
     "output_type": "stream",
     "text": [
      " 98%|█████████▊| 3423004/3500000 [00:03<00:00, 928317.11it/s] \n",
      "  3%|▎         | 101771/3500000 [00:00<00:03, 1024059.00it/s]\n",
      "  5%|▌         | 178185/3500000 [00:00<00:03, 850688.50it/s]"
     ]
    },
    {
     "name": "stdout",
     "output_type": "stream",
     "text": [
      "conceptnet - wikidata DIMENSION lexical BOTH: 20 ONLY S1: 654991 ONLY S2: 517\n"
     ]
    },
    {
     "name": "stderr",
     "output_type": "stream",
     "text": [
      " 98%|█████████▊| 3423004/3500000 [00:03<00:00, 1040288.57it/s]\n",
      "  3%|▎         | 101771/3500000 [00:00<00:03, 893527.24it/s]\n",
      "  5%|▌         | 189323/3500000 [00:00<00:03, 888305.36it/s]"
     ]
    },
    {
     "name": "stdout",
     "output_type": "stream",
     "text": [
      "conceptnet - wikidata DIMENSION similarity BOTH: 102 ONLY S1: 243724 ONLY S2: 1223\n"
     ]
    },
    {
     "name": "stderr",
     "output_type": "stream",
     "text": [
      " 98%|█████████▊| 3423004/3500000 [00:03<00:00, 1134602.95it/s]\n",
      "  3%|▎         | 101771/3500000 [00:00<00:03, 898210.79it/s]\n",
      "  2%|▏         | 73456/3500000 [00:00<00:04, 734551.94it/s]"
     ]
    },
    {
     "name": "stdout",
     "output_type": "stream",
     "text": [
      "conceptnet - wikidata DIMENSION quality BOTH: 0 ONLY S1: 8761 ONLY S2: 1046\n"
     ]
    },
    {
     "name": "stderr",
     "output_type": "stream",
     "text": [
      " 98%|█████████▊| 3423004/3500000 [00:03<00:00, 1116755.07it/s]\n",
      "  3%|▎         | 101771/3500000 [00:00<00:03, 1038921.38it/s]\n",
      " 98%|█████████▊| 3423004/3500000 [00:02<00:00, 1147406.91it/s]\n",
      "  3%|▎         | 101771/3500000 [00:00<00:03, 937034.37it/s]\n",
      "  3%|▎         | 98310/3500000 [00:00<00:03, 983058.75it/s]"
     ]
    },
    {
     "name": "stdout",
     "output_type": "stream",
     "text": [
      "conceptnet - wikidata DIMENSION utility BOTH: 14 ONLY S1: 68669 ONLY S2: 2213\n"
     ]
    },
    {
     "name": "stderr",
     "output_type": "stream",
     "text": [
      " 98%|█████████▊| 3423004/3500000 [00:04<00:00, 730345.09it/s]\n",
      "  3%|▎         | 101771/3500000 [00:00<00:03, 961481.83it/s]\n",
      "  6%|▌         | 192641/3500000 [00:00<00:03, 901416.72it/s]"
     ]
    },
    {
     "name": "stdout",
     "output_type": "stream",
     "text": [
      "conceptnet - wikidata DIMENSION rel-other BOTH: 264 ONLY S1: 1915965 ONLY S2: 5267\n"
     ]
    },
    {
     "name": "stderr",
     "output_type": "stream",
     "text": [
      " 98%|█████████▊| 3423004/3500000 [00:02<00:00, 1161913.43it/s]\n",
      "  3%|▎         | 101771/3500000 [00:00<00:03, 963778.62it/s]\n",
      "  3%|▎         | 108033/3500000 [00:00<00:03, 1080318.15it/s]"
     ]
    },
    {
     "name": "stdout",
     "output_type": "stream",
     "text": [
      "conceptnet - wikidata DIMENSION creation BOTH: 0 ONLY S1: 262 ONLY S2: 187\n"
     ]
    },
    {
     "name": "stderr",
     "output_type": "stream",
     "text": [
      " 98%|█████████▊| 3423004/3500000 [00:03<00:00, 1090807.37it/s]\n",
      "  3%|▎         | 101771/3500000 [00:00<00:05, 650572.01it/s]\n",
      "  5%|▌         | 182395/3500000 [00:00<00:03, 845470.30it/s]"
     ]
    },
    {
     "name": "stdout",
     "output_type": "stream",
     "text": [
      "conceptnet - wikidata DIMENSION taxonomic BOTH: 1888 ONLY S1: 232819 ONLY S2: 69529\n"
     ]
    },
    {
     "name": "stderr",
     "output_type": "stream",
     "text": [
      " 98%|█████████▊| 3423004/3500000 [00:03<00:00, 1118726.06it/s]\n",
      "  3%|▎         | 101771/3500000 [00:00<00:03, 885804.40it/s]"
     ]
    },
    {
     "name": "stdout",
     "output_type": "stream",
     "text": [
      "conceptnet - wikidata DIMENSION temporal BOTH: 1 ONLY S1: 69016 ONLY S2: 2600\n"
     ]
    },
    {
     "name": "stderr",
     "output_type": "stream",
     "text": [
      "\n"
     ]
    }
   ],
   "source": [
    "for file1 in files:\n",
    "    for file2 in files:\n",
    "        if file1<file2:\n",
    "\n",
    "            for d in dimensions:\n",
    "\n",
    "                f1_triples=get_triples(file1, True, dim_mapping, d)\n",
    "                f2_triples=get_triples(file2, True, dim_mapping, d)\n",
    "                both_triples=set(f1_triples) & set(f2_triples)\n",
    "            \n",
    "                try:\n",
    "\n",
    "                    only_src2=len(set(f2_triples)-set(f1_triples))\n",
    "                    pct_only_src2=only_src2/(only_src2+len(both_triples))\n",
    "\n",
    "                    only_src1=len(set(f1_triples)-set(f2_triples))\n",
    "                    pct_only_src1=only_src1/(only_src1+len(both_triples))\n",
    "\n",
    "                    f1=file_to_source(file1)\n",
    "                    f2=file_to_source(file2)\n",
    "\n",
    "                    print(f1, '-', f2, 'DIMENSION', d, 'BOTH:', len(both_triples), 'ONLY S1:', only_src1, 'ONLY S2:', only_src2)\n",
    "                except:\n",
    "                    continue"
   ]
  },
  {
   "cell_type": "markdown",
   "metadata": {},
   "source": [
    "## Thoughts/discussion"
   ]
  },
  {
   "cell_type": "markdown",
   "metadata": {},
   "source": [
    "* also with WordNet based nodes?\n",
    "\n",
    "\n",
    "'dog' '/r/IsA' 'mammal'\n",
    "dog.n.1 '/r/IsA' mammal.n.01\n",
    "\n",
    "(There is Kypher query for this)\n",
    "\n",
    "Discussion in the paper: what does a 'failure of overlap' mean? Is it due to the label missing or due to the edge missing?"
   ]
  },
  {
   "cell_type": "code",
   "execution_count": null,
   "metadata": {},
   "outputs": [],
   "source": []
  }
 ],
 "metadata": {
  "kernelspec": {
   "display_name": "Python 3",
   "language": "python",
   "name": "python3"
  },
  "language_info": {
   "codemirror_mode": {
    "name": "ipython",
    "version": 3
   },
   "file_extension": ".py",
   "mimetype": "text/x-python",
   "name": "python",
   "nbconvert_exporter": "python",
   "pygments_lexer": "ipython3",
   "version": "3.7.9"
  }
 },
 "nbformat": 4,
 "nbformat_minor": 4
}
