{
 "cells": [
  {
   "cell_type": "markdown",
   "metadata": {},
   "source": [
    "# Analyzing CSKG\n",
    "\n",
    "This notebook performs various analyses on CSKG\n",
    "\n",
    "Parameters are set up in the first cell so that we can run this notebook in batch mode."
   ]
  },
  {
   "cell_type": "markdown",
   "metadata": {},
   "source": [
    "### Parameters for invoking the notebook\n",
    "\n",
    "- `cskg_path`: a folder containing the CSKG edges file and all the analysis products.\n",
    "- `kg`: the name of the edge file.\n",
    "- `delete_database`: whether to delete the SQL database before running the notebook: \"\" or \"no\" means don't delete it."
   ]
  },
  {
   "cell_type": "markdown",
   "metadata": {},
   "source": [
    "# Preamble\n",
    "\n",
    "**Note** Download the CSKG KGTK graph from [here](https://drive.google.com/file/d/1mFwDJxav0H4CtA9UoPiwRHvPk_Zi4h0d/view?usp=sharing) and place it in the `../output` folder.\n",
    "\n",
    "Set up paths and environment variables, make sure those varible are pointing to the correct file(path)"
   ]
  },
  {
   "cell_type": "code",
   "execution_count": 1,
   "metadata": {
    "tags": [
     "parameters"
    ]
   },
   "outputs": [],
   "source": [
    "# Parameters\n",
    "cskg_path = \"../output\" \n",
    "kg = \"cskg_connected.kgtk.gz\"\n",
    "delete_database = \"yes\""
   ]
  },
  {
   "cell_type": "code",
   "execution_count": 2,
   "metadata": {},
   "outputs": [],
   "source": [
    "import io\n",
    "import os\n",
    "import subprocess\n",
    "import sys\n",
    "\n",
    "import numpy as np\n",
    "import pandas as pd\n",
    "\n",
    "import altair as alt"
   ]
  },
  {
   "cell_type": "code",
   "execution_count": 3,
   "metadata": {},
   "outputs": [],
   "source": [
    "os.environ['CSKG'] = cskg_path\n",
    "os.environ['KG'] = \"{}/{}\".format(cskg_path, kg)\n",
    "os.environ['TMPKG'] = \"{}/{}\".format(cskg_path, \"temp.cskg.normalize.1.kgtk.gz\")\n",
    "os.environ['NKG'] = \"{}/{}\".format(cskg_path, \"cskg_normalized.tsv.gz\")\n",
    "os.environ['STORE'] = \"{}/wikidata.sqlite3.db\".format(cskg_path)\n",
    "os.environ['kypher'] = \"kgtk query\" # --graph-cache \" + os.environ['STORE']\n",
    "# os.environ['kypher'] = \"time kgtk --debug query --graph-cache \" + os.environ['STORE']"
   ]
  },
  {
   "cell_type": "code",
   "execution_count": 4,
   "metadata": {},
   "outputs": [
    {
     "name": "stdout",
     "output_type": "stream",
     "text": [
      "../output\n",
      "../output/cskg.kgtk.tsv.gz\n",
      "../output/cskg_normalized.tsv.gz\n",
      "../output/wikidata.sqlite3.db\n",
      "kgtk query\n"
     ]
    }
   ],
   "source": [
    "!echo $CSKG\n",
    "!echo $KG\n",
    "!echo $NKG\n",
    "!echo $STORE\n",
    "!echo $kypher"
   ]
  },
  {
   "cell_type": "code",
   "execution_count": 5,
   "metadata": {},
   "outputs": [
    {
     "name": "stdout",
     "output_type": "stream",
     "text": [
      "/Users/filipilievski/mcs/cskg/output\n"
     ]
    }
   ],
   "source": [
    "cd $cskg_path"
   ]
  },
  {
   "cell_type": "code",
   "execution_count": 6,
   "metadata": {},
   "outputs": [
    {
     "name": "stdout",
     "output_type": "stream",
     "text": [
      "No database exists\n"
     ]
    }
   ],
   "source": [
    "if os.path.exists(delete_database) and delete_database != \"no\":\n",
    "    print(\"Deleted database\")\n",
    "    !rm $STORE\n",
    "else:\n",
    "    print('No database exists')"
   ]
  },
  {
   "cell_type": "markdown",
   "metadata": {},
   "source": [
    "# Utilities"
   ]
  },
  {
   "cell_type": "code",
   "execution_count": 7,
   "metadata": {},
   "outputs": [],
   "source": [
    "def bar_chart(data, x_column, y_column, title=\"\", width=800):\n",
    "    \"\"\"Construct a simple bar chart with two properties\"\"\"\n",
    "    bars = alt.Chart(data).mark_bar().encode(\n",
    "        y=alt.Y(y_column, sort='-x'),\n",
    "        x=x_column\n",
    "    ).properties(\n",
    "        title=title,\n",
    "        width=width\n",
    "    )\n",
    "\n",
    "    text = bars.mark_text(\n",
    "        align='left',\n",
    "        baseline='middle',\n",
    "        dx=3  # Nudges text to right so it doesn't appear on top of the bar\n",
    "    ).encode(\n",
    "        text=x_column\n",
    "    )\n",
    "\n",
    "    return (bars + text)"
   ]
  },
  {
   "cell_type": "code",
   "execution_count": 8,
   "metadata": {},
   "outputs": [],
   "source": [
    "import io\n",
    "import pandas\n",
    "import subprocess\n",
    "\n",
    "def shell_df(command, shell=False, **kwargs):\n",
    "    \"\"\"\n",
    "    Takes a shell command as a string and and reads the result into a Pandas DataFrame.\n",
    "    \n",
    "    Additional keyword arguments are passed through to pandas.read_csv.\n",
    "    \n",
    "    :param command: a shell command that returns tabular data\n",
    "    :type command: str\n",
    "    :param shell: passed to subprocess.Popen\n",
    "    :type shell: bool\n",
    "    \n",
    "    :return: a pandas dataframe\n",
    "    :rtype: :class:`pandas.dataframe`\n",
    "    \"\"\"\n",
    "    proc = subprocess.Popen(command, \n",
    "                            shell=shell,\n",
    "                            stdout=subprocess.PIPE, \n",
    "                            stderr=subprocess.PIPE)\n",
    "    output, error = proc.communicate()\n",
    "    \n",
    "    if proc.returncode == 0:\n",
    "        if error:\n",
    "            print(error.decode())\n",
    "        with io.StringIO(output.decode()) as buffer:\n",
    "            return pandas.read_csv(buffer, **kwargs)\n",
    "    else:\n",
    "        message = (\"Shell command returned non-zero exit status: {0}\\n\\n\"\n",
    "                   \"Command was:\\n{1}\\n\\n\"\n",
    "                   \"Standard error was:\\n{2}\")\n",
    "        raise IOError(message.format(proc.returncode, command, error.decode()))"
   ]
  },
  {
   "cell_type": "markdown",
   "metadata": {},
   "source": [
    "# Poking around"
   ]
  },
  {
   "cell_type": "markdown",
   "metadata": {},
   "source": [
    "Print 10 edges to see what CSKG looks like"
   ]
  },
  {
   "cell_type": "code",
   "execution_count": 9,
   "metadata": {},
   "outputs": [
    {
     "name": "stdout",
     "output_type": "stream",
     "text": [
      "id\tnode1\trelation\tnode2\tnode1;label\tnode2;label\trelation;label\trelation;dimension\tsource\tsentence\n",
      "/c/en/0-/r/DefinedAs-/c/en/empty_set-0000\t/c/en/0\t/r/DefinedAs\t/c/en/empty_set\t\"0\"\t\"empty set\"\t\"defined as\"\t\t\"CN\"\t\"[[0]] is the [[empty set]].\"\n",
      "/c/en/0-/r/DefinedAs-/c/en/first_limit_ordinal-0000\t/c/en/0\t/r/DefinedAs\t/c/en/first_limit_ordinal\t\"0\"\t\"first limit ordinal\"\t\"defined as\"\t\t\"CN\"\t\"[[0]] is the [[first limit ordinal]].\"\n",
      "/c/en/0-/r/DefinedAs-/c/en/number_zero-0000\t/c/en/0\t/r/DefinedAs\t/c/en/number_zero\t\"0\"\t\"number zero\"\t\"defined as\"\t\t\"CN\"\t\"[[0]] is the [[number zero]].\"\n",
      "/c/en/0-/r/HasContext-/c/en/internet_slang-0000\t/c/en/0\t/r/HasContext\t/c/en/internet_slang\t\"0\"\t\"internet slang\"\t\"has context\"\t\t\"CN\"\t\n",
      "/c/en/0-/r/HasProperty-/c/en/pronounced_zero-0000\t/c/en/0\t/r/HasProperty\t/c/en/pronounced_zero\t\"0\"\t\"pronounced zero\"\t\"has property\"\t\t\"CN\"\t\"[[\\\"0\\\"]] is [[pronounced zero]]\"\n",
      "/c/en/0-/r/IsA-/c/en/set_containing_one_element-0000\t/c/en/0\t/r/IsA\t/c/en/set_containing_one_element\t\"0\"\t\"set containing one element\"\t\"is a\"\t\t\"CN\"\t\"[[{0}]] is a type of [[set containing one element]].\"\n",
      "/c/en/0-/r/RelatedTo-/c/en/1-0000\t/c/en/0\t/r/RelatedTo\t/c/en/1\t\"0\"\t\"1\"\t\"related to\"\t\t\"CN\"\t\n",
      "/c/en/0-/r/RelatedTo-/c/en/2-0000\t/c/en/0\t/r/RelatedTo\t/c/en/2\t\"0\"\t\"2\"\t\"related to\"\t\t\"CN\"\t\n",
      "/c/en/0.22_inch_calibre-/r/IsA-/c/en/5.6_millimetres-0000\t/c/en/0.22_inch_calibre\t/r/IsA\t/c/en/5.6_millimetres\t\"0.22 inch calibre\"\t\"5.6 millimetres\"\t\"is a\"\t\t\"CN\"\t\"[[0.22 inch calibre]] is [[5.6 millimetres]]\"\n",
      "/c/en/0/a/wn-/r/SimilarTo-/c/en/cardinal/a/wn-0000\t/c/en/0/a/wn\t/r/SimilarTo\t/c/en/cardinal/a/wn\t\"0\"\t\"cardinal\"\t\"similar to\"\t\t\"CN\"\t\"[[0]] is similar to [[cardinal]]\"\n"
     ]
    }
   ],
   "source": [
    "!kgtk query -i $KG \\\n",
    "--limit 10"
   ]
  },
  {
   "cell_type": "markdown",
   "metadata": {},
   "source": [
    "Normalize the file so that it is easier to process with Kypher"
   ]
  },
  {
   "cell_type": "code",
   "execution_count": 11,
   "metadata": {},
   "outputs": [
    {
     "name": "stdout",
     "output_type": "stream",
     "text": [
      "Opening the input file: ../output/cskg.kgtk.tsv.gz\n",
      "KgtkReader: File_path.suffix: .gz\n",
      "KgtkReader: reading gzip ../output/cskg.kgtk.tsv.gz\n",
      "header: id\tnode1\trelation\tnode2\tnode1;label\tnode2;label\trelation;label\trelation;dimension\tsource\tsentence\n",
      "input format: kgtk\n",
      "KgtkReader: Special columns: node1=1 label=2 node2=3 id=0\n",
      "KgtkReader: Reading an edge file.\n",
      "Node1 column name: node1\n",
      "Label column name: relation\n",
      "Node2 column name: node2\n",
      "Id column name: id\n",
      "The following columns will be lowered or normalized\n",
      " node1;label from node1 (label 'label')\n",
      " node2;label from node2 (label 'label')\n",
      " relation;label from relation (label 'label')\n",
      " relation;dimension from relation (label 'dimension')\n",
      " source from id (label 'source')\n",
      " sentence from id (label 'sentence')\n",
      "The output columns are: id node1 relation node2\n",
      "Opening the output file: ../output/temp.cskg.normalize.1.kgtk.gz\n",
      "File_path.suffix: .gz\n",
      "KgtkWriter: writing gzip ../output/temp.cskg.normalize.1.kgtk.gz\n",
      "header: id\tnode1\trelation\tnode2\n",
      "Read 6001531 rows, wrote 15116999 rows with 9115468 labels.\n"
     ]
    }
   ],
   "source": [
    "!kgtk normalize --verbose -i $KG -o $TMPKG --columns-to-lower 'relation;dimension' source sentence 'node1;label' 'relation;label' 'node2;label'"
   ]
  },
  {
   "cell_type": "code",
   "execution_count": 12,
   "metadata": {},
   "outputs": [
    {
     "name": "stdout",
     "output_type": "stream",
     "text": [
      "id\tnode1\trelation\tnode2\n",
      "/c/en/0-/r/DefinedAs-/c/en/empty_set-0000\t/c/en/0\t/r/DefinedAs\t/c/en/empty_set\n",
      "/c/en/0-/r/DefinedAs-/c/en/first_limit_ordinal-0000\t/c/en/0\t/r/DefinedAs\t/c/en/first_limit_ordinal\n",
      "/c/en/0-/r/DefinedAs-/c/en/number_zero-0000\t/c/en/0\t/r/DefinedAs\t/c/en/number_zero\n",
      "/c/en/0-/r/HasContext-/c/en/internet_slang-0000\t/c/en/0\t/r/HasContext\t/c/en/internet_slang\n",
      "/c/en/0-/r/HasProperty-/c/en/pronounced_zero-0000\t/c/en/0\t/r/HasProperty\t/c/en/pronounced_zero\n",
      "/c/en/0-/r/IsA-/c/en/set_containing_one_element-0000\t/c/en/0\t/r/IsA\t/c/en/set_containing_one_element\n",
      "/c/en/0-/r/RelatedTo-/c/en/1-0000\t/c/en/0\t/r/RelatedTo\t/c/en/1\n",
      "/c/en/0-/r/RelatedTo-/c/en/2-0000\t/c/en/0\t/r/RelatedTo\t/c/en/2\n",
      "/c/en/0.22_inch_calibre-/r/IsA-/c/en/5.6_millimetres-0000\t/c/en/0.22_inch_calibre\t/r/IsA\t/c/en/5.6_millimetres\n",
      "/c/en/0/a/wn-/r/SimilarTo-/c/en/cardinal/a/wn-0000\t/c/en/0/a/wn\t/r/SimilarTo\t/c/en/cardinal/a/wn\n"
     ]
    }
   ],
   "source": [
    "!kgtk query -i $TMPKG \\\n",
    "--limit 10"
   ]
  },
  {
   "cell_type": "markdown",
   "metadata": {},
   "source": [
    "Rename the columns to the standard `node1/label/node2` and add ids"
   ]
  },
  {
   "cell_type": "code",
   "execution_count": 13,
   "metadata": {},
   "outputs": [],
   "source": [
    "!kgtk rename-columns --mode NONE -i $TMPKG --output-columns id node1 label node2 \\\n",
    "/ add-id --id-style node1-label-node2 -o $NKG"
   ]
  },
  {
   "cell_type": "markdown",
   "metadata": {},
   "source": [
    "Count the number of edges and nodes"
   ]
  },
  {
   "cell_type": "code",
   "execution_count": 14,
   "metadata": {},
   "outputs": [
    {
     "name": "stdout",
     "output_type": "stream",
     "text": [
      "num_edges  num_nodes  num_relations  num_values\n",
      "15116999   8162557    61             3284811\n"
     ]
    }
   ],
   "source": [
    "!kgtk query -i $NKG \\\n",
    "--match '(n1)-[e]->(n2)' \\\n",
    "--return 'count(e) as num_edges, count(distinct n1) as num_nodes, count(distinct e.label) as num_relations, count(distinct n2) as num_values' \\\n",
    "| column -t -s $'\\t' "
   ]
  },
  {
   "cell_type": "markdown",
   "metadata": {},
   "source": [
    "# Some Statistics"
   ]
  },
  {
   "cell_type": "code",
   "execution_count": 15,
   "metadata": {},
   "outputs": [],
   "source": [
    "command = \"$kypher -i $NKG \\\n",
    "--match '(n1)-[e]->(n2)' \\\n",
    "--return 'distinct e.label, count(distinct n1) as nodes' \\\n",
    "--order-by 'count(distinct n1) desc'\"\n",
    "stats = shell_df(command, shell=True, sep='\\t')"
   ]
  },
  {
   "cell_type": "code",
   "execution_count": 16,
   "metadata": {},
   "outputs": [
    {
     "data": {
      "text/html": [
       "\n",
       "<div id=\"altair-viz-5decc84168f944a389002de650d5e20f\"></div>\n",
       "<script type=\"text/javascript\">\n",
       "  (function(spec, embedOpt){\n",
       "    let outputDiv = document.currentScript.previousElementSibling;\n",
       "    if (outputDiv.id !== \"altair-viz-5decc84168f944a389002de650d5e20f\") {\n",
       "      outputDiv = document.getElementById(\"altair-viz-5decc84168f944a389002de650d5e20f\");\n",
       "    }\n",
       "    const paths = {\n",
       "      \"vega\": \"https://cdn.jsdelivr.net/npm//vega@5?noext\",\n",
       "      \"vega-lib\": \"https://cdn.jsdelivr.net/npm//vega-lib?noext\",\n",
       "      \"vega-lite\": \"https://cdn.jsdelivr.net/npm//vega-lite@4.8.1?noext\",\n",
       "      \"vega-embed\": \"https://cdn.jsdelivr.net/npm//vega-embed@6?noext\",\n",
       "    };\n",
       "\n",
       "    function loadScript(lib) {\n",
       "      return new Promise(function(resolve, reject) {\n",
       "        var s = document.createElement('script');\n",
       "        s.src = paths[lib];\n",
       "        s.async = true;\n",
       "        s.onload = () => resolve(paths[lib]);\n",
       "        s.onerror = () => reject(`Error loading script: ${paths[lib]}`);\n",
       "        document.getElementsByTagName(\"head\")[0].appendChild(s);\n",
       "      });\n",
       "    }\n",
       "\n",
       "    function showError(err) {\n",
       "      outputDiv.innerHTML = `<div class=\"error\" style=\"color:red;\">${err}</div>`;\n",
       "      throw err;\n",
       "    }\n",
       "\n",
       "    function displayChart(vegaEmbed) {\n",
       "      vegaEmbed(outputDiv, spec, embedOpt)\n",
       "        .catch(err => showError(`Javascript Error: ${err.message}<br>This usually means there's a typo in your chart specification. See the javascript console for the full traceback.`));\n",
       "    }\n",
       "\n",
       "    if(typeof define === \"function\" && define.amd) {\n",
       "      requirejs.config({paths});\n",
       "      require([\"vega-embed\"], displayChart, err => showError(`Error loading script: ${err.message}`));\n",
       "    } else if (typeof vegaEmbed === \"function\") {\n",
       "      displayChart(vegaEmbed);\n",
       "    } else {\n",
       "      loadScript(\"vega\")\n",
       "        .then(() => loadScript(\"vega-lite\"))\n",
       "        .then(() => loadScript(\"vega-embed\"))\n",
       "        .catch(showError)\n",
       "        .then(() => displayChart(vegaEmbed));\n",
       "    }\n",
       "  })({\"config\": {\"view\": {\"continuousWidth\": 400, \"continuousHeight\": 300}}, \"layer\": [{\"mark\": \"bar\", \"encoding\": {\"x\": {\"type\": \"quantitative\", \"field\": \"nodes\"}, \"y\": {\"type\": \"nominal\", \"field\": \"label\", \"sort\": \"-x\"}}, \"title\": \"Relations in CSKG\", \"width\": 800}, {\"mark\": {\"type\": \"text\", \"align\": \"left\", \"baseline\": \"middle\", \"dx\": 3}, \"encoding\": {\"text\": {\"type\": \"quantitative\", \"field\": \"nodes\"}, \"x\": {\"type\": \"quantitative\", \"field\": \"nodes\"}, \"y\": {\"type\": \"nominal\", \"field\": \"label\", \"sort\": \"-x\"}}, \"title\": \"Relations in CSKG\", \"width\": 800}], \"data\": {\"name\": \"data-4043885cf85e053422fe923980c80b4e\"}, \"$schema\": \"https://vega.github.io/schema/vega-lite/v4.8.1.json\", \"datasets\": {\"data-4043885cf85e053422fe923980c80b4e\": [{\"label\": \"source\", \"nodes\": 6001531}, {\"label\": \"label\", \"nodes\": 2161026}, {\"label\": \"sentence\", \"nodes\": 604768}, {\"label\": \"/r/RelatedTo\", \"nodes\": 555086}, {\"label\": \"/r/FormOf\", \"nodes\": 376992}, {\"label\": \"/r/DerivedFrom\", \"nodes\": 262822}, {\"label\": \"/r/IsA\", \"nodes\": 237715}, {\"label\": \"/r/Synonym\", \"nodes\": 229295}, {\"label\": \"/r/HasContext\", \"nodes\": 182829}, {\"label\": \"/r/Antonym\", \"nodes\": 37990}, {\"label\": \"/r/PartOf\", \"nodes\": 26890}, {\"label\": \"at:xReact\", \"nodes\": 24312}, {\"label\": \"at:xAttr\", \"nodes\": 24312}, {\"label\": \"at:xWant\", \"nodes\": 24158}, {\"label\": \"at:xEffect\", \"nodes\": 23255}, {\"label\": \"at:xNeed\", \"nodes\": 22146}, {\"label\": \"/r/EtymologicallyRelatedTo\", \"nodes\": 21667}, {\"label\": \"at:xIntent\", \"nodes\": 21371}, {\"label\": \"/r/SimilarTo\", \"nodes\": 15951}, {\"label\": \"at:oWant\", \"nodes\": 14669}]}}, {\"mode\": \"vega-lite\"});\n",
       "</script>"
      ],
      "text/plain": [
       "alt.LayerChart(...)"
      ]
     },
     "execution_count": 16,
     "metadata": {},
     "output_type": "execute_result"
    }
   ],
   "source": [
    "bar_chart(stats[:20], 'nodes', 'label', title=\"Relations in CSKG\")"
   ]
  },
  {
   "cell_type": "markdown",
   "metadata": {},
   "source": [
    "### Distribution of edges in each data source"
   ]
  },
  {
   "cell_type": "code",
   "execution_count": 17,
   "metadata": {},
   "outputs": [
    {
     "data": {
      "text/html": [
       "\n",
       "<div id=\"altair-viz-3fb37d965fd14143b865475c2cb45311\"></div>\n",
       "<script type=\"text/javascript\">\n",
       "  (function(spec, embedOpt){\n",
       "    let outputDiv = document.currentScript.previousElementSibling;\n",
       "    if (outputDiv.id !== \"altair-viz-3fb37d965fd14143b865475c2cb45311\") {\n",
       "      outputDiv = document.getElementById(\"altair-viz-3fb37d965fd14143b865475c2cb45311\");\n",
       "    }\n",
       "    const paths = {\n",
       "      \"vega\": \"https://cdn.jsdelivr.net/npm//vega@5?noext\",\n",
       "      \"vega-lib\": \"https://cdn.jsdelivr.net/npm//vega-lib?noext\",\n",
       "      \"vega-lite\": \"https://cdn.jsdelivr.net/npm//vega-lite@4.8.1?noext\",\n",
       "      \"vega-embed\": \"https://cdn.jsdelivr.net/npm//vega-embed@6?noext\",\n",
       "    };\n",
       "\n",
       "    function loadScript(lib) {\n",
       "      return new Promise(function(resolve, reject) {\n",
       "        var s = document.createElement('script');\n",
       "        s.src = paths[lib];\n",
       "        s.async = true;\n",
       "        s.onload = () => resolve(paths[lib]);\n",
       "        s.onerror = () => reject(`Error loading script: ${paths[lib]}`);\n",
       "        document.getElementsByTagName(\"head\")[0].appendChild(s);\n",
       "      });\n",
       "    }\n",
       "\n",
       "    function showError(err) {\n",
       "      outputDiv.innerHTML = `<div class=\"error\" style=\"color:red;\">${err}</div>`;\n",
       "      throw err;\n",
       "    }\n",
       "\n",
       "    function displayChart(vegaEmbed) {\n",
       "      vegaEmbed(outputDiv, spec, embedOpt)\n",
       "        .catch(err => showError(`Javascript Error: ${err.message}<br>This usually means there's a typo in your chart specification. See the javascript console for the full traceback.`));\n",
       "    }\n",
       "\n",
       "    if(typeof define === \"function\" && define.amd) {\n",
       "      requirejs.config({paths});\n",
       "      require([\"vega-embed\"], displayChart, err => showError(`Error loading script: ${err.message}`));\n",
       "    } else if (typeof vegaEmbed === \"function\") {\n",
       "      displayChart(vegaEmbed);\n",
       "    } else {\n",
       "      loadScript(\"vega\")\n",
       "        .then(() => loadScript(\"vega-lite\"))\n",
       "        .then(() => loadScript(\"vega-embed\"))\n",
       "        .catch(showError)\n",
       "        .then(() => displayChart(vegaEmbed));\n",
       "    }\n",
       "  })({\"config\": {\"view\": {\"continuousWidth\": 400, \"continuousHeight\": 300}}, \"layer\": [{\"mark\": \"bar\", \"encoding\": {\"x\": {\"type\": \"quantitative\", \"field\": \"count of relations\"}, \"y\": {\"type\": \"nominal\", \"field\": \"source\", \"sort\": \"-x\"}}, \"title\": \"CSKG Relation Counts\", \"width\": 800}, {\"mark\": {\"type\": \"text\", \"align\": \"left\", \"baseline\": \"middle\", \"dx\": 3}, \"encoding\": {\"text\": {\"type\": \"quantitative\", \"field\": \"count of relations\"}, \"x\": {\"type\": \"quantitative\", \"field\": \"count of relations\"}, \"y\": {\"type\": \"nominal\", \"field\": \"source\", \"sort\": \"-x\"}}, \"title\": \"CSKG Relation Counts\", \"width\": 800}], \"data\": {\"name\": \"data-b7239545360498f74365cbd21e4ede7a\"}, \"$schema\": \"https://vega.github.io/schema/vega-lite/v4.8.1.json\", \"datasets\": {\"data-b7239545360498f74365cbd21e4ede7a\": [{\"source\": \"CN\", \"count of relations\": 3421092}, {\"source\": \"RG\", \"count of relations\": 1403461}, {\"source\": \"AT\", \"count of relations\": 711453}, {\"source\": \"VG\", \"count of relations\": 266027}, {\"source\": \"WN\", \"count of relations\": 108634}, {\"source\": \"WD\", \"count of relations\": 101771}, {\"source\": \"FNC\", \"count of relations\": 45659}, {\"source\": \"FN\", \"count of relations\": 27336}]}}, {\"mode\": \"vega-lite\"});\n",
       "</script>"
      ],
      "text/plain": [
       "alt.LayerChart(...)"
      ]
     },
     "execution_count": 17,
     "metadata": {},
     "output_type": "execute_result"
    }
   ],
   "source": [
    "command = \"$kypher -i $NKG \\\n",
    "--match '(n1)-[r]->(n2), (r)-[l:source]->(s)' \\\n",
    "--return 's as source, count(distinct r) as `count of relations`' \\\n",
    "--order-by 'count(distinct r) desc'\"\n",
    "data = shell_df(command, shell=True, sep='\\t')\n",
    "bar_chart(data, 'count of relations', 'source', title=\"CSKG Relation Counts\")"
   ]
  },
  {
   "cell_type": "markdown",
   "metadata": {},
   "source": [
    "Compute the distribuiton of relations in each data source"
   ]
  },
  {
   "cell_type": "code",
   "execution_count": 18,
   "metadata": {},
   "outputs": [],
   "source": [
    "command = \"$kypher -i $NKG \\\n",
    "--match '(n1)-[r {label: label}]->(n2), (r)-[:source]->(source:`\\\"SOURCE\\\"`)' \\\n",
    "--return 'label as relation, count(distinct n1) as count' \\\n",
    "--order-by 'count(distinct n1) desc'\"\n",
    "datasets = []\n",
    "for source in [\"CN\", \"WN\", \"AT\", \"VG\", \"FN\", \"WD\", \"RG\"]:\n",
    "    data = shell_df(command.replace(\"SOURCE\", source), shell=True, sep='\\t')\n",
    "    datasets.append(data)"
   ]
  },
  {
   "cell_type": "code",
   "execution_count": 19,
   "metadata": {},
   "outputs": [
    {
     "data": {
      "text/html": [
       "\n",
       "<div id=\"altair-viz-9c3e53e0d7034fb2b7a76e9b10479fd9\"></div>\n",
       "<script type=\"text/javascript\">\n",
       "  (function(spec, embedOpt){\n",
       "    let outputDiv = document.currentScript.previousElementSibling;\n",
       "    if (outputDiv.id !== \"altair-viz-9c3e53e0d7034fb2b7a76e9b10479fd9\") {\n",
       "      outputDiv = document.getElementById(\"altair-viz-9c3e53e0d7034fb2b7a76e9b10479fd9\");\n",
       "    }\n",
       "    const paths = {\n",
       "      \"vega\": \"https://cdn.jsdelivr.net/npm//vega@5?noext\",\n",
       "      \"vega-lib\": \"https://cdn.jsdelivr.net/npm//vega-lib?noext\",\n",
       "      \"vega-lite\": \"https://cdn.jsdelivr.net/npm//vega-lite@4.8.1?noext\",\n",
       "      \"vega-embed\": \"https://cdn.jsdelivr.net/npm//vega-embed@6?noext\",\n",
       "    };\n",
       "\n",
       "    function loadScript(lib) {\n",
       "      return new Promise(function(resolve, reject) {\n",
       "        var s = document.createElement('script');\n",
       "        s.src = paths[lib];\n",
       "        s.async = true;\n",
       "        s.onload = () => resolve(paths[lib]);\n",
       "        s.onerror = () => reject(`Error loading script: ${paths[lib]}`);\n",
       "        document.getElementsByTagName(\"head\")[0].appendChild(s);\n",
       "      });\n",
       "    }\n",
       "\n",
       "    function showError(err) {\n",
       "      outputDiv.innerHTML = `<div class=\"error\" style=\"color:red;\">${err}</div>`;\n",
       "      throw err;\n",
       "    }\n",
       "\n",
       "    function displayChart(vegaEmbed) {\n",
       "      vegaEmbed(outputDiv, spec, embedOpt)\n",
       "        .catch(err => showError(`Javascript Error: ${err.message}<br>This usually means there's a typo in your chart specification. See the javascript console for the full traceback.`));\n",
       "    }\n",
       "\n",
       "    if(typeof define === \"function\" && define.amd) {\n",
       "      requirejs.config({paths});\n",
       "      require([\"vega-embed\"], displayChart, err => showError(`Error loading script: ${err.message}`));\n",
       "    } else if (typeof vegaEmbed === \"function\") {\n",
       "      displayChart(vegaEmbed);\n",
       "    } else {\n",
       "      loadScript(\"vega\")\n",
       "        .then(() => loadScript(\"vega-lite\"))\n",
       "        .then(() => loadScript(\"vega-embed\"))\n",
       "        .catch(showError)\n",
       "        .then(() => displayChart(vegaEmbed));\n",
       "    }\n",
       "  })({\"config\": {\"view\": {\"continuousWidth\": 400, \"continuousHeight\": 300}}, \"layer\": [{\"mark\": \"bar\", \"encoding\": {\"x\": {\"type\": \"quantitative\", \"field\": \"count\"}, \"y\": {\"type\": \"nominal\", \"field\": \"relation\", \"sort\": \"-x\"}}, \"title\": \"ConceptNet: Count Of Relations\", \"width\": 200}, {\"mark\": {\"type\": \"text\", \"align\": \"left\", \"baseline\": \"middle\", \"dx\": 3}, \"encoding\": {\"text\": {\"type\": \"quantitative\", \"field\": \"count\"}, \"x\": {\"type\": \"quantitative\", \"field\": \"count\"}, \"y\": {\"type\": \"nominal\", \"field\": \"relation\", \"sort\": \"-x\"}}, \"title\": \"ConceptNet: Count Of Relations\", \"width\": 200}], \"data\": {\"name\": \"data-798d540351abed16b8954127cdf1c795\"}, \"$schema\": \"https://vega.github.io/schema/vega-lite/v4.8.1.json\", \"datasets\": {\"data-798d540351abed16b8954127cdf1c795\": [{\"relation\": \"/r/RelatedTo\", \"count\": 554792}, {\"relation\": \"/r/FormOf\", \"count\": 376992}, {\"relation\": \"/r/DerivedFrom\", \"count\": 262298}, {\"relation\": \"/r/HasContext\", \"count\": 177923}, {\"relation\": \"/r/Synonym\", \"count\": 177586}, {\"relation\": \"/r/IsA\", \"count\": 170900}, {\"relation\": \"/r/EtymologicallyRelatedTo\", \"count\": 21667}, {\"relation\": \"/r/SimilarTo\", \"count\": 15540}, {\"relation\": \"/r/Antonym\", \"count\": 12371}, {\"relation\": \"/r/PartOf\", \"count\": 10520}, {\"relation\": \"/r/AtLocation\", \"count\": 9958}, {\"relation\": \"/r/MannerOf\", \"count\": 9896}, {\"relation\": \"/r/CapableOf\", \"count\": 8526}, {\"relation\": \"/r/HasProperty\", \"count\": 6036}, {\"relation\": \"/r/UsedFor\", \"count\": 4055}, {\"relation\": \"/r/ReceivesAction\", \"count\": 3822}, {\"relation\": \"/r/CausesDesire\", \"count\": 3581}, {\"relation\": \"/r/HasA\", \"count\": 3358}, {\"relation\": \"/r/dbpedia/genus\", \"count\": 2924}, {\"relation\": \"/r/dbpedia/genre\", \"count\": 2146}, {\"relation\": \"/r/HasSubevent\", \"count\": 1989}, {\"relation\": \"/r/DefinedAs\", \"count\": 1837}, {\"relation\": \"/r/HasPrerequisite\", \"count\": 1731}, {\"relation\": \"/r/DistinctFrom\", \"count\": 1595}, {\"relation\": \"/r/Causes\", \"count\": 1511}, {\"relation\": \"/r/InstanceOf\", \"count\": 1404}, {\"relation\": \"/r/MotivatedByGoal\", \"count\": 969}, {\"relation\": \"/r/dbpedia/language\", \"count\": 732}, {\"relation\": \"/r/HasFirstSubevent\", \"count\": 672}, {\"relation\": \"/r/dbpedia/occupation\", \"count\": 648}, {\"relation\": \"/r/HasLastSubevent\", \"count\": 625}, {\"relation\": \"/r/MadeOf\", \"count\": 435}, {\"relation\": \"/r/Desires\", \"count\": 415}, {\"relation\": \"/r/dbpedia/field\", \"count\": 409}, {\"relation\": \"/r/dbpedia/capital\", \"count\": 403}, {\"relation\": \"/r/Entails\", \"count\": 378}, {\"relation\": \"/r/dbpedia/knownFor\", \"count\": 360}, {\"relation\": \"/r/dbpedia/influencedBy\", \"count\": 344}, {\"relation\": \"/r/NotHasProperty\", \"count\": 297}, {\"relation\": \"/r/NotDesires\", \"count\": 255}, {\"relation\": \"/r/dbpedia/product\", \"count\": 244}, {\"relation\": \"/r/NotCapableOf\", \"count\": 223}, {\"relation\": \"/r/CreatedBy\", \"count\": 203}, {\"relation\": \"/r/EtymologicallyDerivedFrom\", \"count\": 71}, {\"relation\": \"/r/dbpedia/leader\", \"count\": 69}, {\"relation\": \"/r/LocatedNear\", \"count\": 48}, {\"relation\": \"/r/SymbolOf\", \"count\": 4}]}}, {\"mode\": \"vega-lite\"});\n",
       "</script>"
      ],
      "text/plain": [
       "alt.LayerChart(...)"
      ]
     },
     "execution_count": 19,
     "metadata": {},
     "output_type": "execute_result"
    }
   ],
   "source": [
    "bar_chart(datasets[0], 'count', 'relation', title=\"ConceptNet: Count Of Relations\", width=200)"
   ]
  },
  {
   "cell_type": "code",
   "execution_count": 20,
   "metadata": {},
   "outputs": [
    {
     "data": {
      "text/html": [
       "\n",
       "<div id=\"altair-viz-1c0d27dc34a94f86b3af4decb5c2a0c2\"></div>\n",
       "<script type=\"text/javascript\">\n",
       "  (function(spec, embedOpt){\n",
       "    let outputDiv = document.currentScript.previousElementSibling;\n",
       "    if (outputDiv.id !== \"altair-viz-1c0d27dc34a94f86b3af4decb5c2a0c2\") {\n",
       "      outputDiv = document.getElementById(\"altair-viz-1c0d27dc34a94f86b3af4decb5c2a0c2\");\n",
       "    }\n",
       "    const paths = {\n",
       "      \"vega\": \"https://cdn.jsdelivr.net/npm//vega@5?noext\",\n",
       "      \"vega-lib\": \"https://cdn.jsdelivr.net/npm//vega-lib?noext\",\n",
       "      \"vega-lite\": \"https://cdn.jsdelivr.net/npm//vega-lite@4.8.1?noext\",\n",
       "      \"vega-embed\": \"https://cdn.jsdelivr.net/npm//vega-embed@6?noext\",\n",
       "    };\n",
       "\n",
       "    function loadScript(lib) {\n",
       "      return new Promise(function(resolve, reject) {\n",
       "        var s = document.createElement('script');\n",
       "        s.src = paths[lib];\n",
       "        s.async = true;\n",
       "        s.onload = () => resolve(paths[lib]);\n",
       "        s.onerror = () => reject(`Error loading script: ${paths[lib]}`);\n",
       "        document.getElementsByTagName(\"head\")[0].appendChild(s);\n",
       "      });\n",
       "    }\n",
       "\n",
       "    function showError(err) {\n",
       "      outputDiv.innerHTML = `<div class=\"error\" style=\"color:red;\">${err}</div>`;\n",
       "      throw err;\n",
       "    }\n",
       "\n",
       "    function displayChart(vegaEmbed) {\n",
       "      vegaEmbed(outputDiv, spec, embedOpt)\n",
       "        .catch(err => showError(`Javascript Error: ${err.message}<br>This usually means there's a typo in your chart specification. See the javascript console for the full traceback.`));\n",
       "    }\n",
       "\n",
       "    if(typeof define === \"function\" && define.amd) {\n",
       "      requirejs.config({paths});\n",
       "      require([\"vega-embed\"], displayChart, err => showError(`Error loading script: ${err.message}`));\n",
       "    } else if (typeof vegaEmbed === \"function\") {\n",
       "      displayChart(vegaEmbed);\n",
       "    } else {\n",
       "      loadScript(\"vega\")\n",
       "        .then(() => loadScript(\"vega-lite\"))\n",
       "        .then(() => loadScript(\"vega-embed\"))\n",
       "        .catch(showError)\n",
       "        .then(() => displayChart(vegaEmbed));\n",
       "    }\n",
       "  })({\"config\": {\"view\": {\"continuousWidth\": 400, \"continuousHeight\": 300}}, \"layer\": [{\"mark\": \"bar\", \"encoding\": {\"x\": {\"type\": \"quantitative\", \"field\": \"count\"}, \"y\": {\"type\": \"nominal\", \"field\": \"relation\", \"sort\": \"-x\"}}, \"title\": \"WordNet: Count Of Relations\", \"width\": 200}, {\"mark\": {\"type\": \"text\", \"align\": \"left\", \"baseline\": \"middle\", \"dx\": 3}, \"encoding\": {\"text\": {\"type\": \"quantitative\", \"field\": \"count\"}, \"x\": {\"type\": \"quantitative\", \"field\": \"count\"}, \"y\": {\"type\": \"nominal\", \"field\": \"relation\", \"sort\": \"-x\"}}, \"title\": \"WordNet: Count Of Relations\", \"width\": 200}], \"data\": {\"name\": \"data-36865530ba4880c0e5be93783760de01\"}, \"$schema\": \"https://vega.github.io/schema/vega-lite/v4.8.1.json\", \"datasets\": {\"data-36865530ba4880c0e5be93783760de01\": [{\"relation\": \"/r/IsA\", \"count\": 69835}, {\"relation\": \"/r/PartOf\", \"count\": 17953}, {\"relation\": \"/r/MadeOf\", \"count\": 643}]}}, {\"mode\": \"vega-lite\"});\n",
       "</script>"
      ],
      "text/plain": [
       "alt.LayerChart(...)"
      ]
     },
     "execution_count": 20,
     "metadata": {},
     "output_type": "execute_result"
    }
   ],
   "source": [
    "bar_chart(datasets[1], 'count', 'relation', title=\"WordNet: Count Of Relations\", width=200)"
   ]
  },
  {
   "cell_type": "code",
   "execution_count": 21,
   "metadata": {},
   "outputs": [
    {
     "data": {
      "text/html": [
       "\n",
       "<div id=\"altair-viz-4b1afdfffeb0490793821fc459e41185\"></div>\n",
       "<script type=\"text/javascript\">\n",
       "  (function(spec, embedOpt){\n",
       "    let outputDiv = document.currentScript.previousElementSibling;\n",
       "    if (outputDiv.id !== \"altair-viz-4b1afdfffeb0490793821fc459e41185\") {\n",
       "      outputDiv = document.getElementById(\"altair-viz-4b1afdfffeb0490793821fc459e41185\");\n",
       "    }\n",
       "    const paths = {\n",
       "      \"vega\": \"https://cdn.jsdelivr.net/npm//vega@5?noext\",\n",
       "      \"vega-lib\": \"https://cdn.jsdelivr.net/npm//vega-lib?noext\",\n",
       "      \"vega-lite\": \"https://cdn.jsdelivr.net/npm//vega-lite@4.8.1?noext\",\n",
       "      \"vega-embed\": \"https://cdn.jsdelivr.net/npm//vega-embed@6?noext\",\n",
       "    };\n",
       "\n",
       "    function loadScript(lib) {\n",
       "      return new Promise(function(resolve, reject) {\n",
       "        var s = document.createElement('script');\n",
       "        s.src = paths[lib];\n",
       "        s.async = true;\n",
       "        s.onload = () => resolve(paths[lib]);\n",
       "        s.onerror = () => reject(`Error loading script: ${paths[lib]}`);\n",
       "        document.getElementsByTagName(\"head\")[0].appendChild(s);\n",
       "      });\n",
       "    }\n",
       "\n",
       "    function showError(err) {\n",
       "      outputDiv.innerHTML = `<div class=\"error\" style=\"color:red;\">${err}</div>`;\n",
       "      throw err;\n",
       "    }\n",
       "\n",
       "    function displayChart(vegaEmbed) {\n",
       "      vegaEmbed(outputDiv, spec, embedOpt)\n",
       "        .catch(err => showError(`Javascript Error: ${err.message}<br>This usually means there's a typo in your chart specification. See the javascript console for the full traceback.`));\n",
       "    }\n",
       "\n",
       "    if(typeof define === \"function\" && define.amd) {\n",
       "      requirejs.config({paths});\n",
       "      require([\"vega-embed\"], displayChart, err => showError(`Error loading script: ${err.message}`));\n",
       "    } else if (typeof vegaEmbed === \"function\") {\n",
       "      displayChart(vegaEmbed);\n",
       "    } else {\n",
       "      loadScript(\"vega\")\n",
       "        .then(() => loadScript(\"vega-lite\"))\n",
       "        .then(() => loadScript(\"vega-embed\"))\n",
       "        .catch(showError)\n",
       "        .then(() => displayChart(vegaEmbed));\n",
       "    }\n",
       "  })({\"config\": {\"view\": {\"continuousWidth\": 400, \"continuousHeight\": 300}}, \"layer\": [{\"mark\": \"bar\", \"encoding\": {\"x\": {\"type\": \"quantitative\", \"field\": \"count\"}, \"y\": {\"type\": \"nominal\", \"field\": \"relation\", \"sort\": \"-x\"}}, \"title\": \"Atomic: Count Of Relations\", \"width\": 200}, {\"mark\": {\"type\": \"text\", \"align\": \"left\", \"baseline\": \"middle\", \"dx\": 3}, \"encoding\": {\"text\": {\"type\": \"quantitative\", \"field\": \"count\"}, \"x\": {\"type\": \"quantitative\", \"field\": \"count\"}, \"y\": {\"type\": \"nominal\", \"field\": \"relation\", \"sort\": \"-x\"}}, \"title\": \"Atomic: Count Of Relations\", \"width\": 200}], \"data\": {\"name\": \"data-a65bab0bb98d9d35058867e51ea5200c\"}, \"$schema\": \"https://vega.github.io/schema/vega-lite/v4.8.1.json\", \"datasets\": {\"data-a65bab0bb98d9d35058867e51ea5200c\": [{\"relation\": \"at:xReact\", \"count\": 24312}, {\"relation\": \"at:xAttr\", \"count\": 24312}, {\"relation\": \"at:xWant\", \"count\": 24158}, {\"relation\": \"at:xEffect\", \"count\": 23255}, {\"relation\": \"at:xNeed\", \"count\": 22146}, {\"relation\": \"at:xIntent\", \"count\": 21371}, {\"relation\": \"at:oWant\", \"count\": 14669}, {\"relation\": \"at:oReact\", \"count\": 14070}, {\"relation\": \"at:oEffect\", \"count\": 10895}]}}, {\"mode\": \"vega-lite\"});\n",
       "</script>"
      ],
      "text/plain": [
       "alt.LayerChart(...)"
      ]
     },
     "execution_count": 21,
     "metadata": {},
     "output_type": "execute_result"
    }
   ],
   "source": [
    "bar_chart(datasets[2], 'count', 'relation', title=\"Atomic: Count Of Relations\", width=200)"
   ]
  },
  {
   "cell_type": "code",
   "execution_count": 22,
   "metadata": {},
   "outputs": [
    {
     "data": {
      "text/html": [
       "\n",
       "<div id=\"altair-viz-432d166485994831ad9da263db459ee7\"></div>\n",
       "<script type=\"text/javascript\">\n",
       "  (function(spec, embedOpt){\n",
       "    let outputDiv = document.currentScript.previousElementSibling;\n",
       "    if (outputDiv.id !== \"altair-viz-432d166485994831ad9da263db459ee7\") {\n",
       "      outputDiv = document.getElementById(\"altair-viz-432d166485994831ad9da263db459ee7\");\n",
       "    }\n",
       "    const paths = {\n",
       "      \"vega\": \"https://cdn.jsdelivr.net/npm//vega@5?noext\",\n",
       "      \"vega-lib\": \"https://cdn.jsdelivr.net/npm//vega-lib?noext\",\n",
       "      \"vega-lite\": \"https://cdn.jsdelivr.net/npm//vega-lite@4.8.1?noext\",\n",
       "      \"vega-embed\": \"https://cdn.jsdelivr.net/npm//vega-embed@6?noext\",\n",
       "    };\n",
       "\n",
       "    function loadScript(lib) {\n",
       "      return new Promise(function(resolve, reject) {\n",
       "        var s = document.createElement('script');\n",
       "        s.src = paths[lib];\n",
       "        s.async = true;\n",
       "        s.onload = () => resolve(paths[lib]);\n",
       "        s.onerror = () => reject(`Error loading script: ${paths[lib]}`);\n",
       "        document.getElementsByTagName(\"head\")[0].appendChild(s);\n",
       "      });\n",
       "    }\n",
       "\n",
       "    function showError(err) {\n",
       "      outputDiv.innerHTML = `<div class=\"error\" style=\"color:red;\">${err}</div>`;\n",
       "      throw err;\n",
       "    }\n",
       "\n",
       "    function displayChart(vegaEmbed) {\n",
       "      vegaEmbed(outputDiv, spec, embedOpt)\n",
       "        .catch(err => showError(`Javascript Error: ${err.message}<br>This usually means there's a typo in your chart specification. See the javascript console for the full traceback.`));\n",
       "    }\n",
       "\n",
       "    if(typeof define === \"function\" && define.amd) {\n",
       "      requirejs.config({paths});\n",
       "      require([\"vega-embed\"], displayChart, err => showError(`Error loading script: ${err.message}`));\n",
       "    } else if (typeof vegaEmbed === \"function\") {\n",
       "      displayChart(vegaEmbed);\n",
       "    } else {\n",
       "      loadScript(\"vega\")\n",
       "        .then(() => loadScript(\"vega-lite\"))\n",
       "        .then(() => loadScript(\"vega-embed\"))\n",
       "        .catch(showError)\n",
       "        .then(() => displayChart(vegaEmbed));\n",
       "    }\n",
       "  })({\"config\": {\"view\": {\"continuousWidth\": 400, \"continuousHeight\": 300}}, \"layer\": [{\"mark\": \"bar\", \"encoding\": {\"x\": {\"type\": \"quantitative\", \"field\": \"count\"}, \"y\": {\"type\": \"nominal\", \"field\": \"relation\", \"sort\": \"-x\"}}, \"title\": \"Visual Genome: Count Of Relations\", \"width\": 200}, {\"mark\": {\"type\": \"text\", \"align\": \"left\", \"baseline\": \"middle\", \"dx\": 3}, \"encoding\": {\"text\": {\"type\": \"quantitative\", \"field\": \"count\"}, \"x\": {\"type\": \"quantitative\", \"field\": \"count\"}, \"y\": {\"type\": \"nominal\", \"field\": \"relation\", \"sort\": \"-x\"}}, \"title\": \"Visual Genome: Count Of Relations\", \"width\": 200}], \"data\": {\"name\": \"data-6b33f1418c0533a861516cd53d6b677a\"}, \"$schema\": \"https://vega.github.io/schema/vega-lite/v4.8.1.json\", \"datasets\": {\"data-6b33f1418c0533a861516cd53d6b677a\": [{\"relation\": \"/r/LocatedNear\", \"count\": 5680}, {\"relation\": \"mw:MayHaveProperty\", \"count\": 5037}, {\"relation\": \"/r/CapableOf\", \"count\": 2381}]}}, {\"mode\": \"vega-lite\"});\n",
       "</script>"
      ],
      "text/plain": [
       "alt.LayerChart(...)"
      ]
     },
     "execution_count": 22,
     "metadata": {},
     "output_type": "execute_result"
    }
   ],
   "source": [
    "bar_chart(datasets[3], 'count', 'relation', title=\"Visual Genome: Count Of Relations\", width=200)"
   ]
  },
  {
   "cell_type": "code",
   "execution_count": 23,
   "metadata": {},
   "outputs": [
    {
     "data": {
      "text/html": [
       "\n",
       "<div id=\"altair-viz-19b1053ed3674b7bb4da2c666147663a\"></div>\n",
       "<script type=\"text/javascript\">\n",
       "  (function(spec, embedOpt){\n",
       "    let outputDiv = document.currentScript.previousElementSibling;\n",
       "    if (outputDiv.id !== \"altair-viz-19b1053ed3674b7bb4da2c666147663a\") {\n",
       "      outputDiv = document.getElementById(\"altair-viz-19b1053ed3674b7bb4da2c666147663a\");\n",
       "    }\n",
       "    const paths = {\n",
       "      \"vega\": \"https://cdn.jsdelivr.net/npm//vega@5?noext\",\n",
       "      \"vega-lib\": \"https://cdn.jsdelivr.net/npm//vega-lib?noext\",\n",
       "      \"vega-lite\": \"https://cdn.jsdelivr.net/npm//vega-lite@4.8.1?noext\",\n",
       "      \"vega-embed\": \"https://cdn.jsdelivr.net/npm//vega-embed@6?noext\",\n",
       "    };\n",
       "\n",
       "    function loadScript(lib) {\n",
       "      return new Promise(function(resolve, reject) {\n",
       "        var s = document.createElement('script');\n",
       "        s.src = paths[lib];\n",
       "        s.async = true;\n",
       "        s.onload = () => resolve(paths[lib]);\n",
       "        s.onerror = () => reject(`Error loading script: ${paths[lib]}`);\n",
       "        document.getElementsByTagName(\"head\")[0].appendChild(s);\n",
       "      });\n",
       "    }\n",
       "\n",
       "    function showError(err) {\n",
       "      outputDiv.innerHTML = `<div class=\"error\" style=\"color:red;\">${err}</div>`;\n",
       "      throw err;\n",
       "    }\n",
       "\n",
       "    function displayChart(vegaEmbed) {\n",
       "      vegaEmbed(outputDiv, spec, embedOpt)\n",
       "        .catch(err => showError(`Javascript Error: ${err.message}<br>This usually means there's a typo in your chart specification. See the javascript console for the full traceback.`));\n",
       "    }\n",
       "\n",
       "    if(typeof define === \"function\" && define.amd) {\n",
       "      requirejs.config({paths});\n",
       "      require([\"vega-embed\"], displayChart, err => showError(`Error loading script: ${err.message}`));\n",
       "    } else if (typeof vegaEmbed === \"function\") {\n",
       "      displayChart(vegaEmbed);\n",
       "    } else {\n",
       "      loadScript(\"vega\")\n",
       "        .then(() => loadScript(\"vega-lite\"))\n",
       "        .then(() => loadScript(\"vega-embed\"))\n",
       "        .catch(showError)\n",
       "        .then(() => displayChart(vegaEmbed));\n",
       "    }\n",
       "  })({\"config\": {\"view\": {\"continuousWidth\": 400, \"continuousHeight\": 300}}, \"layer\": [{\"mark\": \"bar\", \"encoding\": {\"x\": {\"type\": \"quantitative\", \"field\": \"count\"}, \"y\": {\"type\": \"nominal\", \"field\": \"relation\", \"sort\": \"-x\"}}, \"title\": \"FrameNet: Count Of Relations\", \"width\": 200}, {\"mark\": {\"type\": \"text\", \"align\": \"left\", \"baseline\": \"middle\", \"dx\": 3}, \"encoding\": {\"text\": {\"type\": \"quantitative\", \"field\": \"count\"}, \"x\": {\"type\": \"quantitative\", \"field\": \"count\"}, \"y\": {\"type\": \"nominal\", \"field\": \"relation\", \"sort\": \"-x\"}}, \"title\": \"FrameNet: Count Of Relations\", \"width\": 200}], \"data\": {\"name\": \"data-eaa5b730914dfb44e36031b5be8b5f2d\"}, \"$schema\": \"https://vega.github.io/schema/vega-lite/v4.8.1.json\", \"datasets\": {\"data-eaa5b730914dfb44e36031b5be8b5f2d\": [{\"relation\": \"/r/HasA\", \"count\": 1221}, {\"relation\": \"/r/IsA\", \"count\": 1111}, {\"relation\": \"fn:HasLexicalUnit\", \"count\": 1073}, {\"relation\": \"/r/UsedFor\", \"count\": 287}, {\"relation\": \"/r/RelatedTo\", \"count\": 264}, {\"relation\": \"/r/HasPrerequisite\", \"count\": 148}, {\"relation\": \"/r/SimilarTo\", \"count\": 117}, {\"relation\": \"/r/Causes\", \"count\": 77}, {\"relation\": \"/r/HasSubevent\", \"count\": 50}]}}, {\"mode\": \"vega-lite\"});\n",
       "</script>"
      ],
      "text/plain": [
       "alt.LayerChart(...)"
      ]
     },
     "execution_count": 23,
     "metadata": {},
     "output_type": "execute_result"
    }
   ],
   "source": [
    "bar_chart(datasets[4], 'count', 'relation', title= \"FrameNet: Count Of Relations\", width=200)"
   ]
  },
  {
   "cell_type": "code",
   "execution_count": 24,
   "metadata": {},
   "outputs": [
    {
     "data": {
      "text/html": [
       "\n",
       "<div id=\"altair-viz-d2f81476ef8a4ca7acc16c54a19c92ea\"></div>\n",
       "<script type=\"text/javascript\">\n",
       "  (function(spec, embedOpt){\n",
       "    let outputDiv = document.currentScript.previousElementSibling;\n",
       "    if (outputDiv.id !== \"altair-viz-d2f81476ef8a4ca7acc16c54a19c92ea\") {\n",
       "      outputDiv = document.getElementById(\"altair-viz-d2f81476ef8a4ca7acc16c54a19c92ea\");\n",
       "    }\n",
       "    const paths = {\n",
       "      \"vega\": \"https://cdn.jsdelivr.net/npm//vega@5?noext\",\n",
       "      \"vega-lib\": \"https://cdn.jsdelivr.net/npm//vega-lib?noext\",\n",
       "      \"vega-lite\": \"https://cdn.jsdelivr.net/npm//vega-lite@4.8.1?noext\",\n",
       "      \"vega-embed\": \"https://cdn.jsdelivr.net/npm//vega-embed@6?noext\",\n",
       "    };\n",
       "\n",
       "    function loadScript(lib) {\n",
       "      return new Promise(function(resolve, reject) {\n",
       "        var s = document.createElement('script');\n",
       "        s.src = paths[lib];\n",
       "        s.async = true;\n",
       "        s.onload = () => resolve(paths[lib]);\n",
       "        s.onerror = () => reject(`Error loading script: ${paths[lib]}`);\n",
       "        document.getElementsByTagName(\"head\")[0].appendChild(s);\n",
       "      });\n",
       "    }\n",
       "\n",
       "    function showError(err) {\n",
       "      outputDiv.innerHTML = `<div class=\"error\" style=\"color:red;\">${err}</div>`;\n",
       "      throw err;\n",
       "    }\n",
       "\n",
       "    function displayChart(vegaEmbed) {\n",
       "      vegaEmbed(outputDiv, spec, embedOpt)\n",
       "        .catch(err => showError(`Javascript Error: ${err.message}<br>This usually means there's a typo in your chart specification. See the javascript console for the full traceback.`));\n",
       "    }\n",
       "\n",
       "    if(typeof define === \"function\" && define.amd) {\n",
       "      requirejs.config({paths});\n",
       "      require([\"vega-embed\"], displayChart, err => showError(`Error loading script: ${err.message}`));\n",
       "    } else if (typeof vegaEmbed === \"function\") {\n",
       "      displayChart(vegaEmbed);\n",
       "    } else {\n",
       "      loadScript(\"vega\")\n",
       "        .then(() => loadScript(\"vega-lite\"))\n",
       "        .then(() => loadScript(\"vega-embed\"))\n",
       "        .catch(showError)\n",
       "        .then(() => displayChart(vegaEmbed));\n",
       "    }\n",
       "  })({\"config\": {\"view\": {\"continuousWidth\": 400, \"continuousHeight\": 300}}, \"layer\": [{\"mark\": \"bar\", \"encoding\": {\"x\": {\"type\": \"quantitative\", \"field\": \"count\"}, \"y\": {\"type\": \"nominal\", \"field\": \"relation\", \"sort\": \"-x\"}}, \"title\": \"Wikidata: Count Of Relations\", \"width\": 200}, {\"mark\": {\"type\": \"text\", \"align\": \"left\", \"baseline\": \"middle\", \"dx\": 3}, \"encoding\": {\"text\": {\"type\": \"quantitative\", \"field\": \"count\"}, \"x\": {\"type\": \"quantitative\", \"field\": \"count\"}, \"y\": {\"type\": \"nominal\", \"field\": \"relation\", \"sort\": \"-x\"}}, \"title\": \"Wikidata: Count Of Relations\", \"width\": 200}], \"data\": {\"name\": \"data-0bd41f3040beccfe8822ebcae91768fe\"}, \"$schema\": \"https://vega.github.io/schema/vega-lite/v4.8.1.json\", \"datasets\": {\"data-0bd41f3040beccfe8822ebcae91768fe\": [{\"relation\": \"/r/IsA\", \"count\": 57102}, {\"relation\": \"/r/PartOf\", \"count\": 5661}, {\"relation\": \"/r/HasContext\", \"count\": 4906}, {\"relation\": \"/r/DistinctFrom\", \"count\": 4000}, {\"relation\": \"/r/HasPrerequisite\", \"count\": 2092}, {\"relation\": \"/r/Antonym\", \"count\": 2066}, {\"relation\": \"/r/UsedFor\", \"count\": 1893}, {\"relation\": \"/r/MadeOf\", \"count\": 1252}, {\"relation\": \"/r/Synonym\", \"count\": 988}, {\"relation\": \"/r/HasProperty\", \"count\": 910}, {\"relation\": \"/r/DerivedFrom\", \"count\": 524}, {\"relation\": \"/r/Causes\", \"count\": 429}, {\"relation\": \"/r/SimilarTo\", \"count\": 294}, {\"relation\": \"/r/CreatedBy\", \"count\": 173}, {\"relation\": \"/r/RelatedTo\", \"count\": 30}]}}, {\"mode\": \"vega-lite\"});\n",
       "</script>"
      ],
      "text/plain": [
       "alt.LayerChart(...)"
      ]
     },
     "execution_count": 24,
     "metadata": {},
     "output_type": "execute_result"
    }
   ],
   "source": [
    "bar_chart(datasets[5], 'count', 'relation', \"Wikidata: Count Of Relations\", width=200)"
   ]
  },
  {
   "cell_type": "code",
   "execution_count": 25,
   "metadata": {},
   "outputs": [
    {
     "data": {
      "text/html": [
       "\n",
       "<div id=\"altair-viz-061f34e894e540c2a576b97577a27ef2\"></div>\n",
       "<script type=\"text/javascript\">\n",
       "  (function(spec, embedOpt){\n",
       "    let outputDiv = document.currentScript.previousElementSibling;\n",
       "    if (outputDiv.id !== \"altair-viz-061f34e894e540c2a576b97577a27ef2\") {\n",
       "      outputDiv = document.getElementById(\"altair-viz-061f34e894e540c2a576b97577a27ef2\");\n",
       "    }\n",
       "    const paths = {\n",
       "      \"vega\": \"https://cdn.jsdelivr.net/npm//vega@5?noext\",\n",
       "      \"vega-lib\": \"https://cdn.jsdelivr.net/npm//vega-lib?noext\",\n",
       "      \"vega-lite\": \"https://cdn.jsdelivr.net/npm//vega-lite@4.8.1?noext\",\n",
       "      \"vega-embed\": \"https://cdn.jsdelivr.net/npm//vega-embed@6?noext\",\n",
       "    };\n",
       "\n",
       "    function loadScript(lib) {\n",
       "      return new Promise(function(resolve, reject) {\n",
       "        var s = document.createElement('script');\n",
       "        s.src = paths[lib];\n",
       "        s.async = true;\n",
       "        s.onload = () => resolve(paths[lib]);\n",
       "        s.onerror = () => reject(`Error loading script: ${paths[lib]}`);\n",
       "        document.getElementsByTagName(\"head\")[0].appendChild(s);\n",
       "      });\n",
       "    }\n",
       "\n",
       "    function showError(err) {\n",
       "      outputDiv.innerHTML = `<div class=\"error\" style=\"color:red;\">${err}</div>`;\n",
       "      throw err;\n",
       "    }\n",
       "\n",
       "    function displayChart(vegaEmbed) {\n",
       "      vegaEmbed(outputDiv, spec, embedOpt)\n",
       "        .catch(err => showError(`Javascript Error: ${err.message}<br>This usually means there's a typo in your chart specification. See the javascript console for the full traceback.`));\n",
       "    }\n",
       "\n",
       "    if(typeof define === \"function\" && define.amd) {\n",
       "      requirejs.config({paths});\n",
       "      require([\"vega-embed\"], displayChart, err => showError(`Error loading script: ${err.message}`));\n",
       "    } else if (typeof vegaEmbed === \"function\") {\n",
       "      displayChart(vegaEmbed);\n",
       "    } else {\n",
       "      loadScript(\"vega\")\n",
       "        .then(() => loadScript(\"vega-lite\"))\n",
       "        .then(() => loadScript(\"vega-embed\"))\n",
       "        .catch(showError)\n",
       "        .then(() => displayChart(vegaEmbed));\n",
       "    }\n",
       "  })({\"config\": {\"view\": {\"continuousWidth\": 400, \"continuousHeight\": 300}}, \"layer\": [{\"mark\": \"bar\", \"encoding\": {\"x\": {\"type\": \"quantitative\", \"field\": \"count\"}, \"y\": {\"type\": \"nominal\", \"field\": \"relation\", \"sort\": \"-x\"}}, \"title\": \"Roget: Count Of Relations\", \"width\": 200}, {\"mark\": {\"type\": \"text\", \"align\": \"left\", \"baseline\": \"middle\", \"dx\": 3}, \"encoding\": {\"text\": {\"type\": \"quantitative\", \"field\": \"count\"}, \"x\": {\"type\": \"quantitative\", \"field\": \"count\"}, \"y\": {\"type\": \"nominal\", \"field\": \"relation\", \"sort\": \"-x\"}}, \"title\": \"Roget: Count Of Relations\", \"width\": 200}], \"data\": {\"name\": \"data-bc59d0d33c718c0ae9f9099bffb14a71\"}, \"$schema\": \"https://vega.github.io/schema/vega-lite/v4.8.1.json\", \"datasets\": {\"data-bc59d0d33c718c0ae9f9099bffb14a71\": [{\"relation\": \"/r/Synonym\", \"count\": 56170}, {\"relation\": \"/r/Antonym\", \"count\": 24646}]}}, {\"mode\": \"vega-lite\"});\n",
       "</script>"
      ],
      "text/plain": [
       "alt.LayerChart(...)"
      ]
     },
     "execution_count": 25,
     "metadata": {},
     "output_type": "execute_result"
    }
   ],
   "source": [
    "bar_chart(datasets[6], 'count', 'relation', title=\"Roget: Count Of Relations\", width=200)"
   ]
  },
  {
   "cell_type": "markdown",
   "metadata": {},
   "source": [
    "### ConceptNet nodes that contain `catch` and `throw`"
   ]
  },
  {
   "cell_type": "code",
   "execution_count": 26,
   "metadata": {},
   "outputs": [
    {
     "name": "stdout",
     "output_type": "stream",
     "text": [
      "https://www.conceptnet.io/c/en/catch/n\n",
      "https://www.conceptnet.io/c/en/catch/n/wn/act\n",
      "https://www.conceptnet.io/c/en/catch/n/wn/artifact\n",
      "https://www.conceptnet.io/c/en/catch/n/wn/attribute\n",
      "https://www.conceptnet.io/c/en/catch/n/wn/object\n",
      "https://www.conceptnet.io/c/en/catch/n/wn/person\n",
      "https://www.conceptnet.io/c/en/catch/n/wn/quantity\n",
      "https://www.conceptnet.io/c/en/catch/v\n",
      "https://www.conceptnet.io/c/en/catch/v/wn/body\n",
      "https://www.conceptnet.io/c/en/catch/v/wn/competition\n",
      "https://www.conceptnet.io/c/en/catch/v/wn/emotion\n",
      "https://www.conceptnet.io/c/en/catch/v/wn/motion\n",
      "https://www.conceptnet.io/c/en/catch/v/wn/perception\n",
      "https://www.conceptnet.io/c/en/catch/v/wn/possession\n",
      "https://www.conceptnet.io/c/en/catch/v/wn/social\n"
     ]
    }
   ],
   "source": [
    "command = \"kgtk query -i $NKG \\\n",
    "--match '(n1)-[r {label: label}]->(n2), (r)-[:source]->(source)' \\\n",
    "--where 'source = $s and n1 =~ \\\".*/catch/.*\\\"' \\\n",
    "--return 'distinct n1 as node1' \\\n",
    "--spara s='CN' \\\n",
    "--limit 100\"\n",
    "\n",
    "catch_df = shell_df(command, shell=True, sep='\\t')\n",
    "\n",
    "for i, row in catch_df.iterrows():\n",
    "    print(\"https://www.conceptnet.io\"+row['node1'])"
   ]
  },
  {
   "cell_type": "code",
   "execution_count": 27,
   "metadata": {},
   "outputs": [
    {
     "name": "stdout",
     "output_type": "stream",
     "text": [
      "https://www.conceptnet.io/c/en/throw/n\n",
      "https://www.conceptnet.io/c/en/throw/n/wikt/en_1\n",
      "https://www.conceptnet.io/c/en/throw/n/wikt/en_2\n",
      "https://www.conceptnet.io/c/en/throw/n/wikt/en_3\n",
      "https://www.conceptnet.io/c/en/throw/n/wikt/en_4\n",
      "https://www.conceptnet.io/c/en/throw/n/wn/artifact\n",
      "https://www.conceptnet.io/c/en/throw/n/wn/event\n",
      "https://www.conceptnet.io/c/en/throw/n/wn/state\n",
      "https://www.conceptnet.io/c/en/throw/n/wp/grappling\n",
      "https://www.conceptnet.io/c/en/throw/v\n",
      "https://www.conceptnet.io/c/en/throw/v/wikt/en_1\n",
      "https://www.conceptnet.io/c/en/throw/v/wikt/en_2\n",
      "https://www.conceptnet.io/c/en/throw/v/wn/cognition\n",
      "https://www.conceptnet.io/c/en/throw/v/wn/communication\n",
      "https://www.conceptnet.io/c/en/throw/v/wn/emotion\n"
     ]
    }
   ],
   "source": [
    "command = \"kgtk query -i $NKG \\\n",
    "--match '(n1)-[r {label: label}]->(n2), (r)-[:source]->(source)' \\\n",
    "--where 'source in [$cn] and n1 =~ \\\".*/throw/.*\\\"' \\\n",
    "--return 'distinct n1 as node1' \\\n",
    "--spara cn='CN' --spara wd='WD' --spara vg='VG' \\\n",
    " --limit 100\"\n",
    "\n",
    "throw_df = shell_df(command, shell=True, sep='\\t')\n",
    "\n",
    "for i, row in throw_df.iterrows():\n",
    "    print(\"https://www.conceptnet.io\"+row['node1'])"
   ]
  },
  {
   "cell_type": "markdown",
   "metadata": {},
   "source": [
    "### ConceptNet nodes that contain `dog` and `frisbee`"
   ]
  },
  {
   "cell_type": "code",
   "execution_count": 28,
   "metadata": {},
   "outputs": [
    {
     "name": "stdout",
     "output_type": "stream",
     "text": [
      "https://www.conceptnet.io/c/en/dog/n\n",
      "https://www.conceptnet.io/c/en/dog/n/wn/animal\n",
      "https://www.conceptnet.io/c/en/dog/n/wn/artifact\n",
      "https://www.conceptnet.io/c/en/dog/n/wn/food\n",
      "https://www.conceptnet.io/c/en/dog/n/wn/person\n",
      "https://www.conceptnet.io/c/en/dog/n/wp/goya\n",
      "https://www.conceptnet.io/c/en/dog/v\n",
      "https://www.conceptnet.io/c/en/dog/v/wn/motion\n"
     ]
    }
   ],
   "source": [
    "command = \"kgtk query -i $NKG \\\n",
    "--match '(n1)-[r {label: label}]->(n2), (r)-[:source]->(source)' \\\n",
    "--where 'source in [$cn] and n1 =~ \\\".*/dog/.*\\\"' \\\n",
    "--return 'distinct n1 as node1' \\\n",
    "--spara cn='CN' \\\n",
    "--limit 100\"\n",
    "\n",
    "dog_df = shell_df(command, shell=True, sep='\\t')\n",
    "\n",
    "for i, row in dog_df.iterrows():\n",
    "    print(\"https://www.conceptnet.io\"+row['node1'])"
   ]
  },
  {
   "cell_type": "code",
   "execution_count": 31,
   "metadata": {},
   "outputs": [
    {
     "name": "stdout",
     "output_type": "stream",
     "text": [
      "https://www.conceptnet.io/c/en/frisbee/n\n",
      "https://www.conceptnet.io/c/en/frisbee/v\n"
     ]
    }
   ],
   "source": [
    "command = \"kgtk query -i $NKG \\\n",
    "--match '(n1)-[r {label: label}]->(n2), (r)-[:source]->(source)' \\\n",
    "--where 'source in [$cn] and n1 =~ \\\".*/frisbee/.*\\\"' \\\n",
    "--return 'distinct n1 as node1' \\\n",
    "--spara cn='CN' --spara wd='WD' --spara vg='VG' \\\n",
    "--limit 100\"\n",
    "\n",
    "frisbee_df = shell_df(command, shell=True, sep='\\t')\n",
    "\n",
    "for i, row in frisbee_df.iterrows():\n",
    "    print(\"https://www.conceptnet.io\"+row['node1'])"
   ]
  },
  {
   "cell_type": "markdown",
   "metadata": {},
   "source": [
    "### Get all the nodes in ConceptNet, Wikidata-CS and VisualGenone that contain `frisbee`"
   ]
  },
  {
   "cell_type": "code",
   "execution_count": 32,
   "metadata": {},
   "outputs": [],
   "source": [
    "!kgtk query -i $NKG \\\n",
    "--match '(n1)-[r {label: label}]->(n2), (r)-[:source]->(source), (n1)-[:label]->(n1_label)' \\\n",
    "--where 'source in [$cn, $vg, $wd] and n1 =~ \".*frisbees?.*\"' \\\n",
    "--return 'distinct source as source, n1 as node1, n1_label as `node1 label`, label as relation, n2 as node2' \\\n",
    "--order-by 'source, n1' \\\n",
    "--spara cn='CN' --spara wd='WD' --spara vg='VG'\\\n",
    "-o $CSKG/frisbee.tsv"
   ]
  },
  {
   "cell_type": "markdown",
   "metadata": {},
   "source": [
    "We have many edges that relate to `frisbee`"
   ]
  },
  {
   "cell_type": "code",
   "execution_count": 33,
   "metadata": {},
   "outputs": [
    {
     "name": "stdout",
     "output_type": "stream",
     "text": [
      "   12828 ../output/frisbee.tsv\n"
     ]
    }
   ],
   "source": [
    "!wc -l $CSKG/frisbee.tsv"
   ]
  },
  {
   "cell_type": "code",
   "execution_count": 34,
   "metadata": {},
   "outputs": [
    {
     "name": "stdout",
     "output_type": "stream",
     "text": [
      "source  node1                         node1 label               relation            node2\n",
      "\"CN\"    /c/en/capturing_frisbee       \"capturing frisbee\"       /r/HasPrerequisite  /c/en/coordination\n",
      "\"CN\"    /c/en/dogs_catching_frisbees  \"dogs catching frisbees\"  /r/AtLocation       /c/en/park\n",
      "\"CN\"    /c/en/frisbee                 \"frisbee\"                 /r/AtLocation       /c/en/air\n",
      "\"CN\"    /c/en/frisbee                 \"frisbee\"                 /r/AtLocation       /c/en/deadhead's_van\n",
      "\"CN\"    /c/en/frisbee                 \"frisbee\"                 /r/AtLocation       /c/en/frisbee_golf_course\n",
      "\"CN\"    /c/en/frisbee                 \"frisbee\"                 /r/AtLocation       /c/en/park\n",
      "\"CN\"    /c/en/frisbee                 \"frisbee\"                 /r/AtLocation       /c/en/roof\n",
      "\"CN\"    /c/en/frisbee                 \"frisbee\"                 /r/AtLocation       /c/en/toy_chest\n",
      "\"CN\"    /c/en/frisbee                 \"frisbee\"                 /r/AtLocation       /c/en/tree\n"
     ]
    }
   ],
   "source": [
    "!head $CSKG/frisbee.tsv | column -t -s $'\\t' "
   ]
  },
  {
   "cell_type": "code",
   "execution_count": 35,
   "metadata": {},
   "outputs": [
    {
     "name": "stdout",
     "output_type": "stream",
     "text": [
      "\"VG\"  wn:frisbee.n.01  \"gray frisbee\"          mw:MayHaveProperty  /c/en/yellow/n/wn/attribute\n",
      "\"VG\"  wn:frisbee.n.01  \"frisbee in hand\"       mw:MayHaveProperty  /c/en/yellow/n/wn/attribute\n",
      "\"VG\"  wn:frisbee.n.01  \"plates\"                mw:MayHaveProperty  /c/en/yellow/n/wn/attribute\n",
      "\"VG\"  wn:frisbee.n.01  \"frisbee in the air\"    mw:MayHaveProperty  /c/en/yellow/n/wn/attribute\n",
      "\"VG\"  wn:frisbee.n.01  \"frisbee is purple\"     mw:MayHaveProperty  /c/en/yellow/n/wn/attribute\n",
      "\"VG\"  wn:frisbee.n.01  \"purple frisbee\"        mw:MayHaveProperty  /c/en/yellow/n/wn/attribute\n",
      "\"VG\"  wn:frisbee.n.01  \"frisbee is round\"      mw:MayHaveProperty  /c/en/yellow/n/wn/attribute\n",
      "\"VG\"  wn:frisbee.n.01  \"plastic\"               mw:MayHaveProperty  /c/en/yellow/n/wn/attribute\n",
      "\"VG\"  wn:frisbee.n.01  \"frisbee is in hand\"    mw:MayHaveProperty  /c/en/yellow/n/wn/attribute\n",
      "\"VG\"  wn:frisbee.n.01  \"white frisbee in the\"  mw:MayHaveProperty  /c/en/yellow/n/wn/attribute\n"
     ]
    }
   ],
   "source": [
    "!tail $CSKG/frisbee.tsv | column -t -s $'\\t' "
   ]
  },
  {
   "cell_type": "code",
   "execution_count": null,
   "metadata": {},
   "outputs": [],
   "source": []
  }
 ],
 "metadata": {
  "kernelspec": {
   "display_name": "Python 3",
   "language": "python",
   "name": "python3"
  },
  "language_info": {
   "codemirror_mode": {
    "name": "ipython",
    "version": 3
   },
   "file_extension": ".py",
   "mimetype": "text/x-python",
   "name": "python",
   "nbconvert_exporter": "python",
   "pygments_lexer": "ipython3",
   "version": "3.8.8"
  }
 },
 "nbformat": 4,
 "nbformat_minor": 4
}
