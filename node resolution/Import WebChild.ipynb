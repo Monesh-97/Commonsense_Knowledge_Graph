{
 "cells": [
  {
   "cell_type": "code",
   "execution_count": 23,
   "metadata": {},
   "outputs": [],
   "source": [
    "import csv"
   ]
  },
  {
   "cell_type": "markdown",
   "metadata": {},
   "source": [
    "## Setup directories"
   ]
  },
  {
   "cell_type": "code",
   "execution_count": 27,
   "metadata": {},
   "outputs": [],
   "source": [
    "# input_file\n",
    "WebChild_file = \"comparative-cw0912.txt\"\n",
    "\n",
    "# ouput_file\n",
    "kgtk_webchild = \"kgtk_webchild_comparative.tsv\""
   ]
  },
  {
   "cell_type": "markdown",
   "metadata": {},
   "source": [
    "## Transfer WebChild Structure\n",
    "\n",
    "Structure is similar to kgtk_wordnet.tsv or kgtk_conceptnet.tsv\n",
    "\n",
    "**Document Head Meaning Explaination**\n",
    "\n",
    "link:http://people.mpi-inf.mpg.de/~ntandon/resources/readme-comparative.html\n",
    "\n",
    "x         | character varying | ambiguous arg1 e.g. car\n",
    "\n",
    "r         | character varying | ambiguous attribute e.g. fast\n",
    "\n",
    "y         | character varying | ambiguous arg2 e.g. bike\n",
    "\n",
    "awps      | character varying | disambiguated attribute e.g. fast#a#1\n",
    "\n",
    "xwps      | character varying | disambiguated arg1 e.g. car#n#1\n",
    "\n",
    "rnorm     | character varying | normalized comparing relation \n",
    "                             e.g. be faster than\n",
    "                             \n",
    "ywps      | character varying | disambiguated arg2 e.g. plant#n#2\n",
    "\n",
    "direction | character varying | fwd or backward direction e.g. \n",
    "                             car faster bike is forward whereas bike slower car is backward direction \n",
    "                             \n",
    "freq      | real              | corpus frequency of the triple.\n",
    "\n",
    "normid    | character varying | id of the direction-noramlized triple\n",
    "                             e.g. car fast bike; bike slow car -- 12345\n",
    "                             \n",
    "observid  | character varying | id of the observation  e.g. car faster bike 1234 \n",
    "                             \n",
    "sources   | character varying | list of the sources e.g. ngram, wordnet"
   ]
  },
  {
   "cell_type": "code",
   "execution_count": 57,
   "metadata": {},
   "outputs": [],
   "source": [
    "def load_file(filename):\n",
    "    # load WebChild file\n",
    "    with open(filename,\"r\", encoding='latin-1') as f:\n",
    "        head = f.readline().strip().split(\",\")\n",
    "        blank_line = f.readline()\n",
    "        \n",
    "        lines = []\n",
    "        for line in f:\n",
    "            lines.append(line.strip().split(\"\\t\"))\n",
    "            \n",
    "    return head,lines\n",
    "\n",
    "def generate_wnId(id_):\n",
    "    id_list = id_.split(\"#\")\n",
    "    if len(id_list[-1])<2:\n",
    "        id_list[-1] = \"0\"+id_list[-1]\n",
    "        \n",
    "    return \"wn:\"+\".\".join(id_list)\n",
    "\n",
    "def write_file(data, filename):\n",
    "    # transfer WebChild file into the KGTK format, with the same columns as kgtk_wordnet.tsv or kgtk_conceptnet.tsv\n",
    "    # Columns: node1 relation node2 node1;label node2;label relation;label relation;dimension source sentence\n",
    "    head = [\"node1\",\"relation\", \"node2\", \"node1;label\", \"node2;label\", \"relation;label\", \"relation;dimension\", \"source\", \"sentence\"]\n",
    "    with open(filename, \"w\",newline=\"\",encoding=\"latin-1\") as f:\n",
    "        writer = csv.writer(f, delimiter='\\t')\n",
    "        writer.writerow(head)\n",
    "        \n",
    "        for line in data:\n",
    "            \n",
    "            # transfer data\n",
    "            node1Id =generate_wnId(line[1])\n",
    "            relationId =generate_wnId(line[4])\n",
    "            node2Id =generate_wnId(line[6])\n",
    "            node1Label = line[0]\n",
    "            node2Label =line[5]\n",
    "            relationLabel =line[3]\n",
    "            relationDim = \"\"\n",
    "            temp_source = line[13]\n",
    "            if temp_source:\n",
    "                temp_source = temp_source[1:].replace(\",\",\"|\")\n",
    "            source = temp_source\n",
    "            sentence = \"[[\"+line[0]+\"]]\" + \" \"+line[2]+\" \"+\"[[\"+line[5]+\"]]\"\n",
    "            \n",
    "            new_line = [node1Id,relationId,node2Id,node1Label,node2Label,relationLabel,relationDim,source,sentence]\n",
    "            \n",
    "            # write new line\n",
    "            writer.writerow(new_line)"
   ]
  },
  {
   "cell_type": "code",
   "execution_count": 58,
   "metadata": {},
   "outputs": [],
   "source": [
    "# load WebChild file\n",
    "head, lines = load_file(WebChild_file)\n",
    "\n",
    "#write file into KGTK format\n",
    "write_file(lines, kgtk_webchild)"
   ]
  },
  {
   "cell_type": "code",
   "execution_count": null,
   "metadata": {},
   "outputs": [],
   "source": []
  }
 ],
 "metadata": {
  "kernelspec": {
   "display_name": "Python [conda env:isi]",
   "language": "python",
   "name": "conda-env-isi-py"
  },
  "language_info": {
   "codemirror_mode": {
    "name": "ipython",
    "version": 3
   },
   "file_extension": ".py",
   "mimetype": "text/x-python",
   "name": "python",
   "nbconvert_exporter": "python",
   "pygments_lexer": "ipython3",
   "version": "3.6.12"
  }
 },
 "nbformat": 4,
 "nbformat_minor": 4
}
