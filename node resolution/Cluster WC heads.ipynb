{
 "cells": [
  {
   "cell_type": "markdown",
   "metadata": {},
   "source": [
    "This file analysis the data from WebChild"
   ]
  },
  {
   "cell_type": "code",
   "execution_count": 1,
   "metadata": {},
   "outputs": [],
   "source": [
    "from util import *\n",
    "import numpy as np\n",
    "import random, os\n",
    "import matplotlib.pyplot as plt"
   ]
  },
  {
   "cell_type": "markdown",
   "metadata": {},
   "source": [
    "## Setup directories"
   ]
  },
  {
   "cell_type": "code",
   "execution_count": 2,
   "metadata": {},
   "outputs": [],
   "source": [
    "# input_file\n",
    "kgtk_webchild = \"kgtk_webchild_comparative.tsv\"\n",
    "\n",
    "# ouput_file\n",
    "wc_gold_10k_amb_file = \"wc_gold_10k_amb_head.tsv\"\n",
    "partition_folder = \"./head_clustering\"\n",
    "wc_train_10k =\"./head_clustering/train_wc.tsv\" \n",
    "wc_dev_10k =\"./head_clustering/dev_wc.tsv\" \n",
    "wc_test_10k =\"./head_clustering/test_wc.tsv\" "
   ]
  },
  {
   "cell_type": "markdown",
   "metadata": {},
   "source": [
    "## Generate 10K Ambiguous Head Gold Dataset"
   ]
  },
  {
   "cell_type": "code",
   "execution_count": 3,
   "metadata": {},
   "outputs": [],
   "source": [
    "def distribution(wn_gold_all):\n",
    "    # obtain the dsitribution of each label\n",
    "    # output: {label1-> str: num->integer}\n",
    "    distri = dict()\n",
    "    for line in wn_gold_all:\n",
    "        node1_label = line[0]\n",
    "\n",
    "        node1_id = line[3]\n",
    "\n",
    "        temp1 = distri.get(node1_label,set())\n",
    "        temp1.add(node1_id)\n",
    "\n",
    "        distri[node1_label] = temp1\n",
    "    \n",
    "    for item in distri:\n",
    "        distri[item] = len(distri[item])\n",
    "    return distri\n",
    "\n",
    "def ambiguous_filter(lines,ambiguous_num = 1):\n",
    "    # filter the labels based on their ambiguous number (multiple meanning) global file\n",
    "    for line in lines:\n",
    "        subject = line[0]\n",
    "        \n",
    "        candits = generate_candidates(subject)\n",
    "        \n",
    "        if len(candits)>1: #(multi meaning)\n",
    "            yield line\n",
    "\n",
    "def write_gold(filename, lines):\n",
    "    # write prediction to file\n",
    "    new_head = ['node1;label','relation','node2;label','node1','node2']\n",
    "    with open(filename, \"w\", newline='',encoding=\"UTF-8\") as f:\n",
    "        writer = csv.writer(f, delimiter='\\t')\n",
    "        writer.writerow(new_head)\n",
    "        writer.writerows(lines)\n",
    "\n",
    "def generate_gold_file(lines):\n",
    "    # Transfer line to head 'node1;label','relation','node2;label','node1','node2'\n",
    "    wn_gold_all = []\n",
    "    i = 0\n",
    "    for line in lines:\n",
    "        #change column to node1;label, relation, node2;label, node1, node2\n",
    "        node1_id = line[0]\n",
    "        relation = line[1]\n",
    "        node2_id = line[2]\n",
    "        node1_labels = line[3]\n",
    "        node2_labels = line[4]\n",
    "        \n",
    "        sent = line[8].replace(\"[\",\"\").replace(\"]\",\"\")\n",
    "        # modeify the node labels, check with leve distance\n",
    "\n",
    "        node1_label = multiple_labels(node1_labels,node1_id)\n",
    "        node2_label = multiple_labels(node2_labels,node2_id)\n",
    "\n",
    "        wn_gold_all.append([node1_label, relation, node2_label, node1_id, node2_id,sent])\n",
    "        i += 1\n",
    "        if i%10000==1:\n",
    "            print(f\"\\r {i}/{len(lines)}\", end=\"\")\n",
    "        \n",
    "    return wn_gold_all"
   ]
  },
  {
   "cell_type": "code",
   "execution_count": 4,
   "metadata": {},
   "outputs": [
    {
     "name": "stdout",
     "output_type": "stream",
     "text": [
      " 810001/812862"
     ]
    }
   ],
   "source": [
    "# load kgtk file\n",
    "head, lines = load_file(kgtk_webchild, encoding=\"latin1\")\n",
    "\n",
    "# transfer kgtk file to column to node1;label, relation, node2;label, node1, node2\n",
    "wc_gold_all = generate_gold_file(lines)"
   ]
  },
  {
   "cell_type": "code",
   "execution_count": 5,
   "metadata": {},
   "outputs": [
    {
     "data": {
      "text/plain": [
       "['action',\n",
       " 'wn:loud.a.01',\n",
       " 'word',\n",
       " 'wn:action.n.01',\n",
       " 'wn:word.n.04',\n",
       " 'action speak louder than word']"
      ]
     },
     "execution_count": 5,
     "metadata": {},
     "output_type": "execute_result"
    }
   ],
   "source": [
    "wc_gold_all[0]"
   ]
  },
  {
   "cell_type": "markdown",
   "metadata": {},
   "source": [
    "**write wc_gold_10k file**"
   ]
  },
  {
   "cell_type": "code",
   "execution_count": 6,
   "metadata": {},
   "outputs": [
    {
     "name": "stdout",
     "output_type": "stream",
     "text": [
      "total num of lines:  812862\n",
      "total num of lines with multi ambiguous subject:  251506\n"
     ]
    }
   ],
   "source": [
    "print(\"total num of lines: \", len(wc_gold_all))\n",
    "\n",
    "# check ambiguous of words in each line. Only ambiguous subject word (multiple meanning words) is record.\n",
    "filtered_lines = list(ambiguous_filter(wc_gold_all))\n",
    "print(\"total num of lines with multi ambiguous subject: \", len(filtered_lines))\n",
    "\n",
    "# random choice 10000 lines\n",
    "if len(filtered_lines) > 10000:\n",
    "    wc_gold_10k = random.choices(filtered_lines, k=10000)\n",
    "else:\n",
    "    wc_gold_10k = filtered_lines\n",
    "\n",
    "#write file\n",
    "write_gold(wc_gold_10k_amb_file, wc_gold_10k)\n"
   ]
  },
  {
   "cell_type": "markdown",
   "metadata": {},
   "source": [
    "**Split train, dev, test file**"
   ]
  },
  {
   "cell_type": "code",
   "execution_count": 7,
   "metadata": {},
   "outputs": [
    {
     "name": "stdout",
     "output_type": "stream",
     "text": [
      "length of train, dev, test:  8000 1000 1000\n"
     ]
    }
   ],
   "source": [
    "# define ratio of train, dev, test\n",
    "train_ratio = 0.8\n",
    "dev_ratio = 0.1\n",
    "test_ratio = 1 - train_ratio - dev_ratio\n",
    "\n",
    "len_gold = len(wc_gold_10k)\n",
    "train, dev, test = np.split(wc_gold_10k,[int(train_ratio*len_gold),int((train_ratio+dev_ratio)*len_gold)])\n",
    "print(\"length of train, dev, test: \", len(train), len(dev), len(test))\n",
    "\n",
    "# write to file\n",
    "\n",
    "#generate folder\n",
    "if not os.path.isdir(partition_folder):\n",
    "    os.mkdir(partition_folder)\n",
    "\n",
    "# write train file\n",
    "write_gold(wc_train_10k, train)\n",
    "\n",
    "# write dev file\n",
    "write_gold(wc_dev_10k, dev)\n",
    "\n",
    "#write test file\n",
    "write_gold(wc_test_10k, test)"
   ]
  },
  {
   "cell_type": "markdown",
   "metadata": {},
   "source": [
    "**Distribution Analysis**"
   ]
  },
  {
   "cell_type": "code",
   "execution_count": 8,
   "metadata": {},
   "outputs": [
    {
     "data": {
      "text/plain": [
       "(array([2.774e+03, 0.000e+00, 0.000e+00, 1.280e+02, 0.000e+00, 0.000e+00,\n",
       "        1.100e+01, 0.000e+00, 0.000e+00, 1.000e+00]),\n",
       " array([1. , 1.3, 1.6, 1.9, 2.2, 2.5, 2.8, 3.1, 3.4, 3.7, 4. ]),\n",
       " <BarContainer object of 10 artists>)"
      ]
     },
     "execution_count": 8,
     "metadata": {},
     "output_type": "execute_result"
    },
    {
     "data": {
      "image/png": "[encoded data removed]",
      "text/plain": [
       "<Figure size 432x288 with 1 Axes>"
      ]
     },
     "metadata": {
      "needs_background": "light"
     },
     "output_type": "display_data"
    }
   ],
   "source": [
    "# train data distribution\n",
    "distri_train = distribution(train)\n",
    "plt.hist(distri_train.values(),log=True)"
   ]
  },
  {
   "cell_type": "code",
   "execution_count": 9,
   "metadata": {},
   "outputs": [
    {
     "data": {
      "text/plain": [
       "(array([704.,   0.,   0.,   0.,   0.,   0.,   0.,   0.,   0.,  15.]),\n",
       " array([1. , 1.1, 1.2, 1.3, 1.4, 1.5, 1.6, 1.7, 1.8, 1.9, 2. ]),\n",
       " <BarContainer object of 10 artists>)"
      ]
     },
     "execution_count": 9,
     "metadata": {},
     "output_type": "execute_result"
    },
    {
     "data": {
      "image/png": "[encoded data removed]",
      "text/plain": [
       "<Figure size 432x288 with 1 Axes>"
      ]
     },
     "metadata": {
      "needs_background": "light"
     },
     "output_type": "display_data"
    }
   ],
   "source": [
    "# dev data distribution\n",
    "distri_dev = distribution(dev)\n",
    "plt.hist(distri_dev.values(),log=True)"
   ]
  },
  {
   "cell_type": "code",
   "execution_count": 10,
   "metadata": {},
   "outputs": [
    {
     "data": {
      "text/plain": [
       "(array([700.,   0.,   0.,   0.,   0.,  10.,   0.,   0.,   0.,   1.]),\n",
       " array([1. , 1.2, 1.4, 1.6, 1.8, 2. , 2.2, 2.4, 2.6, 2.8, 3. ]),\n",
       " <BarContainer object of 10 artists>)"
      ]
     },
     "execution_count": 10,
     "metadata": {},
     "output_type": "execute_result"
    },
    {
     "data": {
      "image/png": "[encoded data removed]",
      "text/plain": [
       "<Figure size 432x288 with 1 Axes>"
      ]
     },
     "metadata": {
      "needs_background": "light"
     },
     "output_type": "display_data"
    }
   ],
   "source": [
    "# test data distribution\n",
    "distri_test = distribution(test)\n",
    "plt.hist(distri_test.values(),log=True)"
   ]
  },
  {
   "cell_type": "markdown",
   "metadata": {},
   "source": [
    "## Four baselines to predict (WebChild)\n",
    "**Random, Frequency, STB model, STR model**"
   ]
  },
  {
   "cell_type": "code",
   "execution_count": 11,
   "metadata": {},
   "outputs": [],
   "source": [
    "# prosible of missing subject\n",
    "def missing_prob(lines):\n",
    "    count = 0\n",
    "    for line in lines:\n",
    "        nodeLabel = line[0]\n",
    "\n",
    "        if generate_candidates(nodeLabel):\n",
    "            count +=1\n",
    "            \n",
    "    return count/len(lines)"
   ]
  },
  {
   "cell_type": "code",
   "execution_count": 12,
   "metadata": {},
   "outputs": [
    {
     "name": "stdout",
     "output_type": "stream",
     "text": [
      "probability of missing subject for train:  1.0\n",
      "probability of missing subject for dev:  1.0\n",
      "probability of missing subject for test:  1.0\n"
     ]
    }
   ],
   "source": [
    "print(\"probability of missing subject for train: \",missing_prob(train))\n",
    "print(\"probability of missing subject for dev: \",missing_prob(dev))\n",
    "print(\"probability of missing subject for test: \",missing_prob(test))"
   ]
  },
  {
   "cell_type": "markdown",
   "metadata": {},
   "source": [
    "## Random Baseline (WebChild)"
   ]
  },
  {
   "cell_type": "code",
   "execution_count": 13,
   "metadata": {},
   "outputs": [],
   "source": [
    "def MRS(wn_gold):\n",
    "    # Random Baseline calculation\n",
    "    # only predict subject\n",
    "    wn_predict = []\n",
    "    for line in wn_gold:\n",
    "        label1  = line[0]\n",
    "        label2 = line[2]\n",
    "        relationship = line[1]\n",
    "        \n",
    "        # generate all possible combination of \"_\"&\"-\" and check whether it can find sysets.\n",
    "        # if the combination can generate sysets, use this combinations to generate candidates\n",
    "        candidates1 = generate_candidates(label1)\n",
    "        \n",
    "        if candidates1:\n",
    "            # random choose candidates\n",
    "            node1_id = random.choice(candidates1)\n",
    "        else:\n",
    "            node1_id = \"\"\n",
    "        \n",
    "        node2_id=\"\"\n",
    "        \n",
    "        wn_predict.append([label1, relationship, label2, node1_id, node2_id])\n",
    "        \n",
    "    return wn_predict\n",
    "\n",
    "\n",
    "def validation(wn_predict, wn_gold):\n",
    "    # valid the accuracy of prediction: only compare the accuracy of subject\n",
    "    \n",
    "    correct = 0\n",
    "    \n",
    "    for predict, actual in zip(wn_predict, wn_gold):\n",
    "        predict_label1 = synset2str(predict[3])\n",
    "        actual_label1 = actual[3]\n",
    "        \n",
    "        if predict_label1 == actual_label1:\n",
    "            # predict and actual is same\n",
    "            correct += 1\n",
    "            \n",
    "    return correct/len(wn_predict)"
   ]
  },
  {
   "cell_type": "markdown",
   "metadata": {},
   "source": [
    "**train dataset**"
   ]
  },
  {
   "cell_type": "code",
   "execution_count": 14,
   "metadata": {},
   "outputs": [
    {
     "name": "stdout",
     "output_type": "stream",
     "text": [
      "Accuracy of train dataset (random baseline):  0.20175\n"
     ]
    }
   ],
   "source": [
    "wn_ran_train_predict = MRS(train)\n",
    "accuracy = validation(wn_ran_train_predict, train)\n",
    "print(\"Accuracy of train dataset (random baseline): \", accuracy)"
   ]
  },
  {
   "cell_type": "markdown",
   "metadata": {},
   "source": [
    "**dev dataset**"
   ]
  },
  {
   "cell_type": "code",
   "execution_count": 15,
   "metadata": {},
   "outputs": [
    {
     "name": "stdout",
     "output_type": "stream",
     "text": [
      "Accuracy of dev dataset (random baseline):  0.187\n"
     ]
    }
   ],
   "source": [
    "wn_ran_dev_predict = MRS(dev)\n",
    "accuracy = validation(wn_ran_dev_predict, dev)\n",
    "print(\"Accuracy of dev dataset (random baseline): \", accuracy)"
   ]
  },
  {
   "cell_type": "markdown",
   "metadata": {},
   "source": [
    "**test dataset**"
   ]
  },
  {
   "cell_type": "code",
   "execution_count": 16,
   "metadata": {},
   "outputs": [
    {
     "name": "stdout",
     "output_type": "stream",
     "text": [
      "Accuracy of test dataset (random baseline):  0.188\n"
     ]
    }
   ],
   "source": [
    "wn_ran_test_predict = MRS(test)\n",
    "accuracy = validation(wn_ran_test_predict, test)\n",
    "print(\"Accuracy of test dataset (random baseline): \", accuracy)"
   ]
  },
  {
   "cell_type": "markdown",
   "metadata": {},
   "source": [
    "## Frequency Baseline (WebChild)"
   ]
  },
  {
   "cell_type": "code",
   "execution_count": 17,
   "metadata": {},
   "outputs": [],
   "source": [
    "def MFS(wn_gold):\n",
    "    # Frequent Baseline Calculation\n",
    "    wn_predict = []\n",
    "    for line in wn_gold:\n",
    "        label1  = line[0]\n",
    "        label2 = line[2]\n",
    "        relationship = line[1]\n",
    "        \n",
    "        # same as MRS, generate candidates\n",
    "        candidates1 = generate_candidates(label1)\n",
    "        \n",
    "        # obtain the highest frequency\n",
    "        if candidates1:\n",
    "            node1_id = candidates1[0]\n",
    "        else:\n",
    "            node1_id = \"\"       \n",
    "\n",
    "        node2_id = \"\"\n",
    "        \n",
    "\n",
    "        wn_predict.append([label1, relationship, label2, node1_id, node2_id])\n",
    "        \n",
    "    return wn_predict"
   ]
  },
  {
   "cell_type": "markdown",
   "metadata": {},
   "source": [
    "**train dataset**"
   ]
  },
  {
   "cell_type": "code",
   "execution_count": 18,
   "metadata": {},
   "outputs": [
    {
     "name": "stdout",
     "output_type": "stream",
     "text": [
      "Accuracy of train dataset (random baseline):  0.789375\n"
     ]
    }
   ],
   "source": [
    "wn_fre_train_predict = MFS(train)\n",
    "accuracy = validation(wn_fre_train_predict, train)\n",
    "print(\"Accuracy of train dataset (random baseline): \", accuracy)"
   ]
  },
  {
   "cell_type": "markdown",
   "metadata": {},
   "source": [
    "**dev dataset**"
   ]
  },
  {
   "cell_type": "code",
   "execution_count": 19,
   "metadata": {},
   "outputs": [
    {
     "name": "stdout",
     "output_type": "stream",
     "text": [
      "Accuracy of dev dataset (random baseline):  0.784\n"
     ]
    }
   ],
   "source": [
    "wn_fre_dev_predict = MFS(dev)\n",
    "accuracy = validation(wn_fre_dev_predict, dev)\n",
    "print(\"Accuracy of dev dataset (random baseline): \", accuracy)"
   ]
  },
  {
   "cell_type": "markdown",
   "metadata": {},
   "source": [
    "**test dataset**"
   ]
  },
  {
   "cell_type": "code",
   "execution_count": 20,
   "metadata": {},
   "outputs": [
    {
     "name": "stdout",
     "output_type": "stream",
     "text": [
      "Accuracy of test dataset (random baseline):  0.8\n"
     ]
    }
   ],
   "source": [
    "wn_fre_test_predict = MFS(test)\n",
    "accuracy = validation(wn_fre_test_predict, test)\n",
    "print(\"Accuracy of test dataset (random baseline): \", accuracy)"
   ]
  },
  {
   "cell_type": "code",
   "execution_count": null,
   "metadata": {},
   "outputs": [],
   "source": []
  },
  {
   "cell_type": "markdown",
   "metadata": {},
   "source": [
    "## Sentence-Transformer-Bert (STB) (WebChild)"
   ]
  },
  {
   "cell_type": "code",
   "execution_count": 114,
   "metadata": {},
   "outputs": [],
   "source": [
    "model_STB = SentenceTransformer('roberta-large-nli-stsb-mean-tokens')"
   ]
  },
  {
   "cell_type": "code",
   "execution_count": 115,
   "metadata": {},
   "outputs": [],
   "source": [
    "def sentence_embedding(wn_gold, model, label_embeddings = None):\n",
    "    # use sentences embedding to find most similar candit\n",
    "    wn_predict = []\n",
    "    sents_combine = []\n",
    "    \n",
    "    for line in wn_gold:\n",
    "        sentence = line[5]\n",
    "        sents_combine.append(sentence)\n",
    "    # obtain sentence embedding\n",
    "    sents_embedding = model.encode(sents_combine)\n",
    "    \n",
    "    \n",
    "    for line,sent_embedding in zip(wn_gold,sents_embedding):\n",
    "        label1 = line[0]\n",
    "\n",
    "        #obtain the max similar item for label1\n",
    "        node_id1 = max_candidate(label1,sent_embedding,label_embeddings) \n",
    "        node_id2 = \"\"\n",
    "                \n",
    "        wn_predict.append([label1, line[1], line[2],node_id1,node_id2])\n",
    "        \n",
    "    return wn_predict"
   ]
  },
  {
   "cell_type": "markdown",
   "metadata": {},
   "source": [
    "**train dataset**"
   ]
  },
  {
   "cell_type": "code",
   "execution_count": 121,
   "metadata": {},
   "outputs": [
    {
     "data": {
      "text/plain": [
       "0.25625"
      ]
     },
     "execution_count": 121,
     "metadata": {},
     "output_type": "execute_result"
    }
   ],
   "source": [
    "# obtain the defination embedding of each synset for each label\n",
    "label_embeddings = candidates_embeddings(train, model_STB)\n",
    "\n",
    "# obtain the predict\n",
    "wn_STB_train_predict= sentence_embedding(train, model_STB,label_embeddings = label_embeddings)\n",
    "# release cache\n",
    "torch.cuda.empty_cache()\n",
    "# Check the Accuracy\n",
    "accuracy = validation(wn_STB_train_predict, train)\n",
    "accuracy"
   ]
  },
  {
   "cell_type": "markdown",
   "metadata": {},
   "source": [
    "**dev dataset**"
   ]
  },
  {
   "cell_type": "code",
   "execution_count": 116,
   "metadata": {},
   "outputs": [
    {
     "data": {
      "text/plain": [
       "0.256"
      ]
     },
     "execution_count": 116,
     "metadata": {},
     "output_type": "execute_result"
    }
   ],
   "source": [
    "# obtain the defination embedding of each synset for each label\n",
    "label_embeddings = candidates_embeddings(dev, model_STB)\n",
    "\n",
    "# obtain the predict\n",
    "wn_STB_dev_predict= sentence_embedding(dev, model_STB,label_embeddings = label_embeddings)\n",
    "\n",
    "# Check the Accuracy\n",
    "accuracy = validation(wn_STB_dev_predict, dev)\n",
    "accuracy"
   ]
  },
  {
   "cell_type": "markdown",
   "metadata": {},
   "source": [
    "**test dataset**"
   ]
  },
  {
   "cell_type": "code",
   "execution_count": 117,
   "metadata": {},
   "outputs": [
    {
     "data": {
      "text/plain": [
       "0.261"
      ]
     },
     "execution_count": 117,
     "metadata": {},
     "output_type": "execute_result"
    }
   ],
   "source": [
    "# obtain the defination embedding of each synset for each label\n",
    "label_embeddings = candidates_embeddings(test, model_STB)\n",
    "\n",
    "# obtain the predict\n",
    "wn_STB_test_predict= sentence_embedding(test, model_STB,label_embeddings = label_embeddings)\n",
    "\n",
    "# Check the Accuracy\n",
    "accuracy = validation(wn_STB_test_predict, test)\n",
    "accuracy"
   ]
  },
  {
   "cell_type": "markdown",
   "metadata": {},
   "source": [
    "## Sentence-Transformer-Roberta (STR) (WebChild)"
   ]
  },
  {
   "cell_type": "code",
   "execution_count": 118,
   "metadata": {},
   "outputs": [],
   "source": [
    "model_STR = SentenceTransformer('roberta-large-nli-stsb-mean-tokens')"
   ]
  },
  {
   "cell_type": "markdown",
   "metadata": {},
   "source": [
    "**train dataset**"
   ]
  },
  {
   "cell_type": "code",
   "execution_count": null,
   "metadata": {},
   "outputs": [],
   "source": [
    "# obtain the defination embedding of each synset for each label\n",
    "label_embeddings = candidates_embeddings(train, model_STR)\n",
    "\n",
    "# obtain the predict\n",
    "wn_STR_train_predict= sentence_embedding(train, model_STR,label_embeddings = label_embeddings)\n",
    "# release cache\n",
    "torch.cuda.empty_cache()\n",
    "# Check the Accuracy\n",
    "accuracy = validation(wn_STR_train_predict, dev)\n",
    "accuracy"
   ]
  },
  {
   "cell_type": "markdown",
   "metadata": {},
   "source": [
    "**dev dataset**"
   ]
  },
  {
   "cell_type": "code",
   "execution_count": 119,
   "metadata": {},
   "outputs": [
    {
     "data": {
      "text/plain": [
       "0.256"
      ]
     },
     "execution_count": 119,
     "metadata": {},
     "output_type": "execute_result"
    }
   ],
   "source": [
    "# obtain the defination embedding of each synset for each label\n",
    "label_embeddings = candidates_embeddings(dev, model_STR)\n",
    "\n",
    "# obtain the predict\n",
    "wn_STR_dev_predict= sentence_embedding(dev, model_STR,label_embeddings = label_embeddings)\n",
    "\n",
    "# Check the Accuracy\n",
    "accuracy = validation(wn_STR_dev_predict, dev)\n",
    "accuracy"
   ]
  },
  {
   "cell_type": "markdown",
   "metadata": {},
   "source": [
    "**test dataset**"
   ]
  },
  {
   "cell_type": "code",
   "execution_count": 120,
   "metadata": {},
   "outputs": [
    {
     "data": {
      "text/plain": [
       "0.261"
      ]
     },
     "execution_count": 120,
     "metadata": {},
     "output_type": "execute_result"
    }
   ],
   "source": [
    "# obtain the defination embedding of each synset for each label\n",
    "label_embeddings = candidates_embeddings(test, model_STR)\n",
    "\n",
    "# obtain the predict\n",
    "wn_STR_test_predict= sentence_embedding(test, model_STR,label_embeddings = label_embeddings)\n",
    "\n",
    "# Check the Accuracy\n",
    "accuracy = validation(wn_STR_test_predict, test)\n",
    "accuracy"
   ]
  },
  {
   "cell_type": "markdown",
   "metadata": {},
   "source": [
    "## POS Baseline"
   ]
  },
  {
   "cell_type": "markdown",
   "metadata": {},
   "source": [
    "Obtain the all relationship and design the limitation of relationship"
   ]
  },
  {
   "cell_type": "code",
   "execution_count": 59,
   "metadata": {},
   "outputs": [],
   "source": [
    "def generate_idx_combine(len_nodeid1,len_nodeid2):\n",
    "    # generate index combination for nodeId combination.\n",
    "    # nodeId combination will be used to check whther the prediction limitation satisfied\n",
    "    \n",
    "    total = len_nodeid1 + len_nodeid2\n",
    "\n",
    "    for i in range(total):\n",
    "        for len1 in range(min(i+1,len_nodeid1)):\n",
    "            len2 = i-len1\n",
    "            if len2 < len_nodeid2:\n",
    "                yield len1, len2\n",
    "\n",
    "def relation_limit_sum(wc_gold):\n",
    "    # summary the limitation of relation\n",
    "    # 4 possible, POS same, POS differnt, node1 POS x is True\n",
    "    # POS type for WordNet: ADJ, ADJ_SAT, ADV, NOUN, VERB = 'a', 's', 'r', 'n', 'v'\n",
    "    \n",
    "    # status = [same,different,label1_a,label1_s,label1_r,label1_n,label1_v\n",
    "                #label2_a,label2_s,label2_r,label2_n,label2_v]\n",
    "    status = tuple([True]*12)\n",
    "    \n",
    "    relation_status = dict()\n",
    "    for line in wc_gold:\n",
    "        relation = line[1]\n",
    "        node1_id = line[3]\n",
    "        node2_id = line[4]\n",
    "        \n",
    "        node1_POS = line[3].split(\".\")[1]\n",
    "        node2_POS = line[4].split(\".\")[1]\n",
    "        cur_status = relation_status.get(relation, list(status))\n",
    "        \n",
    "        # check same\n",
    "        if cur_status[0]:\n",
    "            if node1_POS!=node2_POS:\n",
    "                cur_status[0] = False\n",
    "                \n",
    "        # check different\n",
    "        if cur_status[1]:\n",
    "            if node1_POS==node2_POS:\n",
    "                cur_status[1] = False\n",
    "                \n",
    "        # check label1:\n",
    "        pos_list = [\"a\",\"s\",\"r\",\"n\",\"v\"]\n",
    "        for idx in range(len(pos_list)):\n",
    "            if cur_status[2+idx]:\n",
    "                if node1_POS != pos_list[idx]:\n",
    "                    cur_status[2+idx] = False\n",
    "                \n",
    "        #check label2:\n",
    "        for idx in range(len(pos_list)):\n",
    "            if cur_status[7+idx]:\n",
    "                if node2_POS != pos_list[idx]:\n",
    "                    cur_status[7+idx] = False\n",
    "                \n",
    "        relation_status[relation] = cur_status\n",
    "    \n",
    "    #build word2limit:\n",
    "    word2limit = dict()\n",
    "    status_name = [\"same\",\"different\",\"label1_a\",\"label1_s\",\"label1_r\",\"label1_n\",\"label1_v\",\"label2_a\",\\\n",
    "                   \"label2_s\",\"label2_r\",\"label2_n\",\"label2_v\"]\n",
    "    for relation in relation_status:\n",
    "        limit = word2limit.get(relation,[])\n",
    "        cur_status = relation_status[relation]\n",
    "        \n",
    "        for idx in range(len(cur_status)):\n",
    "            single_status = cur_status[idx]\n",
    "            \n",
    "            if single_status:\n",
    "                limit.append(status_name[idx])\n",
    "                \n",
    "        word2limit[relation]=limit\n",
    "            \n",
    "    return word2limit\n",
    "\n",
    "def frequency_pos(wn_gold,word2limit):\n",
    "    # Frequent Baseline Calculation\n",
    "    wn_predict = []\n",
    "    for line in wn_gold:\n",
    "        label1  = line[0]\n",
    "        label2 = line[2]\n",
    "        relationship = line[1]\n",
    "        \n",
    "        # same as MRS, generate candidates\n",
    "        candidates1 = generate_candidates(label1)\n",
    "        candidates2 = generate_candidates(label2)\n",
    "        \n",
    "        node_id1 = \"\"\n",
    "        for idx1, idx2 in generate_idx_combine(len(candidates1),len(candidates2)):\n",
    "        # obtain the highest frequency\n",
    "            node_id1 = candidates1[idx1]\n",
    "            node_id2 = candidates2[idx2]\n",
    "            \n",
    "            status = predicate_limitation_check(node_id1, node_id2, relationship, word2limit)\n",
    "\n",
    "            if status:\n",
    "                break\n",
    "            else:\n",
    "                continue\n",
    "        \n",
    "        if not node_id1:\n",
    "            node_id1 = candidates1[0]\n",
    "        node_id2 = \"\"\n",
    "        wn_predict.append([label1, relationship, label2, node_id1, node_id2])\n",
    "        \n",
    "    return wn_predict"
   ]
  },
  {
   "cell_type": "code",
   "execution_count": 60,
   "metadata": {},
   "outputs": [],
   "source": [
    "word2limit = relation_limit_sum(wc_gold_all)"
   ]
  },
  {
   "cell_type": "markdown",
   "metadata": {},
   "source": [
    "**train dataset**"
   ]
  },
  {
   "cell_type": "code",
   "execution_count": 61,
   "metadata": {},
   "outputs": [
    {
     "data": {
      "text/plain": [
       "0.789125"
      ]
     },
     "execution_count": 61,
     "metadata": {},
     "output_type": "execute_result"
    }
   ],
   "source": [
    "# obtain the predict\n",
    "wn_POS_train_predict= frequency_pos(train, word2limit)\n",
    "\n",
    "# Check the Accuracy\n",
    "accuracy = validation(wn_POS_train_predict, train)\n",
    "accuracy"
   ]
  },
  {
   "cell_type": "markdown",
   "metadata": {},
   "source": [
    "**dev dataset**"
   ]
  },
  {
   "cell_type": "code",
   "execution_count": 62,
   "metadata": {},
   "outputs": [
    {
     "data": {
      "text/plain": [
       "0.784"
      ]
     },
     "execution_count": 62,
     "metadata": {},
     "output_type": "execute_result"
    }
   ],
   "source": [
    "# obtain the predict\n",
    "wn_POS_dev_predict= frequency_pos(dev, word2limit)\n",
    "\n",
    "# Check the Accuracy\n",
    "accuracy = validation(wn_POS_dev_predict, dev)\n",
    "accuracy"
   ]
  },
  {
   "cell_type": "markdown",
   "metadata": {},
   "source": [
    "**test dataset**"
   ]
  },
  {
   "cell_type": "code",
   "execution_count": 63,
   "metadata": {},
   "outputs": [
    {
     "data": {
      "text/plain": [
       "0.8"
      ]
     },
     "execution_count": 63,
     "metadata": {},
     "output_type": "execute_result"
    }
   ],
   "source": [
    "# obtain the predict\n",
    "wn_POS_test_predict= frequency_pos(test,word2limit)\n",
    "\n",
    "# Check the Accuracy\n",
    "accuracy = validation(wn_POS_test_predict, test)\n",
    "accuracy"
   ]
  }
 ],
 "metadata": {
  "kernelspec": {
   "display_name": "Python [conda env:isi]",
   "language": "python",
   "name": "conda-env-isi-py"
  },
  "language_info": {
   "codemirror_mode": {
    "name": "ipython",
    "version": 3
   },
   "file_extension": ".py",
   "mimetype": "text/x-python",
   "name": "python",
   "nbconvert_exporter": "python",
   "pygments_lexer": "ipython3",
   "version": "3.6.12"
  }
 },
 "nbformat": 4,
 "nbformat_minor": 4
}
