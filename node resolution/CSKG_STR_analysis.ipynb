{
 "cells": [
  {
   "cell_type": "markdown",
   "metadata": {},
   "source": [
    "This code makes a statistic summary of ConceptNet runed by CGKG_node_resolution_ConceptNet"
   ]
  },
  {
   "cell_type": "code",
   "execution_count": 20,
   "metadata": {},
   "outputs": [],
   "source": [
    "from util import load_file\n",
    "import matplotlib.pyplot as plt\n",
    "import collections\n",
    "import numpy as np"
   ]
  },
  {
   "cell_type": "markdown",
   "metadata": {},
   "source": [
    "## Setup directories"
   ]
  },
  {
   "cell_type": "code",
   "execution_count": 21,
   "metadata": {},
   "outputs": [],
   "source": [
    "#input file\n",
    "cn_predict = \"./data/cn_predict.tsv\"\n",
    "cn_freq = \"./data/cn_freq.tsv\""
   ]
  },
  {
   "cell_type": "markdown",
   "metadata": {},
   "source": [
    "# Word Operation"
   ]
  },
  {
   "cell_type": "code",
   "execution_count": 22,
   "metadata": {},
   "outputs": [],
   "source": [
    "def tokenization(string):\n",
    "    #Split words\n",
    "    return string.split(\" \")\n",
    "\n",
    "def count_update(label1, label2, node_id1, node_id2,distinct_label,labelHasNode,SingleWord):\n",
    "    distinct_label.add(label1)\n",
    "    distinct_label.add(label2)\n",
    "    tokens1 = tokenization(label1)\n",
    "    tokens2 = tokenization(label2)\n",
    "    \n",
    "    if node_id1 != \"wn:\":\n",
    "        labelHasNode.add(label1)\n",
    "            \n",
    "    if node_id2 != \"wn:\":\n",
    "        labelHasNode.add(label2)\n",
    "\n",
    "    if len(tokens1) == 1:\n",
    "        SingleWord[label1] = SingleWord.get(label1,0) + (node_id1!= \"wn:\")\n",
    "        \n",
    "    if len(tokens2) == 1:\n",
    "        SingleWord[label2] = SingleWord.get(label2,0) + (node_id2!= \"wn:\")\n",
    "        \n",
    "    return distinct_label,labelHasNode,SingleWord\n",
    "    "
   ]
  },
  {
   "cell_type": "markdown",
   "metadata": {},
   "source": [
    "# Distinct Node Missing Probability\n",
    "\n",
    "use dataset, **cn_predict.tsv** link:https://drive.google.com/drive/u/1/folders/115yBoiTAiIpeqry26Wuj99hqaE-6C84Z"
   ]
  },
  {
   "cell_type": "code",
   "execution_count": 23,
   "metadata": {},
   "outputs": [],
   "source": [
    "head, lines = load_file(cn_predict)"
   ]
  },
  {
   "cell_type": "code",
   "execution_count": 24,
   "metadata": {},
   "outputs": [],
   "source": [
    "count = 0\n",
    "distinct_label = set()\n",
    "labelHasNode = set()\n",
    "SingleWord = dict()\n",
    "for line in lines:\n",
    "    label1 = line[0]\n",
    "    label2 = line[2]\n",
    "    \n",
    "    node_id1 = line[3]\n",
    "    node_id2 = line[4]\n",
    "    \n",
    "    distinct_label,labelHasNode,SingleWord = count_update(label1, label2, node_id1, node_id2,distinct_label,labelHasNode,SingleWord)\n",
    "    "
   ]
  },
  {
   "cell_type": "code",
   "execution_count": 25,
   "metadata": {},
   "outputs": [
    {
     "data": {
      "text/plain": [
       "0.6562935261681708"
      ]
     },
     "execution_count": 25,
     "metadata": {},
     "output_type": "execute_result"
    }
   ],
   "source": [
    "# the probabilty of distinct labels having no node id\n",
    "prob3 = (len(distinct_label) - len(labelHasNode))/len(distinct_label)\n",
    "prob3"
   ]
  },
  {
   "cell_type": "code",
   "execution_count": 26,
   "metadata": {},
   "outputs": [
    {
     "data": {
      "text/plain": [
       "(0.29777216910158716,\n",
       " ['meromictic',\n",
       "  'inaddibility',\n",
       "  'bookfoods',\n",
       "  'corticopetal',\n",
       "  'unconciliatory',\n",
       "  'innerness',\n",
       "  'musicstore',\n",
       "  'lawnmower',\n",
       "  'menarcheal',\n",
       "  'macroliterature'])"
      ]
     },
     "execution_count": 26,
     "metadata": {},
     "output_type": "execute_result"
    }
   ],
   "source": [
    "# the probabilty of single distinct labels having no node id\n",
    "count = 0\n",
    "single_noexist = set()\n",
    "for word in SingleWord:\n",
    "    num = SingleWord[word]\n",
    "    if num == 0:\n",
    "        count += 1\n",
    "        single_noexist.add(word)\n",
    "        \n",
    "prob4 = count/len(SingleWord)\n",
    "prob4, list(single_noexist)[:10]"
   ]
  },
  {
   "cell_type": "markdown",
   "metadata": {},
   "source": [
    "## Label Frequency Distribution\n",
    "use dataset, **cn_freq.tsv** link:https://drive.google.com/drive/u/1/folders/115yBoiTAiIpeqry26Wuj99hqaE-6C84Z"
   ]
  },
  {
   "cell_type": "code",
   "execution_count": 44,
   "metadata": {},
   "outputs": [],
   "source": [
    "head, lines = load_file(cn_freq)"
   ]
  },
  {
   "cell_type": "code",
   "execution_count": 77,
   "metadata": {},
   "outputs": [],
   "source": [
    "distribute = []\n",
    "\n",
    "for w1, w2 in lines:\n",
    "    if w1 !=\"-1\":\n",
    "        distribute.append(int(w1))"
   ]
  },
  {
   "cell_type": "code",
   "execution_count": 78,
   "metadata": {},
   "outputs": [],
   "source": [
    "# For different num, count the occur times\n",
    "num_occur = collections.Counter(distribute)"
   ]
  },
  {
   "cell_type": "code",
   "execution_count": 79,
   "metadata": {},
   "outputs": [],
   "source": [
    "sort_key =sorted(num_occur)"
   ]
  },
  {
   "cell_type": "code",
   "execution_count": 80,
   "metadata": {},
   "outputs": [
    {
     "data": {
      "text/plain": [
       "(array([4.3093e+04, 3.5050e+03, 9.9400e+02, 2.8200e+02, 1.7500e+02,\n",
       "        1.1600e+02, 4.1000e+01, 3.0000e+01, 1.6000e+01, 2.3000e+01,\n",
       "        2.9000e+01, 3.2000e+01, 0.0000e+00, 1.0000e+00, 0.0000e+00,\n",
       "        5.0000e+00, 0.0000e+00, 2.2000e+01, 0.0000e+00, 1.0000e+00]),\n",
       " array([ 0. ,  3.7,  7.4, 11.1, 14.8, 18.5, 22.2, 25.9, 29.6, 33.3, 37. ,\n",
       "        40.7, 44.4, 48.1, 51.8, 55.5, 59.2, 62.9, 66.6, 70.3, 74. ]),\n",
       " <BarContainer object of 20 artists>)"
      ]
     },
     "execution_count": 80,
     "metadata": {},
     "output_type": "execute_result"
    },
    {
     "data": {
      "image/png": "[encoded data removed]",
      "text/plain": [
       "<Figure size 432x288 with 1 Axes>"
      ]
     },
     "metadata": {
      "needs_background": "light"
     },
     "output_type": "display_data"
    }
   ],
   "source": [
    "plt.hist(distribute,log=True, bins=20)"
   ]
  },
  {
   "cell_type": "code",
   "execution_count": null,
   "metadata": {},
   "outputs": [],
   "source": []
  }
 ],
 "metadata": {
  "kernelspec": {
   "display_name": "Python [conda env:isi]",
   "language": "python",
   "name": "conda-env-isi-py"
  },
  "language_info": {
   "codemirror_mode": {
    "name": "ipython",
    "version": 3
   },
   "file_extension": ".py",
   "mimetype": "text/x-python",
   "name": "python",
   "nbconvert_exporter": "python",
   "pygments_lexer": "ipython3",
   "version": "3.6.12"
  }
 },
 "nbformat": 4,
 "nbformat_minor": 4
}
