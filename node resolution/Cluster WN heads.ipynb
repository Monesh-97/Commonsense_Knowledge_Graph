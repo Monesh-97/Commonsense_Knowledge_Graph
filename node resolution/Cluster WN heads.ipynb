{
 "cells": [
  {
   "cell_type": "code",
   "execution_count": 2,
   "metadata": {},
   "outputs": [],
   "source": [
    "from util import *\n",
    "import numpy as np\n",
    "import random, os\n",
    "import matplotlib.pyplot as plt\n",
    "import torch"
   ]
  },
  {
   "cell_type": "markdown",
   "metadata": {},
   "source": [
    "## Setup directories"
   ]
  },
  {
   "cell_type": "code",
   "execution_count": 3,
   "metadata": {},
   "outputs": [],
   "source": [
    "# input_file\n",
    "wn_gold_file = \"wn_gold_all.tsv\"\n",
    "\n",
    "# ouput_file\n",
    "wn_gold_10k_amb_file = \"wn_gold_10k_amb_head.tsv\"\n",
    "partition_folder = \"./head_clustering\"\n",
    "wn_train_10k =\"./head_clustering/train.tsv\" \n",
    "wn_dev_10k =\"./head_clustering/dev.tsv\" \n",
    "wn_test_10k =\"./head_clustering/test.tsv\" "
   ]
  },
  {
   "cell_type": "markdown",
   "metadata": {},
   "source": [
    "## Generate 10K Ambiguous Head Gold Dataset"
   ]
  },
  {
   "cell_type": "code",
   "execution_count": 4,
   "metadata": {},
   "outputs": [],
   "source": [
    "def distribution(wn_gold_all):\n",
    "    # obtain the dsitribution of each label\n",
    "    # output: {label1-> str: num->integer}\n",
    "    distri = dict()\n",
    "    for line in wn_gold_all:\n",
    "        node1_label = line[0]\n",
    "\n",
    "        node1_id = line[3]\n",
    "\n",
    "        temp1 = distri.get(node1_label,set())\n",
    "        temp1.add(node1_id)\n",
    "\n",
    "        distri[node1_label] = temp1\n",
    "    \n",
    "    for item in distri:\n",
    "        distri[item] = len(distri[item])\n",
    "    return distri\n",
    "\n",
    "def ambiguous_filter(lines,ambiguous_num = 1):\n",
    "    # filter the labels based on their ambiguous number (multiple meanning) global file\n",
    "    for line in lines:\n",
    "        subject = line[0]\n",
    "        \n",
    "        candits = generate_candidates(subject)\n",
    "        \n",
    "        if len(candits)>1: #(multi meaning)\n",
    "            yield line\n",
    "\n",
    "def write_gold(filename, lines):\n",
    "    # write prediction to file\n",
    "    new_head = ['node1;label','relation','node2;label','node1','node2']\n",
    "    with open(filename, \"w\", newline='',encoding=\"UTF-8\") as f:\n",
    "        writer = csv.writer(f, delimiter='\\t')\n",
    "        writer.writerow(new_head)\n",
    "        writer.writerows(lines)\n",
    "        "
   ]
  },
  {
   "cell_type": "markdown",
   "metadata": {},
   "source": [
    "**write wn_gold_10k file**"
   ]
  },
  {
   "cell_type": "code",
   "execution_count": 5,
   "metadata": {},
   "outputs": [
    {
     "name": "stdout",
     "output_type": "stream",
     "text": [
      "total num of lines:  111276\n",
      "total num of lines with multi ambiguous subject:  46651\n"
     ]
    }
   ],
   "source": [
    "# load data\n",
    "head, lines = load_file(wn_gold_file)\n",
    "print(\"total num of lines: \", len(lines))\n",
    "\n",
    "# check ambiguous of words in each line. Only ambiguous subject word (multiple meanning words) is record.\n",
    "filtered_lines = list(ambiguous_filter(lines))\n",
    "print(\"total num of lines with multi ambiguous subject: \", len(filtered_lines))\n",
    "\n",
    "# random choice 10000 lines\n",
    "wn_gold_10k = random.choices(filtered_lines, k=10000)\n",
    "\n",
    "#write file\n",
    "write_gold(wn_gold_10k_amb_file, wn_gold_10k)\n"
   ]
  },
  {
   "cell_type": "markdown",
   "metadata": {},
   "source": [
    "**Split train, dev, test file**"
   ]
  },
  {
   "cell_type": "code",
   "execution_count": 6,
   "metadata": {},
   "outputs": [
    {
     "name": "stdout",
     "output_type": "stream",
     "text": [
      "length of train, dev, test:  8000 1000 1000\n"
     ]
    }
   ],
   "source": [
    "# define ratio of train, dev, test\n",
    "train_ratio = 0.8\n",
    "dev_ratio = 0.1\n",
    "test_ratio = 1 - train_ratio - dev_ratio\n",
    "\n",
    "len_gold = len(wn_gold_10k)\n",
    "train, dev, test = np.split(wn_gold_10k,[int(train_ratio*len_gold),int((train_ratio+dev_ratio)*len_gold)])\n",
    "print(\"length of train, dev, test: \", len(train), len(dev), len(test))\n",
    "\n",
    "# write to file\n",
    "\n",
    "#generate folder\n",
    "if not os.path.isdir(partition_folder):\n",
    "    os.mkdir(partition_folder)\n",
    "\n",
    "# write train file\n",
    "write_gold(wn_train_10k, train)\n",
    "\n",
    "# write dev file\n",
    "write_gold(wn_dev_10k, dev)\n",
    "\n",
    "#write test file\n",
    "write_gold(wn_test_10k, test)"
   ]
  },
  {
   "cell_type": "markdown",
   "metadata": {},
   "source": [
    "**Distribution Analysis**"
   ]
  },
  {
   "cell_type": "code",
   "execution_count": 7,
   "metadata": {},
   "outputs": [
    {
     "data": {
      "text/plain": [
       "(array([4.979e+03, 7.840e+02, 1.240e+02, 4.000e+01, 1.800e+01, 2.000e+00,\n",
       "        0.000e+00, 0.000e+00, 0.000e+00, 1.000e+00]),\n",
       " array([ 1.,  2.,  3.,  4.,  5.,  6.,  7.,  8.,  9., 10., 11.]),\n",
       " <BarContainer object of 10 artists>)"
      ]
     },
     "execution_count": 7,
     "metadata": {},
     "output_type": "execute_result"
    },
    {
     "data": {
      "image/png": "[encoded data removed]",
      "text/plain": [
       "<Figure size 432x288 with 1 Axes>"
      ]
     },
     "metadata": {
      "needs_background": "light"
     },
     "output_type": "display_data"
    }
   ],
   "source": [
    "# train data distribution\n",
    "distri_train = distribution(train)\n",
    "plt.hist(distri_train.values(),log=True)"
   ]
  },
  {
   "cell_type": "code",
   "execution_count": 8,
   "metadata": {},
   "outputs": [
    {
     "data": {
      "text/plain": [
       "(array([924.,   0.,   0.,   0.,   0.,  25.,   0.,   0.,   0.,   2.]),\n",
       " array([1. , 1.2, 1.4, 1.6, 1.8, 2. , 2.2, 2.4, 2.6, 2.8, 3. ]),\n",
       " <BarContainer object of 10 artists>)"
      ]
     },
     "execution_count": 8,
     "metadata": {},
     "output_type": "execute_result"
    },
    {
     "data": {
      "image/png": "[encoded data removed]",
      "text/plain": [
       "<Figure size 432x288 with 1 Axes>"
      ]
     },
     "metadata": {
      "needs_background": "light"
     },
     "output_type": "display_data"
    }
   ],
   "source": [
    "# dev data distribution\n",
    "distri_dev = distribution(dev)\n",
    "plt.hist(distri_dev.values(),log=True)"
   ]
  },
  {
   "cell_type": "code",
   "execution_count": 9,
   "metadata": {},
   "outputs": [
    {
     "data": {
      "text/plain": [
       "(array([946.,   0.,   0.,   0.,   0.,  16.,   0.,   0.,   0.,   2.]),\n",
       " array([1. , 1.2, 1.4, 1.6, 1.8, 2. , 2.2, 2.4, 2.6, 2.8, 3. ]),\n",
       " <BarContainer object of 10 artists>)"
      ]
     },
     "execution_count": 9,
     "metadata": {},
     "output_type": "execute_result"
    },
    {
     "data": {
      "image/png": "[encoded data removed]",
      "text/plain": [
       "<Figure size 432x288 with 1 Axes>"
      ]
     },
     "metadata": {
      "needs_background": "light"
     },
     "output_type": "display_data"
    }
   ],
   "source": [
    "# test data distribution\n",
    "distri_test = distribution(test)\n",
    "plt.hist(distri_test.values(),log=True)"
   ]
  },
  {
   "cell_type": "markdown",
   "metadata": {},
   "source": [
    "## Four baselines to predict (WordNet)\n",
    "**Random, Frequency, STB model, STR model**"
   ]
  },
  {
   "cell_type": "markdown",
   "metadata": {},
   "source": [
    "## Random Baseline (WordNet)"
   ]
  },
  {
   "cell_type": "code",
   "execution_count": 10,
   "metadata": {},
   "outputs": [],
   "source": [
    "def MRS(wn_gold):\n",
    "    # Random Baseline calculation\n",
    "    # only predict subject\n",
    "    wn_predict = []\n",
    "    for line in wn_gold:\n",
    "        label1  = line[0]\n",
    "        label2 = line[2]\n",
    "        relationship = line[1]\n",
    "        \n",
    "        # generate all possible combination of \"_\"&\"-\" and check whether it can find sysets.\n",
    "        # if the combination can generate sysets, use this combinations to generate candidates\n",
    "        candidates1 = generate_candidates(label1)\n",
    "        \n",
    "        if candidates1:\n",
    "            # random choose candidates\n",
    "            node1_id = random.choice(candidates1)\n",
    "        else:\n",
    "            node1_id = \"\"\n",
    "        \n",
    "        node2_id=\"\"\n",
    "        \n",
    "        wn_predict.append([label1, relationship, label2, node1_id, node2_id])\n",
    "        \n",
    "    return wn_predict\n",
    "\n",
    "\n",
    "def validation(wn_predict, wn_gold):\n",
    "    # valid the accuracy of prediction: only compare the accuracy of subject\n",
    "    \n",
    "    correct = 0\n",
    "    \n",
    "    for predict, actual in zip(wn_predict, wn_gold):\n",
    "        predict_label1 = synset2str(predict[3])\n",
    "        actual_label1 = actual[3]\n",
    "        \n",
    "        if predict_label1 == actual_label1:\n",
    "            # predict and actual is same\n",
    "            correct += 1\n",
    "            \n",
    "    return correct/len(wn_predict)"
   ]
  },
  {
   "cell_type": "markdown",
   "metadata": {},
   "source": [
    "**train dataset**"
   ]
  },
  {
   "cell_type": "code",
   "execution_count": 11,
   "metadata": {},
   "outputs": [
    {
     "name": "stdout",
     "output_type": "stream",
     "text": [
      "Accuracy of train dataset (random baseline):  0.30675\n"
     ]
    }
   ],
   "source": [
    "wn_ran_train_predict = MRS(train)\n",
    "accuracy = validation(wn_ran_train_predict, train)\n",
    "print(\"Accuracy of train dataset (random baseline): \", accuracy)"
   ]
  },
  {
   "cell_type": "markdown",
   "metadata": {},
   "source": [
    "**dev dataset**"
   ]
  },
  {
   "cell_type": "code",
   "execution_count": 12,
   "metadata": {},
   "outputs": [
    {
     "name": "stdout",
     "output_type": "stream",
     "text": [
      "Accuracy of dev dataset (random baseline):  0.326\n"
     ]
    }
   ],
   "source": [
    "wn_ran_dev_predict = MRS(dev)\n",
    "accuracy = validation(wn_ran_dev_predict, dev)\n",
    "print(\"Accuracy of dev dataset (random baseline): \", accuracy)"
   ]
  },
  {
   "cell_type": "markdown",
   "metadata": {},
   "source": [
    "**test dataset**"
   ]
  },
  {
   "cell_type": "code",
   "execution_count": 13,
   "metadata": {},
   "outputs": [
    {
     "name": "stdout",
     "output_type": "stream",
     "text": [
      "Accuracy of test dataset (random baseline):  0.296\n"
     ]
    }
   ],
   "source": [
    "wn_ran_test_predict = MRS(test)\n",
    "accuracy = validation(wn_ran_test_predict, test)\n",
    "print(\"Accuracy of test dataset (random baseline): \", accuracy)"
   ]
  },
  {
   "cell_type": "markdown",
   "metadata": {},
   "source": [
    "## Frequency Baseline (WordNet)"
   ]
  },
  {
   "cell_type": "code",
   "execution_count": 18,
   "metadata": {},
   "outputs": [],
   "source": [
    "def MFS(wn_gold):\n",
    "    # Frequent Baseline Calculation\n",
    "    wn_predict = []\n",
    "    for line in wn_gold:\n",
    "        label1  = line[0]\n",
    "        label2 = line[2]\n",
    "        relationship = line[1]\n",
    "        \n",
    "        # same as MRS, generate candidates\n",
    "        candidates1 = generate_candidates(label1)\n",
    "        \n",
    "        # obtain the highest frequency\n",
    "        if candidates1:\n",
    "            node1_id = candidates1[0]\n",
    "        else:\n",
    "            node1_id = \"\"       \n",
    "\n",
    "        node2_id = \"\"\n",
    "        \n",
    "\n",
    "        wn_predict.append([label1, relationship, label2, node1_id, node2_id])\n",
    "        \n",
    "    return wn_predict"
   ]
  },
  {
   "cell_type": "markdown",
   "metadata": {},
   "source": [
    "**train dataset**"
   ]
  },
  {
   "cell_type": "code",
   "execution_count": 19,
   "metadata": {},
   "outputs": [
    {
     "name": "stdout",
     "output_type": "stream",
     "text": [
      "Accuracy of train dataset (random baseline):  0.355875\n"
     ]
    }
   ],
   "source": [
    "wn_fre_train_predict = MFS(train)\n",
    "accuracy = validation(wn_fre_train_predict, train)\n",
    "print(\"Accuracy of train dataset (random baseline): \", accuracy)"
   ]
  },
  {
   "cell_type": "markdown",
   "metadata": {},
   "source": [
    "**dev dataset**"
   ]
  },
  {
   "cell_type": "code",
   "execution_count": 20,
   "metadata": {},
   "outputs": [
    {
     "name": "stdout",
     "output_type": "stream",
     "text": [
      "Accuracy of dev dataset (random baseline):  0.368\n"
     ]
    }
   ],
   "source": [
    "wn_fre_dev_predict = MFS(dev)\n",
    "accuracy = validation(wn_fre_dev_predict, dev)\n",
    "print(\"Accuracy of dev dataset (random baseline): \", accuracy)"
   ]
  },
  {
   "cell_type": "markdown",
   "metadata": {},
   "source": [
    "**test dataset**"
   ]
  },
  {
   "cell_type": "code",
   "execution_count": 21,
   "metadata": {},
   "outputs": [
    {
     "name": "stdout",
     "output_type": "stream",
     "text": [
      "Accuracy of test dataset (random baseline):  0.345\n"
     ]
    }
   ],
   "source": [
    "wn_fre_test_predict = MFS(test)\n",
    "accuracy = validation(wn_fre_test_predict, test)\n",
    "print(\"Accuracy of test dataset (random baseline): \", accuracy)"
   ]
  },
  {
   "cell_type": "markdown",
   "metadata": {},
   "source": [
    "## Sentence-Transformer-Bert (STB) (WordNet)"
   ]
  },
  {
   "cell_type": "code",
   "execution_count": 15,
   "metadata": {},
   "outputs": [],
   "source": [
    "model_STB = SentenceTransformer('roberta-large-nli-stsb-mean-tokens')\n",
    "word2sentence = {'/r/IsA':\"is a\", '/r/MadeOf': \"is made of\",'/r/PartOf':\"is part of\"}"
   ]
  },
  {
   "cell_type": "code",
   "execution_count": 16,
   "metadata": {},
   "outputs": [],
   "source": [
    "def sentence_embedding(wn_gold, model, label_embeddings = None, word2sentence = word2sentence):\n",
    "    # use sentences embedding to find most similar candit\n",
    "    wn_predict = []\n",
    "    sents_combine = []\n",
    "    \n",
    "    for line in wn_gold:\n",
    "        sentence = line_sentence(line, word2sentence)\n",
    "        sents_combine.append(sentence)\n",
    "    # obtain sentence embedding\n",
    "    sents_embedding = model.encode(sents_combine)\n",
    "    \n",
    "    \n",
    "    for line,sent_embedding in zip(wn_gold,sents_embedding):\n",
    "        label1 = line[0]\n",
    "\n",
    "        #obtain the max similar item for label1\n",
    "        node_id1 = max_candidate(label1,sent_embedding,label_embeddings) \n",
    "        node_id2 = \"\"\n",
    "                \n",
    "        wn_predict.append([label1, line[1], line[2],node_id1,node_id2])\n",
    "        \n",
    "    return wn_predict"
   ]
  },
  {
   "cell_type": "markdown",
   "metadata": {},
   "source": [
    "**train dataset**"
   ]
  },
  {
   "cell_type": "code",
   "execution_count": null,
   "metadata": {},
   "outputs": [],
   "source": [
    "# obtain the defination embedding of each synset for each label\n",
    "label_embeddings = candidates_embeddings(train, model_STB)\n",
    "\n",
    "# obtain the predict\n",
    "wn_STB_train_predict= sentence_embedding(train, model_STB,label_embeddings = label_embeddings, word2sentence = word2sentence)\n",
    "# release cache\n",
    "torch.cuda.empty_cache()\n",
    "# Check the Accuracy\n",
    "accuracy = validation(wn_STB_train_predict, train)\n",
    "accuracy"
   ]
  },
  {
   "cell_type": "markdown",
   "metadata": {},
   "source": [
    "**dev dataset**"
   ]
  },
  {
   "cell_type": "code",
   "execution_count": null,
   "metadata": {},
   "outputs": [],
   "source": [
    "# obtain the defination embedding of each synset for each label\n",
    "label_embeddings = candidates_embeddings(dev, model_STB)\n",
    "\n",
    "# obtain the predict\n",
    "wn_STB_dev_predict= sentence_embedding(dev, model_STB,label_embeddings = label_embeddings, word2sentence = word2sentence)\n",
    "# release cache\n",
    "torch.cuda.empty_cache()\n",
    "# Check the Accuracy\n",
    "accuracy = validation(wn_STB_dev_predict, dev)\n",
    "accuracy"
   ]
  },
  {
   "cell_type": "markdown",
   "metadata": {},
   "source": [
    "**test dataset**"
   ]
  },
  {
   "cell_type": "code",
   "execution_count": null,
   "metadata": {},
   "outputs": [],
   "source": [
    "# obtain the defination embedding of each synset for each label\n",
    "label_embeddings = candidates_embeddings(test, model_STB)\n",
    "\n",
    "# obtain the predict\n",
    "wn_STB_test_predict= sentence_embedding(test, model_STB,label_embeddings = label_embeddings, word2sentence = word2sentence)\n",
    "# release cache\n",
    "torch.cuda.empty_cache()\n",
    "# Check the Accuracy\n",
    "accuracy = validation(wn_STB_test_predict, test)\n",
    "accuracy"
   ]
  },
  {
   "cell_type": "markdown",
   "metadata": {},
   "source": [
    "## Sentence-Transformer-Roberta (STR) (WordNet)"
   ]
  },
  {
   "cell_type": "code",
   "execution_count": 14,
   "metadata": {},
   "outputs": [],
   "source": [
    "model_STR = SentenceTransformer('roberta-large-nli-stsb-mean-tokens')"
   ]
  },
  {
   "cell_type": "markdown",
   "metadata": {},
   "source": [
    "**train dataset**"
   ]
  },
  {
   "cell_type": "code",
   "execution_count": null,
   "metadata": {},
   "outputs": [],
   "source": [
    "# obtain the defination embedding of each synset for each label\n",
    "label_embeddings = candidates_embeddings(train, model_STR)\n",
    "\n",
    "# obtain the predict\n",
    "wn_STR_train_predict= sentence_embedding(train, model_STR,label_embeddings = label_embeddings, word2sentence = word2sentence)\n",
    "# release cache\n",
    "torch.cuda.empty_cache()\n",
    "# Check the Accuracy\n",
    "accuracy = validation(wn_STR_train_predict, train)\n",
    "accuracy"
   ]
  },
  {
   "cell_type": "markdown",
   "metadata": {},
   "source": [
    "**dev dataset**"
   ]
  },
  {
   "cell_type": "code",
   "execution_count": 17,
   "metadata": {},
   "outputs": [
    {
     "data": {
      "text/plain": [
       "0.507"
      ]
     },
     "execution_count": 17,
     "metadata": {},
     "output_type": "execute_result"
    }
   ],
   "source": [
    "# obtain the defination embedding of each synset for each label\n",
    "label_embeddings = candidates_embeddings(dev, model_STR)\n",
    "\n",
    "# obtain the predict\n",
    "wn_STR_dev_predict= sentence_embedding(dev, model_STR,label_embeddings = label_embeddings, word2sentence = word2sentence)\n",
    "# release cache\n",
    "torch.cuda.empty_cache()\n",
    "# Check the Accuracy\n",
    "accuracy = validation(wn_STR_dev_predict, dev)\n",
    "accuracy"
   ]
  },
  {
   "cell_type": "markdown",
   "metadata": {},
   "source": [
    "**test dataset**"
   ]
  },
  {
   "cell_type": "code",
   "execution_count": null,
   "metadata": {},
   "outputs": [],
   "source": [
    "# obtain the defination embedding of each synset for each label\n",
    "label_embeddings = candidates_embeddings(test, model_STR)\n",
    "\n",
    "# obtain the predict\n",
    "wn_STR_test_predict= sentence_embedding(test, model_STR,label_embeddings = label_embeddings, word2sentence = word2sentence)\n",
    "# release cache\n",
    "torch.cuda.empty_cache()\n",
    "# Check the Accuracy\n",
    "accuracy = validation(wn_STR_test_predict, test)\n",
    "accuracy"
   ]
  },
  {
   "cell_type": "markdown",
   "metadata": {},
   "source": [
    "## POS Baseline"
   ]
  },
  {
   "cell_type": "code",
   "execution_count": null,
   "metadata": {},
   "outputs": [],
   "source": [
    "word2limit = {'/r/IsA':[\"same\"], '/r/MadeOf': [\"same\"],'/r/PartOf':[\"same\"]}"
   ]
  },
  {
   "cell_type": "code",
   "execution_count": null,
   "metadata": {},
   "outputs": [],
   "source": [
    "def generate_idx_combine(len_nodeid1,len_nodeid2):\n",
    "    # generate index combination for nodeId combination.\n",
    "    # nodeId combination will be used to check whther the prediction limitation satisfied\n",
    "    \n",
    "    total = len_nodeid1 + len_nodeid2\n",
    "\n",
    "    for i in range(total):\n",
    "        for len1 in range(min(i+1,len_nodeid1)):\n",
    "            len2 = i-len1\n",
    "            if len2 < len_nodeid2:\n",
    "                yield len1, len2"
   ]
  },
  {
   "cell_type": "code",
   "execution_count": null,
   "metadata": {},
   "outputs": [],
   "source": [
    "def sentence_embedding_pos(wn_gold, model, label_embeddings = None, word2sentence = word2sentence, word2limit= word2limit):\n",
    "    # sentence-transformer-bert Calculation\n",
    "    wn_predict = []\n",
    "    # frequency place of output data\n",
    "    freq = []\n",
    "\n",
    "    sents_combine = []\n",
    "    for line in wn_gold:\n",
    "        sentence = line_sentence(line, word2sentence)\n",
    "        sents_combine.append(sentence)\n",
    "    sents_embedding = model.encode(sents_combine)\n",
    "\n",
    "    for line,sent_embedding in zip(wn_gold,sents_embedding):\n",
    "        label1 = line[0]\n",
    "        label2 = line[2]\n",
    "        predicate = line[1]\n",
    "\n",
    "        #obtain the max similar item for label1\n",
    "        sort_nodeid1 = sort_candidate(label1,sent_embedding,label_embeddings)\n",
    "        \n",
    "        #obtain the max similar item for label2\n",
    "        sort_nodeid2 = sort_candidate(label2,sent_embedding,label_embeddings)\n",
    "        \n",
    "        for idx1, idx2 in generate_idx_combine(len(sort_nodeid1),len(sort_nodeid2)):\n",
    "            if idx1 == -1:\n",
    "                node_id1 = \"\"\n",
    "                freq1 = -1\n",
    "            else:\n",
    "                _, node_id1, freq1 = sort_nodeid1[idx1]\n",
    "\n",
    "            if idx2 == -1:\n",
    "                node_id2 = \"\"\n",
    "                freq2 = -1\n",
    "            else:\n",
    "                _, node_id2, freq2 = sort_nodeid2[idx2]\n",
    "\n",
    "            status = predicate_limitation_check(node_id1, node_id2, predicate, word2limit)\n",
    "\n",
    "            if status:\n",
    "                break\n",
    "            else:\n",
    "                continue\n",
    "            \n",
    "                \n",
    "        wn_predict.append([label1, line[1], label2,node_id1,node_id2])\n",
    "        freq.append(tuple([freq1, freq2]))\n",
    "    #print(freq)\n",
    "        \n",
    "    return wn_predict, freq"
   ]
  },
  {
   "cell_type": "markdown",
   "metadata": {},
   "source": [
    "**train dataset**"
   ]
  },
  {
   "cell_type": "code",
   "execution_count": null,
   "metadata": {},
   "outputs": [],
   "source": [
    "# obtain the defination embedding of each synset for each label\n",
    "label_embeddings = candidates_embeddings(train, model_STR)\n",
    "\n",
    "# obtain the predict\n",
    "wn_POS_train_predict,_= sentence_embedding_pos(train, model_STR,label_embeddings = label_embeddings, word2sentence = word2sentence,word2limit= word2limit)\n",
    "# release cache\n",
    "torch.cuda.empty_cache()\n",
    "# Check the Accuracy\n",
    "accuracy = validation(wn_POS_train_predict, train)\n",
    "accuracy"
   ]
  },
  {
   "cell_type": "markdown",
   "metadata": {},
   "source": [
    "**dev dataset**"
   ]
  },
  {
   "cell_type": "code",
   "execution_count": null,
   "metadata": {},
   "outputs": [],
   "source": [
    "# obtain the defination embedding of each synset for each label\n",
    "label_embeddings = candidates_embeddings(dev, model_STR)\n",
    "\n",
    "# obtain the predict\n",
    "wn_POS_dev_predict,_= sentence_embedding_pos(dev, model_STR,label_embeddings = label_embeddings, word2sentence = word2sentence,word2limit= word2limit)\n",
    "# release cache\n",
    "torch.cuda.empty_cache()\n",
    "# Check the Accuracy\n",
    "accuracy = validation(wn_POS_dev_predict, dev)\n",
    "accuracy"
   ]
  },
  {
   "cell_type": "markdown",
   "metadata": {},
   "source": [
    "**test dataset**"
   ]
  },
  {
   "cell_type": "code",
   "execution_count": null,
   "metadata": {},
   "outputs": [],
   "source": [
    "# obtain the defination embedding of each synset for each label\n",
    "label_embeddings = candidates_embeddings(test, model_STR)\n",
    "\n",
    "# obtain the predict\n",
    "wn_POS_test_predict,_= sentence_embedding_pos(test, model_STR,label_embeddings = label_embeddings, word2sentence = word2sentence,word2limit= word2limit)\n",
    "# release cache\n",
    "torch.cuda.empty_cache()\n",
    "# Check the Accuracy\n",
    "accuracy = validation(wn_POS_test_predict, test)\n",
    "accuracy"
   ]
  },
  {
   "cell_type": "markdown",
   "metadata": {},
   "source": [
    "# Frquency Distribution Check"
   ]
  },
  {
   "cell_type": "code",
   "execution_count": 34,
   "metadata": {},
   "outputs": [],
   "source": [
    "def fre_check(wn_predict):\n",
    "    fre = []\n",
    "    for line in wn_predict:\n",
    "        synsets_ = generate_candidates(line[0])\n",
    "        fre.append(synsets_.index(line[3]))\n",
    "\n",
    "    plt.hist(fre,log=True,bins=50)\n",
    "\n",
    "    count =0\n",
    "    for item in fre:\n",
    "        if item == 0:\n",
    "            count += 1\n",
    "\n",
    "    print(\"probability of first\",count/len(fre))"
   ]
  },
  {
   "cell_type": "code",
   "execution_count": 35,
   "metadata": {},
   "outputs": [
    {
     "name": "stdout",
     "output_type": "stream",
     "text": [
      "probability of first 0.317\n"
     ]
    },
    {
     "data": {
      "image/png": "[encoded data removed]",
      "text/plain": [
       "<Figure size 432x288 with 1 Axes>"
      ]
     },
     "metadata": {
      "needs_background": "light"
     },
     "output_type": "display_data"
    }
   ],
   "source": [
    "# STR baseline\n",
    "fre_check(wn_STR_dev_predict)"
   ]
  },
  {
   "cell_type": "code",
   "execution_count": 36,
   "metadata": {},
   "outputs": [
    {
     "name": "stdout",
     "output_type": "stream",
     "text": [
      "probability of first 0.309375\n"
     ]
    },
    {
     "data": {
      "image/png": "[encoded data removed]",
      "text/plain": [
       "<Figure size 432x288 with 1 Axes>"
      ]
     },
     "metadata": {
      "needs_background": "light"
     },
     "output_type": "display_data"
    }
   ],
   "source": [
    "# Random Baseline\n",
    "fre_check(wn_ran_train_predict)"
   ]
  },
  {
   "cell_type": "code",
   "execution_count": 38,
   "metadata": {},
   "outputs": [
    {
     "name": "stdout",
     "output_type": "stream",
     "text": [
      "probability of first 1.0\n"
     ]
    },
    {
     "data": {
      "image/png": "[encoded data removed]",
      "text/plain": [
       "<Figure size 432x288 with 1 Axes>"
      ]
     },
     "metadata": {
      "needs_background": "light"
     },
     "output_type": "display_data"
    }
   ],
   "source": [
    "#frequency baseline\n",
    "fre_check(wn_fre_train_predict)"
   ]
  },
  {
   "cell_type": "code",
   "execution_count": null,
   "metadata": {},
   "outputs": [],
   "source": []
  }
 ],
 "metadata": {
  "kernelspec": {
   "display_name": "Python [conda env:isi]",
   "language": "python",
   "name": "conda-env-isi-py"
  },
  "language_info": {
   "codemirror_mode": {
    "name": "ipython",
    "version": 3
   },
   "file_extension": ".py",
   "mimetype": "text/x-python",
   "name": "python",
   "nbconvert_exporter": "python",
   "pygments_lexer": "ipython3",
   "version": "3.6.12"
  }
 },
 "nbformat": 4,
 "nbformat_minor": 4
}
