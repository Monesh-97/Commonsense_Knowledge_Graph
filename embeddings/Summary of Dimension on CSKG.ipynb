{
 "cells": [
  {
   "cell_type": "markdown",
   "metadata": {},
   "source": [
    "# Summary of Dimension on CSKG by human and machine\n",
    "\n",
    "This notebook performs the number of edges per dimension in each cluster, people can see this result from human  and machine perspective. \n",
    "\n",
    "Parameters are set up in the first cell so that we can run this notebook in batch mode."
   ]
  },
  {
   "cell_type": "markdown",
   "metadata": {},
   "source": [
    "### Parameters for invoking the notebook\n",
    "\n",
    "- `cskg_path`: a folder containing the CSKG edges file and all the analysis products.\n",
    "- `cskg_raw `: the name of raw cskg data file \n",
    "- `human_dim`: the name of the human dimension file \n",
    "- `machine_dim`: the name of the machine dimension file\n",
    "\n",
    "\n",
    "Tip:\n",
    "1. We have prepared the `cskg_raw`,`human_dim`, and `machine_dim`, you can download them from \n",
    "https://drive.google.com/file/d/1mihQeiXFSmotXl7bIZ-6Na3eVnV74UOe/view?usp=sharing<br>\n",
    "https://drive.google.com/file/d/1Zct-IW8w5U4S-lRViJEyXaFwXQOzLx4o/view?usp=sharing,<br> and\n",
    "https://drive.google.com/file/d/1-TUd8I3MsSJ8mZTh-XiVaq4fbmfPma92/view?usp=sharing, <br>\n",
    "(###################### Professor, maybe you need to warp them into a new folder.######################.)\n",
    "2. If you use `wc -l file_path` to check the edge numbers of thoese two file, you can see that some edges are missing from human_dim, this is because some of the eages are removed when human do clustering\n"
   ]
  },
  {
   "cell_type": "markdown",
   "metadata": {},
   "source": [
    "# Preamble\n",
    "\n",
    "Set up paths and environment variables, make sure those varible are pointing to the correct file(path)"
   ]
  },
  {
   "cell_type": "code",
   "execution_count": 1,
   "metadata": {},
   "outputs": [],
   "source": [
    "# Parameters\n",
    "cskg_path = \"../output\" \n",
    "cskg_raw = 'cskg_dim.tsv'\n",
    "human_dim = \"human_dim.tsv\"\n",
    "machine_dim = \"machine_dim.tsv\""
   ]
  },
  {
   "cell_type": "code",
   "execution_count": 2,
   "metadata": {},
   "outputs": [],
   "source": [
    "import os\n",
    "from itertools import islice"
   ]
  },
  {
   "cell_type": "code",
   "execution_count": 3,
   "metadata": {},
   "outputs": [],
   "source": [
    "os.environ['CSKG'] = cskg_path\n",
    "os.environ['KG'] = \"{}/{}\".format(cskg_path, cskg_raw)\n",
    "os.environ['HD'] = \"{}/{}\".format(cskg_path, human_dim)\n",
    "os.environ['MD'] = \"{}/{}\".format(cskg_path, machine_dim)\n",
    "\n",
    "\n",
    "kg_path = os.environ['KG']\n",
    "hd_path = os.environ['HD']\n",
    "md_path = os.environ['MD']"
   ]
  },
  {
   "cell_type": "code",
   "execution_count": 4,
   "metadata": {},
   "outputs": [
    {
     "name": "stdout",
     "output_type": "stream",
     "text": [
      "id\tnode1\trelation\tnode2\tnode1;label\tnode2;label\trelation;label\trelation;dimension\tsource\tsentence\n",
      "/c/en/0-/r/DefinedAs-/c/en/empty_set-0000\t/c/en/0\t/r/DefinedAs\t/c/en/empty_set\t0\tempty set\tdefined as\tsimilarity\tCN\t[[0]] is the [[empty set]].\n",
      "/c/en/0-/r/DefinedAs-/c/en/first_limit_ordinal-0000\t/c/en/0\t/r/DefinedAs\t/c/en/first_limit_ordinal\t0\tfirst limit ordinal\tdefined as\tsimilarity\tCN\t[[0]] is the [[first limit ordinal]].\n",
      "/c/en/0-/r/DefinedAs-/c/en/number_zero-0000\t/c/en/0\t/r/DefinedAs\t/c/en/number_zero\t0\tnumber zero\tdefined as\tsimilarity\tCN\t[[0]] is the [[number zero]].\n",
      "/c/en/0-/r/HasContext-/c/en/internet_slang-0000\t/c/en/0\t/r/HasContext\t/c/en/internet_slang\t0\tinternet slang\thas context\trel-other\tCN\t\n",
      "5895123 ../output/cskg_dim.tsv\n"
     ]
    }
   ],
   "source": [
    "!head -5 $KG\n",
    "! wc -l $KG"
   ]
  },
  {
   "cell_type": "code",
   "execution_count": 5,
   "metadata": {},
   "outputs": [
    {
     "name": "stdout",
     "output_type": "stream",
     "text": [
      "../output/human_dim.tsv\n",
      "5895123 ../output/human_dim.tsv\n"
     ]
    }
   ],
   "source": [
    "! echo $HD\n",
    "! wc -l $HD"
   ]
  },
  {
   "cell_type": "code",
   "execution_count": 6,
   "metadata": {},
   "outputs": [
    {
     "name": "stdout",
     "output_type": "stream",
     "text": [
      "id\tdimension\r\n",
      "/c/en/0-/r/DefinedAs-/c/en/empty_set-0000\tsimilarity\r\n",
      "/c/en/0-/r/DefinedAs-/c/en/first_limit_ordinal-0000\tsimilarity\r\n",
      "/c/en/0-/r/DefinedAs-/c/en/number_zero-0000\tsimilarity\r\n",
      "/c/en/0-/r/HasContext-/c/en/internet_slang-0000\trel-other\r\n"
     ]
    }
   ],
   "source": [
    "!head -5 $HD"
   ]
  },
  {
   "cell_type": "code",
   "execution_count": 7,
   "metadata": {},
   "outputs": [
    {
     "name": "stdout",
     "output_type": "stream",
     "text": [
      "../output/machine_dim.tsv\n",
      "5957576 ../output/machine_dim.tsv\n"
     ]
    }
   ],
   "source": [
    "! echo $MD\n",
    "! wc -l $MD"
   ]
  },
  {
   "cell_type": "code",
   "execution_count": 8,
   "metadata": {},
   "outputs": [
    {
     "name": "stdout",
     "output_type": "stream",
     "text": [
      "id\tdimension\r\n",
      "/c/en/0.22_inch_calibre-/r/IsA-/c/en/5.6_millimetres-0000\t3\r\n",
      "/c/en/0/a/wn-/r/SimilarTo-/c/en/cardinal/a/wn-0000\t8\r\n",
      "/c/en/0/n/wn/quantity-/r/Synonym-/c/en/zero/n/wn/quantity-0000\t4\r\n",
      "/c/en/0/n/wp/number-/r/Synonym-/c/en/0/n/wp/number-0000\t7\r\n"
     ]
    }
   ],
   "source": [
    "!head -5 $MD"
   ]
  },
  {
   "cell_type": "markdown",
   "metadata": {},
   "source": [
    "# Utilites "
   ]
  },
  {
   "cell_type": "code",
   "execution_count": 9,
   "metadata": {},
   "outputs": [],
   "source": [
    "def load_edge(kg_file):\n",
    "    edge_info = {}\n",
    "    with open(kg_file) as f:\n",
    "        for line in islice(f, 1, None):\n",
    "            content = line.split('\\t')\n",
    "            edge_id = content[0]\n",
    "            node1 = content[1]\n",
    "            relation = content[2]\n",
    "            node2 = content[3]\n",
    "            edge_info[edge_id] = ([node1,node2],relation)\n",
    "    return edge_info\n",
    "            \n",
    "            \n",
    "\n",
    "def load_dimension(dim_file): \n",
    "    edge_dim = {}\n",
    "    with open(dim_file) as f:\n",
    "        for line in islice(f, 1, None):\n",
    "            content = line.split('\\t')\n",
    "            edge_id = content[0]\n",
    "            dim = content[1].replace('\\n','')\n",
    "            edge_dim[edge_id] = dim\n",
    "    return edge_dim\n",
    "\n",
    "\n",
    "def dim_relations(edge_dim,edge_info,topk=10):\n",
    "    dim_rel = {}\n",
    "    for edge_id,dim in edge_dim.items():\n",
    "        relation = edge_info.get(edge_id,[None,None])[1]\n",
    "        if relation is None:\n",
    "            continue\n",
    "        dim_rel[dim] = dim_rel.get(dim,{})\n",
    "        dim_rel[dim][relation] = dim_rel[dim].get(relation,0)+1\n",
    "    \n",
    "    for dim in dim_rel:\n",
    "        sort_array = sorted(dim_rel[dim].items(),key=lambda x:x[-1],reverse=True)[:topk]\n",
    "    \n",
    "        dim_rel[dim] = sort_array\n",
    "    \n",
    "    return dim_rel\n",
    "        \n",
    "def dim_nodes(edge_dim,edge_info,topk=10):\n",
    "    dim_nodes = {}\n",
    "    for edge_id,dim in edge_dim.items():\n",
    "        nodes = edge_info.get(edge_id,[None,None])[0]\n",
    "        if nodes is None:\n",
    "            continue\n",
    "        dim_nodes[dim] = dim_nodes.get(dim,{})\n",
    "        for node in nodes:\n",
    "            dim_nodes[dim][node] = dim_nodes[dim].get(node,0)+1\n",
    "    \n",
    "    for dim in dim_nodes:\n",
    "        sort_array = sorted(dim_nodes[dim].items(),key=lambda x:x[-1],reverse=True)[:topk]\n",
    "    \n",
    "        dim_nodes[dim] = sort_array\n",
    "    \n",
    "    return dim_nodes\n",
    "        \n",
    "\n",
    "def num_nodes(edge_dim,edge_info):\n",
    "    dim_nodes_num = {}\n",
    "    for edge_id,dim in edge_dim.items():\n",
    "        nodes = edge_info.get(edge_id,[None,None])[0]\n",
    "        if nodes is None:\n",
    "            continue\n",
    "        dim_nodes_num[dim] = dim_nodes_num.get(dim,set())\n",
    "        for node in nodes:\n",
    "            dim_nodes_num[dim].add(node)\n",
    "    \n",
    "    for dim in dim_nodes_num:\n",
    "        dim_nodes_num[dim] = len(dim_nodes_num[dim])\n",
    "    \n",
    "    sort_array = sorted(dim_nodes_num.items(),key=lambda x:x[-1],reverse=True)\n",
    "    return sort_array\n",
    "\n",
    "\n",
    "def num_relations(edge_dim,edge_info):\n",
    "    dim_rel_num = {}\n",
    "    for edge_id,dim in edge_dim.items():\n",
    "        relation = edge_info.get(edge_id,[None,None])[1]\n",
    "        if relation is None:\n",
    "            continue\n",
    "        dim_rel_num[dim] = dim_rel_num.get(dim,set())\n",
    "        dim_rel_num[dim].add(relation)\n",
    "        \n",
    "    for dim in dim_rel_num:\n",
    "        dim_rel_num[dim] = len(dim_rel_num[dim])\n",
    "        \n",
    "    sort_array = sorted(dim_rel_num.items(),key=lambda x:x[-1],reverse=True)\n",
    "    \n",
    "    return sort_array\n"
   ]
  },
  {
   "cell_type": "markdown",
   "metadata": {},
   "source": [
    "# Summary around"
   ]
  },
  {
   "cell_type": "code",
   "execution_count": 10,
   "metadata": {},
   "outputs": [],
   "source": [
    "edge_info = load_edge(kg_path)\n",
    "# edge_info['/c/en/0-/r/DefinedAs-/c/en/empty_set-0000']"
   ]
  },
  {
   "cell_type": "markdown",
   "metadata": {},
   "source": [
    "## According to human dimension"
   ]
  },
  {
   "cell_type": "code",
   "execution_count": 11,
   "metadata": {},
   "outputs": [],
   "source": [
    "human_dims = load_dimension(hd_path)"
   ]
  },
  {
   "cell_type": "markdown",
   "metadata": {},
   "source": [
    "### Number of relations for each dimension"
   ]
  },
  {
   "cell_type": "code",
   "execution_count": 12,
   "metadata": {},
   "outputs": [
    {
     "name": "stdout",
     "output_type": "stream",
     "text": [
      "dimension           # relation          \n",
      "temporal            11                  \n",
      "desire              7                   \n",
      "quality             4                   \n",
      "lexical             4                   \n",
      "utility             4                   \n",
      "similarity          3                   \n",
      "rel-other           3                   \n",
      "taxonomic           3                   \n",
      "part-whole          3                   \n",
      "distinctness        2                   \n",
      "spatial             2                   \n",
      "creation            1                   \n"
     ]
    }
   ],
   "source": [
    "human_dim_relnum = num_relations(human_dims,edge_info)\n",
    "print(f\"{'dimension':<20}{'# relation':<20}\")\n",
    "for dim in human_dim_relnum:\n",
    "    print(f\"{dim[0]:<20}{dim[1]:<20}\")"
   ]
  },
  {
   "cell_type": "markdown",
   "metadata": {},
   "source": [
    "### Top relations for each dimension\n",
    "Since the number of relations for each dimension is not very large, so when we set topk=5, it may return 3 relations for one dimension"
   ]
  },
  {
   "cell_type": "code",
   "execution_count": 13,
   "metadata": {},
   "outputs": [
    {
     "name": "stdout",
     "output_type": "stream",
     "text": [
      "dimension\ttop5-relations\n",
      "similarity\t[('/r/Synonym', 1245289), ('/r/SimilarTo', 30635), ('/r/DefinedAs', 2173)]\n",
      "\n",
      "rel-other\t[('/r/RelatedTo', 1703968), ('/r/HasContext', 238277), ('/r/EtymologicallyRelatedTo', 32075)]\n",
      "\n",
      "quality\t[('at:xAttr', 133281), ('/r/HasProperty', 9482), ('/r/NotHasProperty', 327), ('/r/SymbolOf', 4)]\n",
      "\n",
      "taxonomic\t[('/r/IsA', 316351), ('/r/MannerOf', 12618), ('/r/InstanceOf', 1480)]\n",
      "\n",
      "distinctness\t[('/r/Antonym', 401003), ('/r/DistinctFrom', 8249)]\n",
      "\n",
      "lexical\t[('/r/FormOf', 378859), ('/r/DerivedFrom', 325914), ('fn:HasLexicalUnit', 58765), ('/r/EtymologicallyDerivedFrom', 71)]\n",
      "\n",
      "spatial\t[('/r/LocatedNear', 152274), ('/r/AtLocation', 27797)]\n",
      "\n",
      "utility\t[('/r/UsedFor', 42580), ('/r/CapableOf', 42375), ('/r/ReceivesAction', 6037), ('/r/NotCapableOf', 329)]\n",
      "\n",
      "part-whole\t[('/r/PartOf', 31964), ('/r/HasA', 16973), ('/r/MadeOf', 2757)]\n",
      "\n",
      "desire\t[('at:xWant', 129171), ('at:xIntent', 57685), ('at:oWant', 53910), ('/r/MotivatedByGoal', 9489), ('/r/CausesDesire', 4688)]\n",
      "\n",
      "temporal\t[('at:xEffect', 100307), ('at:xNeed', 96103), ('at:xReact', 74153), ('at:oEffect', 35346), ('at:oReact', 31497)]\n",
      "\n",
      "creation\t[('/r/CreatedBy', 450)]\n",
      "\n"
     ]
    }
   ],
   "source": [
    "topk=5\n",
    "human_dim_rels = dim_relations(human_dims,edge_info,topk)\n",
    "\n",
    "print(f\"dimension\\ttop{topk}-relations\")\n",
    "for dim in human_dim_rels:\n",
    "    print(f\"{dim}\\t{human_dim_rels[dim]}\",)\n",
    "    print()"
   ]
  },
  {
   "cell_type": "markdown",
   "metadata": {},
   "source": [
    "### Number of nodes for each dimension"
   ]
  },
  {
   "cell_type": "code",
   "execution_count": 14,
   "metadata": {},
   "outputs": [
    {
     "name": "stdout",
     "output_type": "stream",
     "text": [
      "dimension           # node              \n",
      "lexical             861123              \n",
      "rel-other           854024              \n",
      "similarity          335829              \n",
      "taxonomic           261836              \n",
      "temporal            233148              \n",
      "desire              164661              \n",
      "utility             70975               \n",
      "distinctness        52132               \n",
      "part-whole          46128               \n",
      "quality             45545               \n",
      "spatial             23137               \n",
      "creation            752                 \n"
     ]
    }
   ],
   "source": [
    "human_dim_nodenum = num_nodes(human_dims,edge_info)\n",
    "print(f\"{'dimension':<20}{'# node':<20}\")\n",
    "for dim in human_dim_nodenum:\n",
    "    print(f\"{dim[0]:<20}{dim[1]:<20}\")"
   ]
  },
  {
   "cell_type": "markdown",
   "metadata": {},
   "source": [
    "### Top nodes for each dimension"
   ]
  },
  {
   "cell_type": "code",
   "execution_count": 15,
   "metadata": {
    "scrolled": false
   },
   "outputs": [
    {
     "name": "stdout",
     "output_type": "stream",
     "text": [
      "dimension\ttop5-nodes\n",
      "similarity\t[('/c/en/black', 860), ('/c/en/blue', 855), ('/c/en/green', 833), ('/c/en/red', 831), ('/c/en/good', 823)]\n",
      "\n",
      "rel-other\t[('/c/en/slang', 11000), ('/c/en/mineral', 8288), ('/c/en/us', 7677), ('/c/en/medicine', 7192), ('/c/en/zoology', 6685)]\n",
      "\n",
      "quality\t[('/c/en/helpful', 2534), ('/c/en/curious', 1976), ('/c/en/friendly', 1913), ('/c/en/responsible', 1854), ('/c/en/determined', 1780)]\n",
      "\n",
      "taxonomic\t[('/c/en/plant/n', 2769), ('/c/en/chemical_compound/n', 2526), ('/c/en/person/n', 2039), ('Q171318', 1997), ('/c/en/tangible_thing/n', 1923)]\n",
      "\n",
      "distinctness\t[('/c/en/good', 769), ('/c/en/zero', 699), ('/c/en/neutral', 611), ('/c/en/gray', 598), ('/c/en/grey', 592)]\n",
      "\n",
      "lexical\t[('fn:fe:descriptor', 1828), ('fn:fe:manner', 1774), ('fn:fe:entity', 1333), ('fn:fe:agent', 1314), ('fn:fe:type', 1056)]\n",
      "\n",
      "spatial\t[('/c/en/man/n/wn/person', 2639), ('/c/en/sign/n/wn/communication', 2012), ('/c/en/woman/n/wn/person', 1929), ('/c/en/partition/n/wn/artifact', 1863), ('/c/en/table/n/wn/artifact', 1707)]\n",
      "\n",
      "utility\t[('/c/en/person', 1274), ('/c/en/people', 1203), ('/c/en/body_count/n/wn/quantity', 564), ('/c/en/sit/v/wn/contact', 425), ('/c/en/man/n/wn/person', 409)]\n",
      "\n",
      "part-whole\t[('fn:fe:time', 818), ('fn:fe:place', 685), ('fn:fe:manner', 663), ('fn:fe:degree', 479), ('fn:fe:means', 450)]\n",
      "\n",
      "desire\t[('/c/en/person', 4852), ('at:to_thank_personx', 1135), ('at:to_go_home', 1087), ('at:to_have_fun', 1056), ('at:to_relax', 1005)]\n",
      "\n",
      "temporal\t[('/c/en/happy', 9533), ('/c/en/satisfied', 3764), ('/c/en/excited', 2392), ('/c/en/good', 2242), ('/c/en/accomplished', 1987)]\n",
      "\n",
      "creation\t[('/c/en/death', 9), ('/c/en/god', 5), ('/c/en/sometimes_design', 5), ('/c/en/carpenter', 4), ('/c/en/child', 4)]\n",
      "\n"
     ]
    }
   ],
   "source": [
    "topk=5\n",
    "human_dim_nodes = dim_nodes(human_dims,edge_info,topk)\n",
    "\n",
    "print(f\"dimension\\ttop{topk}-nodes\")\n",
    "for dim in human_dim_nodes:\n",
    "    print(f\"{dim}\\t{human_dim_nodes[dim]}\",)\n",
    "    print()"
   ]
  },
  {
   "cell_type": "markdown",
   "metadata": {},
   "source": [
    "## According to machine dimension"
   ]
  },
  {
   "cell_type": "code",
   "execution_count": 16,
   "metadata": {},
   "outputs": [],
   "source": [
    "machine_dims = load_dimension(md_path)"
   ]
  },
  {
   "cell_type": "markdown",
   "metadata": {},
   "source": [
    "### Number of relations for each dimension"
   ]
  },
  {
   "cell_type": "code",
   "execution_count": 17,
   "metadata": {},
   "outputs": [
    {
     "name": "stdout",
     "output_type": "stream",
     "text": [
      "dimension           # relation          \n",
      "6                   47                  \n",
      "3                   46                  \n",
      "12                  46                  \n",
      "2                   46                  \n",
      "0                   46                  \n",
      "4                   45                  \n",
      "11                  45                  \n",
      "9                   45                  \n",
      "7                   43                  \n",
      "5                   42                  \n",
      "10                  42                  \n",
      "1                   42                  \n",
      "8                   39                  \n"
     ]
    }
   ],
   "source": [
    "machine_dim_relnum = num_relations(machine_dims,edge_info)\n",
    "print(f\"{'dimension':<20}{'# relation':<20}\")\n",
    "for dim in machine_dim_relnum:\n",
    "    print(f\"{dim[0]:<20}{dim[1]:<20}\")"
   ]
  },
  {
   "cell_type": "markdown",
   "metadata": {},
   "source": [
    "### Top relations for each dimension"
   ]
  },
  {
   "cell_type": "code",
   "execution_count": 18,
   "metadata": {},
   "outputs": [
    {
     "name": "stdout",
     "output_type": "stream",
     "text": [
      "dimension\ttop5-nodes\n",
      "3\t[('/r/RelatedTo', 81028), ('/r/LocatedNear', 43329), ('/r/FormOf', 31631), ('/r/DerivedFrom', 29829), ('/r/IsA', 24375)]\n",
      "\n",
      "8\t[('/r/Synonym', 554717), ('/r/SimilarTo', 11124), ('/r/RelatedTo', 3981), ('/r/IsA', 1425), ('/r/FormOf', 1342)]\n",
      "\n",
      "4\t[('/r/Synonym', 279104), ('/r/RelatedTo', 13539), ('/r/SimilarTo', 7041), ('/r/FormOf', 4860), ('/r/DerivedFrom', 4353)]\n",
      "\n",
      "7\t[('/r/Synonym', 382100), ('/r/RelatedTo', 10393), ('/r/SimilarTo', 5479), ('at:xAttr', 4955), ('/r/IsA', 3691)]\n",
      "\n",
      "5\t[('/r/Antonym', 397014), ('/r/DistinctFrom', 8089), ('/r/FormOf', 7208), ('/r/DerivedFrom', 6975), ('/r/RelatedTo', 5678)]\n",
      "\n",
      "11\t[('/r/RelatedTo', 127524), ('/r/HasContext', 117651), ('/r/IsA', 51542), ('/r/DerivedFrom', 31006), ('/r/LocatedNear', 30904)]\n",
      "\n",
      "12\t[('/r/RelatedTo', 338631), ('/r/IsA', 50109), ('/r/LocatedNear', 42181), ('/r/DerivedFrom', 31858), ('/r/FormOf', 26384)]\n",
      "\n",
      "2\t[('/r/RelatedTo', 226293), ('/r/FormOf', 96888), ('/r/DerivedFrom', 78769), ('/r/IsA', 54636), ('/r/LocatedNear', 18611)]\n",
      "\n",
      "10\t[('/r/RelatedTo', 371054), ('/r/IsA', 8460), ('/r/EtymologicallyRelatedTo', 6086), ('/r/DerivedFrom', 3394), ('/r/LocatedNear', 2249)]\n",
      "\n",
      "0\t[('/r/RelatedTo', 250925), ('/r/FormOf', 133283), ('/r/DerivedFrom', 83301), ('/r/IsA', 51032), ('/r/HasContext', 15452)]\n",
      "\n",
      "9\t[('/r/RelatedTo', 250426), ('/r/HasContext', 67820), ('/r/DerivedFrom', 50023), ('/r/IsA', 46573), ('/r/FormOf', 39879)]\n",
      "\n",
      "6\t[('at:xWant', 73989), ('at:xReact', 44198), ('at:xEffect', 43913), ('at:xNeed', 40860), ('at:xIntent', 32690)]\n",
      "\n",
      "1\t[('at:xWant', 50668), ('at:xAttr', 41054), ('at:xNeed', 39851), ('at:xEffect', 38503), ('at:oWant', 29987)]\n",
      "\n"
     ]
    }
   ],
   "source": [
    "topk=5\n",
    "machine_dim_rels = dim_relations(machine_dims,edge_info,topk)\n",
    "\n",
    "print(f\"dimension\\ttop{topk}-nodes\")\n",
    "for dim in machine_dim_rels:\n",
    "    print(f\"{dim}\\t{machine_dim_rels[dim]}\",)\n",
    "    print()"
   ]
  },
  {
   "cell_type": "markdown",
   "metadata": {},
   "source": [
    "### Number of nodes for each dimension"
   ]
  },
  {
   "cell_type": "code",
   "execution_count": 19,
   "metadata": {},
   "outputs": [
    {
     "name": "stdout",
     "output_type": "stream",
     "text": [
      "dimension           # node              \n",
      "0                   521399              \n",
      "2                   456313              \n",
      "9                   344413              \n",
      "11                  341273              \n",
      "12                  336577              \n",
      "10                  263519              \n",
      "6                   244813              \n",
      "8                   222316              \n",
      "3                   217931              \n",
      "1                   155072              \n",
      "7                   137090              \n",
      "4                   95402               \n",
      "5                   85589               \n"
     ]
    }
   ],
   "source": [
    "machine_dim_nodenum = num_nodes(machine_dims,edge_info)\n",
    "print(f\"{'dimension':<20}{'# node':<20}\")\n",
    "for dim in machine_dim_nodenum:\n",
    "    print(f\"{dim[0]:<20}{dim[1]:<20}\")"
   ]
  },
  {
   "cell_type": "markdown",
   "metadata": {},
   "source": [
    "### Top nodes for each dimension"
   ]
  },
  {
   "cell_type": "code",
   "execution_count": 20,
   "metadata": {},
   "outputs": [
    {
     "name": "stdout",
     "output_type": "stream",
     "text": [
      "dimension\ttop5-nodes\n",
      "3\t[('/c/en/partition/n/wn/artifact', 939), ('/c/en/man/n/wn/person', 874), ('/c/en/person/n/wn', 852), ('/c/en/derogatory', 805), ('/c/en/grass/n/wn/plant', 716)]\n",
      "\n",
      "8\t[('/c/en/green', 808), ('/c/en/red', 801), ('/c/en/blue', 741), ('/c/en/yellow', 675), ('/c/en/zero', 673)]\n",
      "\n",
      "4\t[('/c/en/bad', 1092), ('/c/en/dirty', 680), ('/c/en/weak', 634), ('/c/en/wild', 554), ('/c/en/upset', 544)]\n",
      "\n",
      "7\t[('/c/en/set', 614), ('/c/en/close', 588), ('/c/en/good', 546), ('/c/en/open', 541), ('/c/en/big', 539)]\n",
      "\n",
      "5\t[('/c/en/nonstandard', 1294), ('/c/en/good', 763), ('/c/en/zero', 706), ('/c/en/neutral', 660), ('/c/en/gray', 598)]\n",
      "\n",
      "11\t[('/c/en/us', 6035), ('/c/en/computing', 4716), ('/c/en/historical', 4416), ('/c/en/medicine', 4196), ('/c/en/uk', 4180)]\n",
      "\n",
      "12\t[('/c/en/slang', 1896), ('/c/en/drug', 1845), ('/c/en/money', 1139), ('/c/en/metal', 985), ('/c/en/food', 926)]\n",
      "\n",
      "2\t[('/c/en/slang', 2034), ('/c/en/england', 1464), ('/c/en/tree', 1271), ('/c/en/bird/n', 1226), ('/c/en/plant/n', 1083)]\n",
      "\n",
      "10\t[('/c/en/usa', 3563), ('/c/en/county_seat', 2560), ('Q171318', 2002), ('/c/en/family', 1671), ('/c/en/person', 1224)]\n",
      "\n",
      "0\t[('/c/en/slang', 3472), ('/c/en/water', 2106), ('/c/en/chemical_compound/n', 1415), ('/c/en/vulgar', 1017), ('/c/en/salt', 992)]\n",
      "\n",
      "9\t[('/c/en/zoology', 6698), ('/c/en/mineral', 5919), ('/c/en/organic_compound', 5354), ('/c/en/organic_chemistry', 4878), ('/c/en/anatomy', 4674)]\n",
      "\n",
      "6\t[('/c/en/happy', 7413), ('/c/en/person', 4876), ('/c/en/satisfied', 2633), ('/c/en/helpful', 2149), ('/c/en/excited', 2124)]\n",
      "\n",
      "1\t[('/c/en/happy', 3512), ('/c/en/helpful', 1439), ('/c/en/satisfied', 1365), ('at:to_thank_personx', 1123), ('/c/en/excited', 1115)]\n",
      "\n"
     ]
    }
   ],
   "source": [
    "topk=5\n",
    "machine_dim_nodes = dim_nodes(machine_dims,edge_info,topk)\n",
    "\n",
    "print(f\"dimension\\ttop{topk}-nodes\")\n",
    "for dim in machine_dim_nodes:\n",
    "    print(f\"{dim}\\t{machine_dim_nodes[dim]}\",)\n",
    "    print()"
   ]
  },
  {
   "cell_type": "code",
   "execution_count": null,
   "metadata": {},
   "outputs": [],
   "source": []
  }
 ],
 "metadata": {
  "kernelspec": {
   "display_name": "Python 3",
   "language": "python",
   "name": "python3"
  },
  "language_info": {
   "codemirror_mode": {
    "name": "ipython",
    "version": 3
   },
   "file_extension": ".py",
   "mimetype": "text/x-python",
   "name": "python",
   "nbconvert_exporter": "python",
   "pygments_lexer": "ipython3",
   "version": "3.7.9"
  }
 },
 "nbformat": 4,
 "nbformat_minor": 4
}
