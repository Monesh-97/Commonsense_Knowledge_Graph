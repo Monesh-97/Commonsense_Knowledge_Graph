{
 "cells": [
  {
   "cell_type": "code",
   "execution_count": 1,
   "metadata": {},
   "outputs": [],
   "source": [
    "def prepare_index(filename, index_path, node2id_path, id2node_path, emb_col=1, delimiter=' ', dim=100,\n",
    "                  distance='euclidean', trees=10, redo=False):\n",
    "    if redo:\n",
    "        t = AnnoyIndex(dim, distance)  # Length of item vector that will be indexed\n",
    "        node2id={}\n",
    "        id2node={}\n",
    "        with gzip.open(filename, 'r') as f:\n",
    "            i=0\n",
    "            header=next(f)\n",
    "            for line in f:\n",
    "                line=line.decode()\n",
    "                line_data=line.split()\n",
    "                if line_data[1]=='embedding_sentence': continue\n",
    "                node=line_data[0]\n",
    "                if emb_col==2:\n",
    "                    data=line_data[emb_col].split(delimiter)\n",
    "                else:\n",
    "                    data=line_data[emb_col:]\n",
    "                v=[float(d) for d in data]\n",
    "                \n",
    "                t.add_item(i, v)\n",
    "                node2id[node]=i\n",
    "                id2node[i]=node\n",
    "                i+=1\n",
    "\n",
    "        t.build(trees) # number of trees (more -> higher precision at query time)\n",
    "        t.save(graph_emb_index)\n",
    "        \n",
    "        pkl.dump(node2id, open(node2id_path, 'wb'))\n",
    "        pkl.dump(id2node, open(id2node_path, 'wb'))\n",
    "    else:\n",
    "        node2id=pkl.load(open(node2id_path, 'rb'))\n",
    "        id2node=pkl.load(open(id2node_path, 'rb'))\n",
    "    \n",
    "        t = AnnoyIndex(dim, distance)\n",
    "        t.load(graph_emb_index) # super fast, will just mmap the file\n",
    "\n",
    "    \n",
    "    return t, node2id, id2node"
   ]
  },
  {
   "cell_type": "code",
   "execution_count": null,
   "metadata": {},
   "outputs": [],
   "source": [
    "graph_index, graph_node2id, graph_id2node = prepare_index(graph_emb_path,\n",
    "                                              graph_index_path,\n",
    "                                              graph_node2id_path,\n",
    "                                              graph_id2node_path,\n",
    "                                              graph_emb_col,\n",
    "                                              graph_emb_del,\n",
    "                                              graph_dim,\n",
    "                                              distance,\n",
    "                                              graph_trees,\n",
    "                                              redo\n",
    "                                             )"
   ]
  },
  {
   "cell_type": "code",
   "execution_count": null,
   "metadata": {},
   "outputs": [],
   "source": [
    "text_index, text_node2id, text_id2node = prepare_index(text_emb_path,\n",
    "                                              text_index_path,\n",
    "                                              text_node2id_path,\n",
    "                                              text_id2node_path,\n",
    "                                              text_emb_col,\n",
    "                                              text_emb_del,\n",
    "                                              text_dim,\n",
    "                                              distance,\n",
    "                                              text_trees,\n",
    "                                              redo\n",
    "                                             )"
   ]
  },
  {
   "cell_type": "code",
   "execution_count": null,
   "metadata": {},
   "outputs": [],
   "source": [
    "def obtain_similar_nodes(node, index, node2id, id2node, num_nodes=10):\n",
    "    node_id=node2id[node]\n",
    "    return [id2node[i] for i in index.get_nns_by_item(node_id, num_nodes+1)[1:]]"
   ]
  },
  {
   "cell_type": "code",
   "execution_count": null,
   "metadata": {},
   "outputs": [],
   "source": [
    "nodes=['/c/en/turtle', '/c/en/happy', '/c/en/turtle/n/wn/animal']"
   ]
  },
  {
   "cell_type": "code",
   "execution_count": null,
   "metadata": {},
   "outputs": [],
   "source": [
    "for node in nodes:\n",
    "    \n",
    "    print('GRAPH EMBEDDING DATA\\n')\n",
    "    graph_sim=obtain_similar_nodes(node, graph_index, graph_node2id, graph_id2node)\n",
    "    print(node, graph_sim, '\\n')\n",
    "    \n",
    "    print('TEXT EMBEDDING DATA\\n')"
   ]
  }
 ],
 "metadata": {
  "kernelspec": {
   "display_name": "Python 3",
   "language": "python",
   "name": "python3"
  },
  "language_info": {
   "codemirror_mode": {
    "name": "ipython",
    "version": 3
   },
   "file_extension": ".py",
   "mimetype": "text/x-python",
   "name": "python",
   "nbconvert_exporter": "python",
   "pygments_lexer": "ipython3",
   "version": "3.6.12"
  }
 },
 "nbformat": 4,
 "nbformat_minor": 4
}
