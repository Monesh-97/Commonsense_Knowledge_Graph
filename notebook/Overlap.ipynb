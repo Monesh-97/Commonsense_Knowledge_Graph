{
 "cells": [
  {
   "cell_type": "code",
   "execution_count": 25,
   "metadata": {},
   "outputs": [],
   "source": [
    "#file1=['../tmp/kgtk_roget_synonyms.tsv', '../tmp/kgtk_roget_antonyms.tsv']\n",
    "#file1=['../tmp/kgtk_conceptnet.tsv']\n",
    "\n",
    "files=['tmp/kgtk_wordnet.tsv', 'tmp/wikidata20200504/kgtk_wikidata.tsv', 'tmp/kgtk_conceptnet.tsv']"
   ]
  },
  {
   "cell_type": "code",
   "execution_count": 26,
   "metadata": {},
   "outputs": [],
   "source": [
    "from tqdm import tqdm"
   ]
  },
  {
   "cell_type": "code",
   "execution_count": 27,
   "metadata": {},
   "outputs": [],
   "source": [
    "def get_all_labels(l):\n",
    "    if '|' not in l:\n",
    "        return [l]\n",
    "    else:\n",
    "        return [l2 for l2 in l.split('|') if l2!='']"
   ]
  },
  {
   "cell_type": "code",
   "execution_count": 28,
   "metadata": {},
   "outputs": [],
   "source": [
    "def get_triples(a_file):\n",
    "    triples=set()\n",
    "    with open(a_file, 'r') as f1:\n",
    "        header=next(f1)\n",
    "        for line in tqdm(f1, total=3500000):\n",
    "            data=line.split('\\t')\n",
    "            rel_label=data[1]\n",
    "            for n1_label in get_all_labels(data[3]):\n",
    "                for n2_label in get_all_labels(data[4]):\n",
    "                    if n1_label=='' or n2_label=='': print(data)\n",
    "                    triple=(n1_label, rel_label, n2_label)\n",
    "                    triples.add(triple)\n",
    "    return triples"
   ]
  },
  {
   "cell_type": "markdown",
   "metadata": {},
   "source": [
    "## Compute overlaps between each source pair"
   ]
  },
  {
   "cell_type": "code",
   "execution_count": 29,
   "metadata": {},
   "outputs": [],
   "source": [
    "def file_to_source(f):\n",
    "    return f.split('/')[-1].replace('kgtk_', '').replace('.tsv', '')"
   ]
  },
  {
   "cell_type": "code",
   "execution_count": 31,
   "metadata": {},
   "outputs": [
    {
     "name": "stderr",
     "output_type": "stream",
     "text": [
      "  3%|▎         | 111276/3500000 [00:00<00:12, 272488.81it/s]\n",
      "  3%|▎         | 101771/3500000 [00:00<00:05, 622049.59it/s]\n",
      "  1%|          | 25334/3500000 [00:00<00:13, 253337.22it/s]"
     ]
    },
    {
     "name": "stdout",
     "output_type": "stream",
     "text": [
      "wordnet - wikidata BOTH: 1613 ONLY S1: 419103 ONLY S2: 98246\n"
     ]
    },
    {
     "name": "stderr",
     "output_type": "stream",
     "text": [
      "  3%|▎         | 111276/3500000 [00:00<00:12, 262481.17it/s]\n",
      " 98%|█████████▊| 3423004/3500000 [00:05<00:00, 665885.16it/s]\n",
      "  3%|▎         | 101771/3500000 [00:00<00:05, 619154.18it/s]"
     ]
    },
    {
     "name": "stdout",
     "output_type": "stream",
     "text": [
      "wordnet - conceptnet BOTH: 66102 ONLY S1: 354614 ONLY S2: 3257219\n"
     ]
    },
    {
     "name": "stderr",
     "output_type": "stream",
     "text": [
      "\n",
      "  3%|▎         | 111276/3500000 [00:00<00:11, 296768.45it/s]\n",
      "  3%|▎         | 101771/3500000 [00:00<00:05, 632137.62it/s]\n",
      "  0%|          | 0/3500000 [00:00<?, ?it/s]"
     ]
    },
    {
     "name": "stdout",
     "output_type": "stream",
     "text": [
      "wikidata - wordnet BOTH: 1613 ONLY S1: 98246 ONLY S2: 419103\n"
     ]
    },
    {
     "name": "stderr",
     "output_type": "stream",
     "text": [
      " 98%|█████████▊| 3423004/3500000 [00:04<00:00, 697140.98it/s]\n",
      "  3%|▎         | 115962/3500000 [00:00<00:06, 559266.54it/s]"
     ]
    },
    {
     "name": "stdout",
     "output_type": "stream",
     "text": [
      "wikidata - conceptnet BOTH: 2386 ONLY S1: 97473 ONLY S2: 3320935\n"
     ]
    },
    {
     "name": "stderr",
     "output_type": "stream",
     "text": [
      " 98%|█████████▊| 3423004/3500000 [00:04<00:00, 696252.61it/s]\n",
      "  3%|▎         | 111276/3500000 [00:00<00:12, 268163.31it/s]\n",
      "  3%|▎         | 114879/3500000 [00:00<00:06, 514142.71it/s]"
     ]
    },
    {
     "name": "stdout",
     "output_type": "stream",
     "text": [
      "conceptnet - wordnet BOTH: 66102 ONLY S1: 3257219 ONLY S2: 354614\n"
     ]
    },
    {
     "name": "stderr",
     "output_type": "stream",
     "text": [
      " 98%|█████████▊| 3423004/3500000 [00:05<00:00, 664858.50it/s]\n",
      "  3%|▎         | 101771/3500000 [00:00<00:05, 597272.22it/s]\n"
     ]
    },
    {
     "name": "stdout",
     "output_type": "stream",
     "text": [
      "conceptnet - wikidata BOTH: 2386 ONLY S1: 3320935 ONLY S2: 97473\n"
     ]
    }
   ],
   "source": [
    "for file1 in files:\n",
    "    for file2 in files:\n",
    "        if file1!=file2:\n",
    "\n",
    "            f1_triples=get_triples(file1)\n",
    "            f2_triples=get_triples(file2)\n",
    "            both_triples=set(f1_triples) & set(f2_triples)\n",
    "\n",
    "            only_src2=len(set(f2_triples)-set(f1_triples))\n",
    "            pct_only_src2=diff2/(diff2+len(both_triples))\n",
    "\n",
    "            only_src1=len(set(f1_triples)-set(f2_triples))\n",
    "            pct_only_src1=diff1/(diff1+len(both_triples))\n",
    "\n",
    "            f1=file_to_source(file1)\n",
    "            f2=file_to_source(file2)\n",
    "\n",
    "            print(f1, '-', f2, 'BOTH:', len(both_triples), 'ONLY S1:', only_src1, 'ONLY S2:', only_src2)"
   ]
  },
  {
   "cell_type": "markdown",
   "metadata": {},
   "source": [
    "## Thoughts/discussion"
   ]
  },
  {
   "cell_type": "markdown",
   "metadata": {},
   "source": [
    "* also with WordNet based nodes?\n",
    "\n",
    "\n",
    "'dog' '/r/IsA' 'mammal'\n",
    "dog.n.1 '/r/IsA' mammal.n.01\n",
    "\n",
    "(There is Kypher query for this)\n",
    "\n",
    "Discussion in the paper: what does a 'failure of overlap' mean? Is it due to the label missing or due to the edge missing?"
   ]
  },
  {
   "cell_type": "code",
   "execution_count": null,
   "metadata": {},
   "outputs": [],
   "source": []
  }
 ],
 "metadata": {
  "kernelspec": {
   "display_name": "Python 3",
   "language": "python",
   "name": "python3"
  },
  "language_info": {
   "codemirror_mode": {
    "name": "ipython",
    "version": 3
   },
   "file_extension": ".py",
   "mimetype": "text/x-python",
   "name": "python",
   "nbconvert_exporter": "python",
   "pygments_lexer": "ipython3",
   "version": "3.6.12"
  }
 },
 "nbformat": 4,
 "nbformat_minor": 4
}
