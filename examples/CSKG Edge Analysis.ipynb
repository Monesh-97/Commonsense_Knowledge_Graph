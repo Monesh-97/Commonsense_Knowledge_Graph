{
 "cells": [
  {
   "cell_type": "code",
   "execution_count": 21,
   "metadata": {},
   "outputs": [],
   "source": [
    "import os\n",
    "import json \n",
    "from itertools import islice\n",
    "from tqdm import tqdm\n",
    "import numpy as np\n",
    "import tensorflow as tf\n",
    "from tensorflow.contrib.tensorboard.plugins import projector\n",
    "from sentence_transformers import SentenceTransformer\n",
    "from sklearn.cluster import KMeans\n",
    "from sklearn.decomposition import PCA\n",
    "import matplotlib.pyplot as plt"
   ]
  },
  {
   "cell_type": "markdown",
   "metadata": {},
   "source": [
    "### Parameters for invoking the notebook\n",
    "\n",
    "- `cskg_connected`: a tsv file contains the raw cskg entity information\n",
    "- `cskg_lexicalized`: a tsv file contains the lexicalized edges\n",
    "- `edge_embeddings.tsv.`: a tsv file contains the edges embeddings and edge id\n",
    "- `log_path`: a folder keeps tensorboard projector's configuration"
   ]
  },
  {
   "cell_type": "code",
   "execution_count": 3,
   "metadata": {},
   "outputs": [],
   "source": [
    "cskg_connected = '../input/cskg_connected.tsv'\n",
    "cskg_lexicalized = '../output/cskg_lexicalized.tsv'\n",
    "edge_embeddings = '../output/edge_embeddings.tsv'\n",
    "log_path = '../output/log'"
   ]
  },
  {
   "cell_type": "markdown",
   "metadata": {},
   "source": [
    "###  Load cskg_connected.tsv and retrieve usefor info"
   ]
  },
  {
   "cell_type": "code",
   "execution_count": 4,
   "metadata": {},
   "outputs": [],
   "source": [
    "### load cskg label and relation\n",
    "def cskg_lexicalize(input_file): # cskg_connected.tsv   \n",
    "    cskg_info = []\n",
    "    with open(input_file) as f:\n",
    "        for line in islice(f, 1, None): # ignore first line \n",
    "            content = line.split('\\t')\n",
    "            id_=  content[0]\n",
    "            res_meta = content[2]\n",
    "            node1_lbl = content[4]\n",
    "            node2_lbl = content[5]\n",
    "            res_lbl = content[6]\n",
    "            sentence = content[-1].replace('\\n','')\n",
    "            \n",
    "            reterive = lambda x: x.split('|')[0]\n",
    "            node1_lbl = reterive(node1_lbl)\n",
    "            node2_lbl = reterive(node2_lbl)\n",
    "            res_lbl = reterive(res_lbl)\n",
    "            \n",
    "            if node1_lbl == '' or node2_lbl == '' or res_lbl== '' or sentence =='':\n",
    "                # if one of them is empty, then skip the edge. I\n",
    "                continue                \n",
    "            cskg_info.append((id_,node1_lbl,res_lbl,node2_lbl,res_meta,sentence))         \n",
    "    return cskg_info \n",
    "\n",
    "# store res metadata and label infomation\n",
    "def rel_info(cskg_info):\n",
    "    rel_meta_dict = {}\n",
    "    rel_lbl_dict = {}\n",
    "    \n",
    "    for line in cskg_info:\n",
    "        rel_meta = line[-2]  # example: '/r/Is a'\n",
    "        rel_label = line[2]  # example: 'is a '\n",
    "        rel_lbl_dict[rel_label] = rel_lbl_dict.get(rel_label,0)+1\n",
    "        rel_meta_dict[rel_meta] = rel_meta_dict.get(rel_meta,{})\n",
    "        rel_meta_dict[rel_meta][rel_label] = rel_lbl_dict[rel_label]      \n",
    "    return rel_meta_dict"
   ]
  },
  {
   "cell_type": "code",
   "execution_count": 5,
   "metadata": {},
   "outputs": [
    {
     "data": {
      "text/plain": [
       "5398469"
      ]
     },
     "execution_count": 5,
     "metadata": {},
     "output_type": "execute_result"
    }
   ],
   "source": [
    "## puzzle1 : too many missing value\n",
    "# here is the counting for how many sentences are null\n",
    "count = 0\n",
    "with open(cskg_connected) as f:\n",
    "    for line in islice(f, 1, None): # ignore first line \n",
    "        content=line.split('\\t')\n",
    "        if content[-1] == '\\n':\n",
    "            count+=1  \n",
    "count"
   ]
  },
  {
   "cell_type": "code",
   "execution_count": 6,
   "metadata": {
    "scrolled": true
   },
   "outputs": [
    {
     "name": "stdout",
     "output_type": "stream",
     "text": [
      "edge_id, node1_label, relation_label, node2_label, , relation_meta, sentence\n",
      "('/c/en/0.22_inch_calibre-/r/IsA-/c/en/5.6_millimetres-0000', '0.22 inch calibre', 'is a', '5.6 millimetres', '/r/IsA', '[[0.22 inch calibre]] is [[5.6 millimetres]]')\n",
      "size of cskg_info: 604768\n"
     ]
    }
   ],
   "source": [
    "cskg_info = cskg_lexicalize(cskg_connected)\n",
    "print('edge_id, node1_label, relation_label, node2_label, , relation_meta, sentence')\n",
    "print(cskg_info[0])\n",
    "print(f'size of cskg_info: {len(cskg_info)}')"
   ]
  },
  {
   "cell_type": "code",
   "execution_count": 7,
   "metadata": {},
   "outputs": [
    {
     "data": {
      "text/plain": [
       "33"
      ]
     },
     "execution_count": 7,
     "metadata": {},
     "output_type": "execute_result"
    }
   ],
   "source": [
    "rel_meta_dict = rel_info(cskg_info)\n",
    "len(rel_meta_dict)"
   ]
  },
  {
   "cell_type": "markdown",
   "metadata": {},
   "source": [
    "### create template for cskg relations"
   ]
  },
  {
   "cell_type": "code",
   "execution_count": 8,
   "metadata": {},
   "outputs": [],
   "source": [
    "rel_template = {\n",
    "    '/r/IsA': 'is a',\n",
    "    '/r/SimilarTo': 'is similar to',\n",
    "    '/r/Synonym': 'is same as',\n",
    "    '/r/Antonym': 'is opposite to',\n",
    "    '/r/RelatedTo': 'is related to',\n",
    "    '/r/FormOf': 'is form of',\n",
    "    '/r/AtLocation': 'is located at',\n",
    "    '/r/DerivedFrom': 'is derived from',\n",
    "    '/r/HasProperty': 'has property',\n",
    "    '/r/DefinedAs': 'is defined as',\n",
    "    '/r/EtymologicallyRelatedTo': 'is etymologically related to',\n",
    "    '/r/InstanceOf': 'is a', # == '/r/IsA'\n",
    "    '/r/dbpedia/genre': 'is a type of',\n",
    "    '/r/CapableOf': 'is able to',\n",
    "    '/r/PartOf': 'is a part of',\n",
    "    '/r/MadeOf': 'is made of',\n",
    "    '/r/ReceivesAction': 'can receive the action',\n",
    "    '/r/HasA': 'has a',\n",
    "    '/r/UsedFor': 'is used for',\n",
    "    '/r/NotHasProperty': 'not has property',\n",
    "    '/r/CausesDesire': 'causes desire to',\n",
    "    '/r/dbpedia/occupation': 'occupation is', # career\n",
    "    '/r/dbpedia/language': 'language is',\n",
    "    '/r/HasSubevent': 'can have event',\n",
    "    '/r/HasContext':'has context',\n",
    "    '/r/LocatedNear':'is located near', ## .... lots of subpro ...????\n",
    "    '/r/DistinctFrom': 'is different from',\n",
    "    '/r/dbpedia/influencedBy': 'is influenced by',\n",
    "    '/r/MannerOf': 'is manner of',\n",
    "    'mw:MayHaveProperty': 'may have property', # similar to has property\n",
    "    '/r/Entails': 'entails', # similat to cause\n",
    "    '/r/dbpedia/field': 'belongs to field of',\n",
    "    '/r/dbpedia/genus': 'belongs to genus of',\n",
    "    '/r/HasPrerequisite': 'has prerequisite of',\n",
    "    '/r/dbpedia/capital':\"'s capital is\",\n",
    "    '/r/NotCapableOf': 'is not able to',\n",
    "    '/r/dbpedia/product': 'is product of',\n",
    "    '/r/MotivatedByGoal': 'is motivated by goal',\n",
    "    '/r/Desires': 'desire to',\n",
    "    '/r/Causes':'causes',\n",
    "    '/r/HasFirstSubevent': 'starts with',\n",
    "    '/r/HasLastSubevent': 'ends with',\n",
    "    '/r/NotDesires': 'doest not desire to',\n",
    "    '/r/dbpedia/knownFor':'is known for',\n",
    "    '/r/CreatedBy': 'is created by',\n",
    "    '/r/dbpedia/leader': 'has the leader',\n",
    "    '/r/EtymologicallyDerivedFrom': 'is etymologically derived from',\n",
    "    '/r/SymbolOf': 'is symbol of', # similar to 'is'\n",
    "    'at:xAttr': 'has attribute',\n",
    "    'at:xEffect': 'causes', # same as  '/r/Causes'\n",
    "    'at:xIntent': 'wants to',\n",
    "    'at:xReact':'feels',\n",
    "    'at:xWant': 'wants to',\n",
    "    'at:oReact': 'feels',\n",
    "    'at:oWant': 'wants to',\n",
    "    'at:xNeed' : 'needs',\n",
    "    'at:oEffect': 'causes',\n",
    "    'fn:HasFrameElement':'has frame element',\n",
    "    'fn:HasLexicalUnit': 'has lexical unit',\n",
    "    'fn:InheritsFrom': 'inherits from',\n",
    "    'fn:IsInheritedBy' : 'is inherited by',\n",
    "    'fn:IsUsedBy': 'is used by',\n",
    "    'fn:PerspectiveOn': 'has perspective on',\n",
    "    'fn:Uses': 'uses',\n",
    "    'fn:IsPerspectivizedIn': 'is perspectivized in',\n",
    "    'fn:Precedes':'precedes',\n",
    "    'fn:SubframeOf': 'is subframe of',\n",
    "    'fn:IsPrecededBy': 'is preceded by',\n",
    "    'fn:ReframingMapping': 'reframing mapping',\n",
    "    'fn:HasSubframe': 'has subframe',\n",
    "    'fn:SeeAlso': 'see also',\n",
    "    'fn:IsCausativeOf': 'causes', # same as  '/r/Causes'\n",
    "    'fn:IsInchoativeOf': 'is inchoative of', # a little bit like 'cause'\n",
    "    'fn:Metaphor': 'is similar to', # same as similar to\n",
    "    'fn:HasSemType': 'has sem type', # same type???\n",
    "    'fn:fe:ExcludesFE': 'excludes fe',# ?\n",
    "    'fn:fe:RequiresFE': 'requires fe',\n",
    "    'fn:st:RootType': \"'s root type is\",\n",
    "    'fn:st:SuperType': \"'s super type is\",\n",
    "    'fn:st:SubType': \"'s sub type is\",\n",
    "}"
   ]
  },
  {
   "cell_type": "markdown",
   "metadata": {},
   "source": [
    "###  Represent each of the edges in TSV format\n",
    "    * edge_id   lexicalization   sentence   \n",
    "    \n",
    "puzzle : which format shoud I use? {edge_id}    lexicalization   {sentence} or edge_id   lexicalization   sentence   "
   ]
  },
  {
   "cell_type": "code",
   "execution_count": 9,
   "metadata": {},
   "outputs": [],
   "source": [
    "def create_cskg_lexi(cskg_info,rel_template,output_file):\n",
    "    edge_info = []\n",
    "    with open(output_file,'w') as f:   \n",
    "        for edge in cskg_info:\n",
    "            edge_id = edge[0]\n",
    "            res_meta = edge[4]\n",
    "            lexicalization = rel_template[res_meta]\n",
    "            sentence = edge[-1]\n",
    "            \n",
    "            f.write(f\"{edge_id}\\t\")  #  f.write(f\"{{{edge_id}}}\\t\")\n",
    "            f.write(f\"{lexicalization}\\t\")\n",
    "            f.write(f\"{sentence}\\n\")  # f.write(f\"{{{sentence}}}\\n\")\n",
    "            edge_info.append((edge_id,lexicalization,sentence))\n",
    "    return edge_info"
   ]
  },
  {
   "cell_type": "code",
   "execution_count": 10,
   "metadata": {},
   "outputs": [
    {
     "data": {
      "text/plain": [
       "('/c/en/0.22_inch_calibre-/r/IsA-/c/en/5.6_millimetres-0000',\n",
       " 'is a',\n",
       " '[[0.22 inch calibre]] is [[5.6 millimetres]]')"
      ]
     },
     "execution_count": 10,
     "metadata": {},
     "output_type": "execute_result"
    }
   ],
   "source": [
    "edge_info = create_cskg_lexi(cskg_info,rel_template,cskg_lexicalized)\n",
    "edge_info[0]"
   ]
  },
  {
   "cell_type": "markdown",
   "metadata": {},
   "source": [
    "### Compute sentence embeddings of each of the sentences. \n",
    " * model usage: bert-nli-large model\n",
    " * data usage: cskg_lexicalized"
   ]
  },
  {
   "cell_type": "code",
   "execution_count": 12,
   "metadata": {},
   "outputs": [],
   "source": [
    "# use the pre-trained model bert-base-nli-mean-tokens\n",
    "model = SentenceTransformer('bert-base-nli-mean-tokens')"
   ]
  },
  {
   "cell_type": "code",
   "execution_count": 13,
   "metadata": {},
   "outputs": [
    {
     "data": {
      "text/plain": [
       "'0.22 inch calibre is 5.6 millimetres'"
      ]
     },
     "execution_count": 13,
     "metadata": {},
     "output_type": "execute_result"
    }
   ],
   "source": [
    "# prepare all sentences\n",
    "sentences = [ i[-1].replace('[[','').replace(']]','') for i in edge_info]\n",
    "sentences[0]"
   ]
  },
  {
   "cell_type": "code",
   "execution_count": 14,
   "metadata": {},
   "outputs": [
    {
     "name": "stdout",
     "output_type": "stream",
     "text": [
      "CPU times: user 6min 46s, sys: 29.6 s, total: 7min 15s\n",
      "Wall time: 7min 15s\n"
     ]
    }
   ],
   "source": [
    "%%time\n",
    "# opearate sentence embedding\n",
    "sentence_embeddings = model.encode(sentences)"
   ]
  },
  {
   "cell_type": "code",
   "execution_count": 15,
   "metadata": {},
   "outputs": [],
   "source": [
    "# output embedding result\n",
    "def gen_edge_embed(edge_info, sentence_embeddings,output_file):\n",
    "    # format edge_id   edge-embedding   embedding\n",
    "    edge_embedding = []\n",
    "    fout = open(output_file,'w')   \n",
    "    tag = 'edge-embedding'\n",
    "    for edge, embedding in zip(edge_info, sentence_embeddings):\n",
    "        id_ = edge[0]\n",
    "        value = [str(float(i)) for i in embedding]\n",
    "        value = ','.join(value)\n",
    "        fout.write(id_+'\\t')\n",
    "        fout.write(tag+'\\t')\n",
    "        fout.write(value+'\\n') \n",
    "        edge_embedding.append((id_,embedding))\n",
    "        \n",
    "    fout.close()\n",
    "    return edge_embedding"
   ]
  },
  {
   "cell_type": "code",
   "execution_count": 16,
   "metadata": {},
   "outputs": [
    {
     "name": "stdout",
     "output_type": "stream",
     "text": [
      "CPU times: user 6min 30s, sys: 11.9 s, total: 6min 42s\n",
      "Wall time: 6min 42s\n"
     ]
    }
   ],
   "source": [
    "%%time \n",
    "edge_embedding = gen_edge_embed(edge_info, sentence_embeddings,edge_embeddings)"
   ]
  },
  {
   "cell_type": "markdown",
   "metadata": {},
   "source": [
    "### Cluster edges "
   ]
  },
  {
   "cell_type": "code",
   "execution_count": 19,
   "metadata": {},
   "outputs": [],
   "source": [
    "# build training data \n",
    "edge_list = [edge[0] for edge in edge_embedding]  # keep each edge's id\n",
    "X_train = [edge[1] for edge in edge_embedding]    # keep each edge's embeddings"
   ]
  },
  {
   "cell_type": "code",
   "execution_count": 20,
   "metadata": {
    "scrolled": true
   },
   "outputs": [
    {
     "name": "stdout",
     "output_type": "stream",
     "text": [
      "CPU times: user 1h 39min 25s, sys: 11min 51s, total: 1h 51min 17s\n",
      "Wall time: 3min 35s\n"
     ]
    }
   ],
   "source": [
    "%%time\n",
    "#fit the model\n",
    "model = KMeans(n_clusters=13,init='k-means++',verbose=0)\n",
    "model.fit(X_train)\n",
    "pred_labels = model.labels_"
   ]
  },
  {
   "cell_type": "code",
   "execution_count": 22,
   "metadata": {},
   "outputs": [],
   "source": [
    "## Use pca to do dimension reduction and visualize the result \n",
    "pca = PCA(n_components=2) \n",
    "X_pca = pca.fit_transform(X_train)"
   ]
  },
  {
   "cell_type": "code",
   "execution_count": 23,
   "metadata": {},
   "outputs": [
    {
     "data": {
      "image/png": "[encoded data removed]",
      "text/plain": [
       "<Figure size 432x288 with 1 Axes>"
      ]
     },
     "metadata": {
      "needs_background": "light"
     },
     "output_type": "display_data"
    }
   ],
   "source": [
    "colors=['blue','green','red','cyan','magenta','yellow','black','aliceblue',\n",
    "        'aqua','aquamarine','beige','azure','bisque']\n",
    "\n",
    "col_map=dict(zip(set(pred_labels),colors))\n",
    "label_color = [col_map[l] for l in pred_labels]\n",
    "\n",
    "plt.scatter( X_pca[:,0], X_pca[:,1],c=label_color)\n",
    "plt.show()"
   ]
  },
  {
   "cell_type": "code",
   "execution_count": 24,
   "metadata": {},
   "outputs": [
    {
     "data": {
      "text/plain": [
       "{12: 0.052714429334902925,\n",
       " 5: 0.1472085163235711,\n",
       " 9: 0.06082663103870751,\n",
       " 0: 0.08843060479396916,\n",
       " 11: 0.08626283136680084,\n",
       " 1: 0.03307549341234136,\n",
       " 7: 0.03730521456161411,\n",
       " 8: 0.06207339012649158,\n",
       " 2: 0.0670918434838187,\n",
       " 4: 0.1026558944918556,\n",
       " 10: 0.058154531985844034,\n",
       " 3: 0.12687013863177352,\n",
       " 6: 0.07733048044875103}"
      ]
     },
     "execution_count": 24,
     "metadata": {},
     "output_type": "execute_result"
    }
   ],
   "source": [
    "## summarize the cluster result\n",
    "label_dict = {}\n",
    "edge_num = len(pred_labels)\n",
    "for label in pred_labels:\n",
    "    label_dict[label] = label_dict.get(label,0)+1/edge_num\n",
    "label_dict"
   ]
  },
  {
   "cell_type": "markdown",
   "metadata": {},
   "source": [
    "### Using tensorflow projector to display visualization"
   ]
  },
  {
   "cell_type": "code",
   "execution_count": 31,
   "metadata": {},
   "outputs": [],
   "source": [
    "def visualisation(edge_ids, embeddings, log_path):\n",
    "\n",
    "    if not os.path.exists(log_path):\n",
    "        os.mkdir(log_path)\n",
    "\n",
    "    with tf.Session() as sess:\n",
    "        # assign embeddings to tf var\n",
    "        x = tf.Variable([0.0], name='edge embedding')\n",
    "        place = tf.placeholder(tf.float32, shape=[len(edge_ids), len(embeddings[0])])\n",
    "\n",
    "        set_x = tf.assign(x, place, validate_shape=False)\n",
    "        sess.run(tf.global_variables_initializer())\n",
    "        sess.run(set_x, feed_dict={place: embeddings})\n",
    "\n",
    "        # store metedata to log path\n",
    "        with open(log_path + '/metadata.tsv', 'w') as f:\n",
    "            f.write('Edge ID\\tCluster\\n')\n",
    "            for edge in edge_ids:\n",
    "                edge_id = edge[0]\n",
    "                edge_clusetr = edge[1]\n",
    "                f.write(str(edge_id) + '\\t' + str(edge_clusetr)+'\\n' )\n",
    "\n",
    "        # summary writing\n",
    "        summary_writer = tf.summary.FileWriter(log_path)\n",
    "        \n",
    "        # projector configuration\n",
    "        config = projector.ProjectorConfig()\n",
    "        emb_conf = config.embeddings.add()\n",
    "        emb_conf.tensor_name = x.name\n",
    "        emb_conf.metadata_path = 'metadata.tsv'\n",
    "        projector.visualize_embeddings(summary_writer, config)\n",
    "\n",
    "        # save model.ckpt\n",
    "        saver = tf.train.Saver()\n",
    "        saver.save(sess, os.path.join(log_path, 'model.ckpt'), 1)"
   ]
  },
  {
   "cell_type": "code",
   "execution_count": 26,
   "metadata": {},
   "outputs": [
    {
     "data": {
      "text/plain": [
       "((604768, 768),\n",
       " ('/c/en/0.22_inch_calibre-/r/IsA-/c/en/5.6_millimetres-0000', 12))"
      ]
     },
     "execution_count": 26,
     "metadata": {},
     "output_type": "execute_result"
    }
   ],
   "source": [
    "# wrap edge embeddings \n",
    "embeddings = []\n",
    "edge_ids = []\n",
    "for inde,edge in enumerate(edge_embedding):\n",
    "    pred_label = pred_labels[inde]\n",
    "    embeddings.append(edge[1])\n",
    "    \n",
    "    edge_ids.append((edge[0],pred_label))\n",
    "embeddings = np.array(embeddings)\n",
    "embeddings.shape,edge_ids[0]"
   ]
  },
  {
   "cell_type": "code",
   "execution_count": 32,
   "metadata": {},
   "outputs": [],
   "source": [
    "visualisation(edge_ids, embeddings, log_path)"
   ]
  },
  {
   "cell_type": "markdown",
   "metadata": {},
   "source": [
    "* Use `tensorboard --logdir=log_path` to check visualization"
   ]
  },
  {
   "cell_type": "code",
   "execution_count": null,
   "metadata": {},
   "outputs": [],
   "source": []
  }
 ],
 "metadata": {
  "kernelspec": {
   "display_name": "Python 3",
   "language": "python",
   "name": "python3"
  },
  "language_info": {
   "codemirror_mode": {
    "name": "ipython",
    "version": 3
   },
   "file_extension": ".py",
   "mimetype": "text/x-python",
   "name": "python",
   "nbconvert_exporter": "python",
   "pygments_lexer": "ipython3",
   "version": "3.6.12"
  }
 },
 "nbformat": 4,
 "nbformat_minor": 4
}
