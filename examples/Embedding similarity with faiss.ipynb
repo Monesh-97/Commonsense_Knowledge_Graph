{
 "cells": [
  {
   "cell_type": "markdown",
   "metadata": {},
   "source": [
    "# Embedding similarity with faiss\n",
    "\n",
    "\n",
    "This notebook performs cosine similarity calcluation with faiss library."
   ]
  },
  {
   "cell_type": "markdown",
   "metadata": {},
   "source": [
    "### Parameters for invoking the notebook\n",
    "\n",
    "- `cskg_embedding_path`: a .gz file contaning the embeddings for all cskg entites\n",
    "- `query_ent_mat`: a matrix form of query entities, here we mimic some query data from the training data "
   ]
  },
  {
   "cell_type": "code",
   "execution_count": 1,
   "metadata": {},
   "outputs": [],
   "source": [
    "# Parameters \n",
    "cskg_embedding_path = \"../output/embeddings/comp_log_dot_0.05.tsv.gz\"\n",
    "query_ent_mat = None # delcare the varibale and will assign it later"
   ]
  },
  {
   "cell_type": "code",
   "execution_count": 2,
   "metadata": {},
   "outputs": [],
   "source": [
    "import faiss\n",
    "import gzip\n",
    "import numpy as np"
   ]
  },
  {
   "cell_type": "markdown",
   "metadata": {},
   "source": [
    "###  Prepare data\n",
    "- read embeddings from cskg_embedding_path to construct training data (expressed in matrix form)\n",
    "- build a entity name-index bi dictionary for future indexing\n",
    "- build a a faiss index that stores vector"
   ]
  },
  {
   "cell_type": "code",
   "execution_count": 3,
   "metadata": {},
   "outputs": [
    {
     "name": "stdout",
     "output_type": "stream",
     "text": [
      "number of vectors in the index: 2160968\n",
      "CPU times: user 2min 23s, sys: 15.9 s, total: 2min 39s\n",
      "Wall time: 2min 22s\n"
     ]
    }
   ],
   "source": [
    "%%time\n",
    "# specify a certain entity embedding tsv file\n",
    "entity_dict = {}        # build a entity name-index bi dictionary\n",
    "entity_embeddings = []  # all the embeddings \n",
    "\n",
    "with gzip.open(cskg_embedding_path,'rt') as f:\n",
    "    for index,line in enumerate(f):\n",
    "        line = line.split('\\t')\n",
    "        entity_name = line[0]\n",
    "        entity_vec =  [ float(i) for i in line[1:]]\n",
    "        entity_embeddings.append(entity_vec)\n",
    "        entity_dict[entity_name] = index\n",
    "        entity_dict[index] = entity_name\n",
    "    \n",
    "# entity_embeddings=> matrix\n",
    "X = np.array(entity_embeddings).astype(np.float32) # float32\n",
    "dimension = X.shape[1]\n",
    "\n",
    "\n",
    "# build index (METRIC_INNER_PRODUCT => cos )\n",
    "vec_index = faiss.index_factory(dimension, \"Flat\", faiss.METRIC_INNER_PRODUCT)\n",
    "# normalize all vectors in order to get cos sim \n",
    "faiss.normalize_L2(X)  \n",
    "# add vectors to inde \n",
    "vec_index.add(X) \n",
    "print(f'number of vectors in the index: {vec_index.ntotal}')"
   ]
  },
  {
   "cell_type": "markdown",
   "metadata": {},
   "source": [
    "### Search topk neighbors\n",
    "\n",
    "\n",
    "\n",
    "    normal case:\n",
    "    query_set = [[...],[...],[...]]\n",
    "    query_mat = np.array(query_set).astype(np.float32)\n",
    "    faiss.normalize_L2(query_mat) "
   ]
  },
  {
   "cell_type": "code",
   "execution_count": 4,
   "metadata": {},
   "outputs": [
    {
     "name": "stdout",
     "output_type": "stream",
     "text": [
      "Similarity by FAISS:\n",
      " [[1.0000001  0.9826269  0.980425   0.97756755 0.9767041 ]\n",
      " [1.         0.96249706 0.9542226  0.9423557  0.94022256]\n",
      " [1.         0.8458103  0.84088576 0.8378214  0.83243716]\n",
      " [1.0000001  0.9761975  0.9707729  0.9688461  0.9074847 ]\n",
      " [1.         0.8186028  0.81521285 0.8092427  0.80634975]\n",
      " [1.0000001  0.9248386  0.80462617 0.79793155 0.7964016 ]\n",
      " [1.         0.973209   0.96717876 0.9661685  0.9611064 ]\n",
      " [1.0000001  0.9695602  0.967589   0.90732634 0.8127198 ]\n",
      " [1.         0.74222136 0.7317495  0.7272495  0.7266457 ]\n",
      " [1.0000001  0.75190324 0.7302896  0.72995096 0.7257391 ]]\n",
      "Index by FAISS:\n",
      " [[      0 1138350  599086 1463561 1807656]\n",
      " [      1  179432 1474619 1716895  168821]\n",
      " [      2  800835 1643610  841396 1981023]\n",
      " [      3  575003  720266  592886 2133432]\n",
      " [      4 1621135 1850318   84768 1496129]\n",
      " [      5 1413990  605709  938719  798085]\n",
      " [      6  634081  890617  414098 1731982]\n",
      " [      7 1471507 2059336  107527 1779741]\n",
      " [      8 2075453 1434461  755631  477639]\n",
      " [      9  175088  817689 1587025  940009]]\n"
     ]
    }
   ],
   "source": [
    "# mimic some query data from the training data\n",
    "query_ent_indices = list(range(0,10)) # first 10 entities\n",
    "query_ent_vecs = [] \n",
    "for i in query_ent_indices:\n",
    "    query_ent_vecs.append(X[i])\n",
    "query_ent_mat = np.array(query_ent_vecs)\n",
    "faiss.normalize_L2(query_ent_mat) \n",
    "\n",
    "topk = 5\n",
    "cos_sim, index = vec_index.search(query_ent_mat, topk) # both of them are matrices\n",
    "print(f'Similarity by FAISS:\\n {cos_sim}')\n",
    "print(f'Index by FAISS:\\n {index}')"
   ]
  },
  {
   "cell_type": "code",
   "execution_count": 5,
   "metadata": {},
   "outputs": [
    {
     "name": "stdout",
     "output_type": "stream",
     "text": [
      "Query: wd:Q419890\n",
      "[('wd:Q409192', 0.9826269), ('wd:Q47521603', 0.980425), ('wd:Q47521613', 0.97756755), ('wd:Q47521440', 0.9767041)]\n",
      "\n",
      "Query: /c/en/xanthiosite/n\n",
      "[('/c/en/triplite/n', 0.96249706), ('/c/en/liversidgeite/n', 0.9542226), ('/c/en/ulrichite/n', 0.9423557), ('/c/en/dufrenite/n', 0.94022256)]\n",
      "\n",
      "Query: /c/en/form_of_pasta\n",
      "[('/c/en/tube_shaped_noodle', 0.8458103), ('/c/en/common_dish', 0.84088576), ('/c/en/food_orignially_from_italy', 0.8378214), ('/c/en/long_noodles', 0.83243716)]\n",
      "\n",
      "Query: /c/en/stargateverse/n\n",
      "[('/c/en/shatnerverse/n', 0.9761975), ('/c/en/xenaverse/n', 0.9707729), ('/c/en/disneyverse/n', 0.9688461), ('/c/en/duneverse/n', 0.9074847)]\n",
      "\n",
      "Query: /c/en/knd_of_insect\n",
      "[(\"/c/en/mother's_brother\", 0.8186028), (\"/c/en/father's_brother\", 0.81521285), ('/c/en/extremely_severe_storm', 0.8092427), ('/c/en/so_basic', 0.80634975)]\n",
      "\n",
      "Query: /c/en/chatfield\n",
      "[('/c/en/chatfields/n', 0.9248386), ('/c/en/schuldt', 0.80462617), ('/c/en/cousinette', 0.79793155), ('/c/en/zymad', 0.7964016)]\n",
      "\n",
      "Query: /c/en/being_too_tired_to_cook\n",
      "[('/c/en/not_having_time_to_cook', 0.973209), ('/c/en/being_hungry_and_far_from_home', 0.96717876), ('/c/en/hunger_and_good_food', 0.9661685), ('/c/en/recommendations_from_friends', 0.9611064)]\n",
      "\n",
      "Query: /c/en/strong_nuclier_force\n",
      "[('/c/en/gravety', 0.9695602), ('/c/en/weaknucleair_force', 0.967589), ('/c/en/fundamental_force_of_universe', 0.90732634), ('/c/en/post_discharge/n', 0.8127198)]\n",
      "\n",
      "Query: /c/en/condoners/n\n",
      "[('/c/en/condoner', 0.74222136), ('/c/en/rumbliest/a', 0.7317495), ('/c/en/exuders/n', 0.7272495), ('/c/en/housebuyers/n', 0.7266457)]\n",
      "\n",
      "Query: /c/en/pumpkin_pie/n\n",
      "[('/c/en/pie/n', 0.75190324), ('/c/en/cream_pie/n', 0.7302896), ('/c/en/bamiyeh/n/wikt/en_1', 0.72995096), ('/c/en/apple_pie/n', 0.7257391)]\n",
      "\n"
     ]
    }
   ],
   "source": [
    "# prepare result \n",
    "res = []\n",
    "for row in range(len(index)):\n",
    "    top5_res = []\n",
    "    for col in range(len(index[0])):\n",
    "        ent_name = entity_dict[index[row,col]]\n",
    "        sim = cos_sim[row,col]\n",
    "        top5_res.append((ent_name,sim))\n",
    "    res.append(top5_res)\n",
    "    \n",
    "# print result\n",
    "for r in res:\n",
    "    print('Query:', r[0][0])\n",
    "    print(r[1:])\n",
    "    print()"
   ]
  },
  {
   "cell_type": "code",
   "execution_count": null,
   "metadata": {},
   "outputs": [],
   "source": [
    "\n",
    " "
   ]
  }
 ],
 "metadata": {
  "kernelspec": {
   "display_name": "Python 3",
   "language": "python",
   "name": "python3"
  },
  "language_info": {
   "codemirror_mode": {
    "name": "ipython",
    "version": 3
   },
   "file_extension": ".py",
   "mimetype": "text/x-python",
   "name": "python",
   "nbconvert_exporter": "python",
   "pygments_lexer": "ipython3",
   "version": "3.6.12"
  }
 },
 "nbformat": 4,
 "nbformat_minor": 4
}
