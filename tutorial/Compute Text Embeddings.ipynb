{
 "cells": [
  {
   "cell_type": "code",
   "execution_count": null,
   "metadata": {},
   "outputs": [],
   "source": [
    "## Compute embeddings\n",
    "!kgtk normalize -i output/cskg_connected.kgtk --columns \"node1;label\" \"relation;label\" \"node2;label\" / \\\n",
    "sort -c 2,3,4 > sorted.tsv"
   ]
  },
  {
   "cell_type": "code",
   "execution_count": null,
   "metadata": {},
   "outputs": [],
   "source": [
    "!wc -l sorted.tsv"
   ]
  },
  {
   "cell_type": "code",
   "execution_count": null,
   "metadata": {},
   "outputs": [],
   "source": [
    "!grep '/c/en/10_downing_street' sorted.tsv"
   ]
  },
  {
   "cell_type": "code",
   "execution_count": null,
   "metadata": {},
   "outputs": [],
   "source": [
    "!gzip -c sorted.tsv > cskg_connected_normalized.tsv.gz"
   ]
  },
  {
   "cell_type": "code",
   "execution_count": null,
   "metadata": {},
   "outputs": [],
   "source": [
    "!gzcat cskg_connected_normalized.tsv.gz"
   ]
  },
  {
   "cell_type": "code",
   "execution_count": null,
   "metadata": {},
   "outputs": [],
   "source": [
    "!gzcat cskg_connected_normalized.tsv.gz | head -1000 > thousand_edges.tsv"
   ]
  },
  {
   "cell_type": "code",
   "execution_count": null,
   "metadata": {},
   "outputs": [],
   "source": [
    "!kgtk text_embedding \\\n",
    "    --embedding-projector-metadata-path none \\\n",
    "    --label-properties \"label\" \\\n",
    "    --isa-properties \"/r/IsA\" \\\n",
    "    --description-properties \"/r/DefinedAs\" \\\n",
    "    --property-value \"/r/Causes\" \"/r/UsedFor\" \"/r/PartOf\" \"/r/AtLocation\" \"/r/CapableOf\" \\\n",
    "    \"/r/CausesDesire\" \"/r/SymbolOf\" \"/r/MadeOf\" \"/r/LocatedNear\" \"/r/Desires\" \"/r/HasProperty\" \"/r/HasFirstSubevent\" \\\n",
    "    \"/r/HasLastSubevent\" \"at:xAttr\" \"at:xEffect\" \"at:xIntent\" \"at:xNeed\" \"at:xReact\" \"at:xWant\" \\\n",
    "    --has-properties \"\" \\\n",
    "    -f kgtk_format \\\n",
    "    --output-data-format kgtk_format \\\n",
    "    --model bert-large-nli-cls-token \\\n",
    "    --save-embedding-sentence \\\n",
    "    -i cskg_connected_normalized.tsv.gz \\\n",
    "    -p sorted.tsv.gz \\\n",
    "    > cskg_embedings.txt"
   ]
  },
  {
   "cell_type": "code",
   "execution_count": null,
   "metadata": {},
   "outputs": [],
   "source": [
    "!grep 'sentence' cskg_embedings.txt"
   ]
  },
  {
   "cell_type": "code",
   "execution_count": null,
   "metadata": {},
   "outputs": [],
   "source": []
  }
 ],
 "metadata": {
  "kernelspec": {
   "display_name": "Python 3",
   "language": "python",
   "name": "python3"
  },
  "language_info": {
   "codemirror_mode": {
    "name": "ipython",
    "version": 3
   },
   "file_extension": ".py",
   "mimetype": "text/x-python",
   "name": "python",
   "nbconvert_exporter": "python",
   "pygments_lexer": "ipython3",
   "version": "3.7.9"
  }
 },
 "nbformat": 4,
 "nbformat_minor": 4
}
