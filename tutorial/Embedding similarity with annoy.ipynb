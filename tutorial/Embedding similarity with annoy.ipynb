{
 "cells": [
  {
   "cell_type": "markdown",
   "metadata": {},
   "source": [
    "# Embedding similarity with annoy\n",
    "\n",
    "\n",
    "This notebook performs cosine similarity calcluation with annoy library. \n"
   ]
  },
  {
   "cell_type": "markdown",
   "metadata": {},
   "source": [
    "### Parameters for invoking the notebook\n",
    "\n",
    "- `cskg_embedding_path`: a .gz file contaning the embeddings for all cskg entites\n",
    "- `target_entity_name`: query entity name, this is an example for searching neighbors"
   ]
  },
  {
   "cell_type": "code",
   "execution_count": 1,
   "metadata": {},
   "outputs": [],
   "source": [
    "# Parameters \n",
    "cskg_embedding_path = \"../output/embeddings/comp_log_dot_0.01.tsv.gz\"\n",
    "target_entity_name = '/c/en/snow_stage'"
   ]
  },
  {
   "cell_type": "code",
   "execution_count": 2,
   "metadata": {},
   "outputs": [],
   "source": [
    "import gzip\n",
    "from annoy import AnnoyIndex"
   ]
  },
  {
   "cell_type": "markdown",
   "metadata": {},
   "source": [
    "###  Prepare data\n",
    "- read embeddings from cskg_embedding_path\n",
    "- build a entity name-index bi dictionary for future indexing\n",
    "- build an annoy index that stores vector\n",
    "- builds a forest of n_trees trees. More trees gives higher precision when querying. "
   ]
  },
  {
   "cell_type": "code",
   "execution_count": 3,
   "metadata": {},
   "outputs": [
    {
     "name": "stdout",
     "output_type": "stream",
     "text": [
      "CPU times: user 32min 45s, sys: 4min 45s, total: 37min 30s\n",
      "Wall time: 1min 55s\n"
     ]
    },
    {
     "data": {
      "text/plain": [
       "True"
      ]
     },
     "execution_count": 3,
     "metadata": {},
     "output_type": "execute_result"
    }
   ],
   "source": [
    "%%time\n",
    "# build a entity name-index bi dictionary\n",
    "entity_dict = {}  # {name1:0, 0:name1}\n",
    "\n",
    "# declare the entity dimension\n",
    "dimension = 100  \n",
    "\n",
    "# declare an annoy index that stores vector\n",
    "annoy_index = AnnoyIndex(dimension, 'angular')  # angular => cos\n",
    "\n",
    "with gzip.open(cskg_embedding_path,'rt') as f:\n",
    "    for index,line in enumerate(f):\n",
    "        line = line.split()\n",
    "        entity_name = line[0]\n",
    "        entity_vec =  [ float(i) for i in line[1:]]\n",
    "        if index ==0:\n",
    "            # get the dimension \n",
    "            dimension = len(entity_vec)\n",
    "            # initializa an annoy index\n",
    "            annoy_index = AnnoyIndex(dimension, 'angular')  # angular => cos\n",
    "        entity_dict[entity_name] = index\n",
    "        entity_dict[index] = entity_name\n",
    "        annoy_index.add_item(index, entity_vec)\n",
    "        \n",
    "# builds a forest of n_trees \n",
    "annoy_index.build(100) # build(n_trees, n_jobs=-1)"
   ]
  },
  {
   "cell_type": "markdown",
   "metadata": {},
   "source": [
    "### Search topk neighbors"
   ]
  },
  {
   "cell_type": "code",
   "execution_count": 4,
   "metadata": {},
   "outputs": [
    {
     "name": "stdout",
     "output_type": "stream",
     "text": [
      "query entity name: /c/en/snow_stage, query entity index: 14\n",
      "\n",
      "/c/en/snow_stage               14         0.0\n",
      "/c/en/tapioca_snow             1082430    0.12174128741025925\n",
      "/c/en/snow_catch               86853      0.12539340555667877\n",
      "/c/en/snow_making              1388820    0.12639059126377106\n",
      "/c/en/wild_snow                424651     0.1297360360622406\n"
     ]
    }
   ],
   "source": [
    "target_entity_index = entity_dict[target_entity_name]\n",
    "print(f'query entity name: {target_entity_name}, query entity index: {target_entity_index}',end='\\n\\n')\n",
    "\n",
    "# top5 cloest neighbors\n",
    "topk = 5\n",
    "similar_ents = annoy_index.get_nns_by_item(target_entity_index, topk, include_distances=True)\n",
    "ent_dis = list(zip(similar_ents[0],similar_ents[1]))\n",
    "\n",
    "for ent in ent_dis:\n",
    "    ent_index = ent[0]\n",
    "    distance = ent[1]\n",
    "    ent_nam = entity_dict[ent_index]\n",
    "    print(f'{ent_nam:<30} {ent_index:<10} {distance}')"
   ]
  },
  {
   "cell_type": "markdown",
   "metadata": {},
   "source": [
    "### Documentation about annoy\n",
    "\n",
    "`AnnoyIndex(f, metric)`returns a new index that's read-write and stores vector of f dimensions. Metric can be \"angular\", \"euclidean\", \"manhattan\", \"hamming\", or \"dot\".\n",
    "\n",
    "`a.add_item(i, v)` adds item i (any nonnegative integer) with vector v. Note that it will allocate memory for max(i)+1 items.\n",
    "\n",
    "`a.build(n_trees, n_jobs=-1)` builds a forest of n_trees trees. More trees gives higher precision when querying. After calling build, no more items can be added. n_jobs specifies the number of threads used to build the trees. n_jobs=-1 uses all available CPU cores.\n",
    "\n",
    "`a.save(fn, prefault=False)` saves the index to disk and loads it (see next function). After saving, no more items can be added.\n",
    "\n",
    "`a.load(fn, prefault=False)` loads (mmaps) an index from disk. If prefault is set to True, it will pre-read the entire file into memory (using mmap with MAP_POPULATE). Default is False.\n",
    "\n",
    "`a.unload()` unloads.\n",
    "\n",
    "`a.get_nns_by_item(i, n, search_k=-1, include_distances=False)` returns the n closest items. During the query it will inspect up to search_k nodes which defaults to n_trees * n if not provided. search_k gives you a run-time tradeoff between better accuracy and speed. If you set include_distances to True, it will return a 2 element tuple with two lists in it: the second one containing all corresponding distances.\n",
    "\n",
    "`a.get_nns_by_vector(v, n, search_k=-1, include_distances=False)` same but query by vector v.\n",
    "\n",
    "`a.get_item_vector(i)` returns the vector for item i that was previously added.\n",
    "\n",
    "`a.get_distance(i, j)` returns the distance between items i and j. NOTE: this used to return the squared distance, but has been changed as of Aug 2016.\n",
    "\n",
    "`a.get_n_items()` returns the number of items in the index.\n",
    "\n",
    "`a.get_n_trees()` returns the number of trees in the index.\n",
    "\n",
    "`a.on_disk_build(fn)` prepares annoy to build the index in the specified file instead of RAM (execute before adding items, no need to save after build)\n",
    "\n",
    "`a.set_seed(seed)` will initialize the random number generator with the given seed. Only used for building up the tree, i. e. only necessary to pass this before adding the items. Will have no effect after calling a.build(n_trees) or a.load(fn).\n"
   ]
  },
  {
   "cell_type": "code",
   "execution_count": null,
   "metadata": {},
   "outputs": [],
   "source": []
  }
 ],
 "metadata": {
  "kernelspec": {
   "display_name": "Python 3",
   "language": "python",
   "name": "python3"
  },
  "language_info": {
   "codemirror_mode": {
    "name": "ipython",
    "version": 3
   },
   "file_extension": ".py",
   "mimetype": "text/x-python",
   "name": "python",
   "nbconvert_exporter": "python",
   "pygments_lexer": "ipython3",
   "version": "3.7.9"
  }
 },
 "nbformat": 4,
 "nbformat_minor": 4
}
