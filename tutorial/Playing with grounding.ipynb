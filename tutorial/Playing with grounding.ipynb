{
 "cells": [
  {
   "cell_type": "markdown",
   "metadata": {},
   "source": [
    "# Playing with CSKG grounding"
   ]
  },
  {
   "cell_type": "markdown",
   "metadata": {},
   "source": [
    "# Setup for grounding\n",
    "\n",
    "```\n",
    "conda create -n mowgli python=3.6 \n",
    "conda activate mowgli\n",
    "\n",
    "git clone https://github.com/ucinlp/mowgli-uci\n",
    "\n",
    "mv mowgli-uci grounding\n",
    "\n",
    "cd grounding\n",
    "\n",
    "pip install -r requirements.txt\n",
    "conda install --yes faiss-cpu -c pytorch -n mowgli\n",
    "python -m spacy download en_core_web_lg\n",
    "\n",
    "cd ..\n",
    "```"
   ]
  },
  {
   "cell_type": "code",
   "execution_count": null,
   "metadata": {},
   "outputs": [],
   "source": [
    "# IMPORTS\n",
    "import pygraphviz as pgv\n",
    "from IPython.display import Image"
   ]
  },
  {
   "cell_type": "markdown",
   "metadata": {},
   "source": [
    "## I. Parsing questions and answers"
   ]
  },
  {
   "cell_type": "code",
   "execution_count": null,
   "metadata": {},
   "outputs": [],
   "source": [
    "import sys\n",
    "sys.path.append('..')\n",
    "from groundcn.graphify import graphify"
   ]
  },
  {
   "cell_type": "code",
   "execution_count": null,
   "metadata": {},
   "outputs": [],
   "source": [
    "def draw(G):\n",
    "    return Image(G.draw(format='png', prog='dot'))"
   ]
  },
  {
   "cell_type": "code",
   "execution_count": null,
   "metadata": {},
   "outputs": [],
   "source": [
    "sentences=[\n",
    "    'Max looked for the onions so that he could make a stew.',\n",
    "#    'To get the bathroom counters dry after washing your face, take a small hand lotion and wipe away the extra water around the sink.',\n",
    "#    'To get the bathroom counters dry after washing your face, take a small hand towel and wipe away the extra water around the sink.'\n",
    "]"
   ]
  },
  {
   "cell_type": "code",
   "execution_count": null,
   "metadata": {},
   "outputs": [],
   "source": [
    "parse_trees=graphify.graphify_dataset(sentences)"
   ]
  },
  {
   "cell_type": "code",
   "execution_count": null,
   "metadata": {},
   "outputs": [],
   "source": [
    "parse_trees"
   ]
  },
  {
   "cell_type": "markdown",
   "metadata": {},
   "source": [
    "### Nicer visualization"
   ]
  },
  {
   "cell_type": "code",
   "execution_count": null,
   "metadata": {},
   "outputs": [],
   "source": [
    "rels=[]\n",
    "for sent_data in parse_trees:\n",
    "    #print('Sentence:', sent_data['sentence'])\n",
    "    #print('Tokenized sentence', sent_data['tokenized_sentence'])\n",
    "\n",
    "    G=pgv.AGraph(strict=False, directed=True)\n",
    "    \n",
    "    nodes={}\n",
    "    for n_id, n_data in sent_data['nodes'].items():\n",
    "        nodes[n_id]=' '.join(n_data['phrase'])\n",
    "    \n",
    "    for e_id, e_data in sent_data['edges'].items():\n",
    "        n1=nodes[e_data['head_node_id']]\n",
    "        n2=nodes[e_data['tail_node_id']]\n",
    "        rel=e_data['edge_name']\n",
    "        edge=(e_data['head_node_id'], rel, e_data['tail_node_id'])\n",
    "        rels.append(edge)\n",
    "        \n",
    "        G.add_edge(n1, n2, label=rel)\n",
    "        "
   ]
  },
  {
   "cell_type": "code",
   "execution_count": null,
   "metadata": {},
   "outputs": [],
   "source": [
    "draw(G)"
   ]
  },
  {
   "cell_type": "markdown",
   "metadata": {},
   "source": [
    "## II. Grounding questions and questions to ConceptNet"
   ]
  },
  {
   "cell_type": "code",
   "execution_count": null,
   "metadata": {},
   "outputs": [],
   "source": [
    "from groundcn.graphify import link"
   ]
  },
  {
   "cell_type": "markdown",
   "metadata": {},
   "source": [
    "**Note:** The Numberbatch file should be downloaded from [here](https://conceptnet.s3.amazonaws.com/downloads/2019/numberbatch/numberbatch-19.08.txt.gz), placed into the directory `../output/embeddings`, and gunzip-ed."
   ]
  },
  {
   "cell_type": "code",
   "execution_count": null,
   "metadata": {},
   "outputs": [],
   "source": [
    "numberbatch_file='../output/embeddings/numberbatch-en-19.08.txt'"
   ]
  },
  {
   "cell_type": "code",
   "execution_count": null,
   "metadata": {},
   "outputs": [],
   "source": [
    "linked_data=link.link(parse_trees, embedding_file=numberbatch_file)"
   ]
  },
  {
   "cell_type": "code",
   "execution_count": null,
   "metadata": {},
   "outputs": [],
   "source": [
    "rels"
   ]
  },
  {
   "cell_type": "code",
   "execution_count": null,
   "metadata": {},
   "outputs": [],
   "source": [
    "links={}\n",
    "for sent_data in linked_data:\n",
    "    print('Sentence:', sent_data['sentence'])\n",
    "    linkedG=pgv.AGraph(strict=False, directed=True)\n",
    "    for n_id, n_data in sent_data['nodes'].items():\n",
    "        print('Node phrase:', n_data['phrase'])\n",
    "        for c in reversed(n_data['candidates']):\n",
    "            print(c)\n",
    "        print()\n",
    "        \n",
    "        links[n_id]=list(reversed(n_data['candidates']))[0]['uri']\n",
    "\n",
    "    for edge in rels:\n",
    "        linkedG.add_edge(links[edge[0]], links[edge[2]], label=edge[1])\n",
    "    print()"
   ]
  },
  {
   "cell_type": "code",
   "execution_count": null,
   "metadata": {},
   "outputs": [],
   "source": [
    "draw(linkedG)"
   ]
  },
  {
   "cell_type": "markdown",
   "metadata": {},
   "source": [
    "## III. Grounding to CSKG"
   ]
  },
  {
   "cell_type": "code",
   "execution_count": null,
   "metadata": {},
   "outputs": [],
   "source": [
    "from groundcskg.graphify import link"
   ]
  },
  {
   "cell_type": "markdown",
   "metadata": {},
   "source": [
    "**Note:** The BERT embeddings file should be downloaded from [here](https://drive.google.com/file/d/1o2mSa_71X6hXZETPSn6-dotltKoI2QF_/view?usp=sharing), placed into the directory `../output/embeddings`, and gunzip-ed."
   ]
  },
  {
   "cell_type": "code",
   "execution_count": null,
   "metadata": {},
   "outputs": [],
   "source": [
    "#graph_emb_file='../output/embeddings/graph_embedding.tsv'\n",
    "bert_file='../output/embeddings/bert_nli_large_w2v_format.txt'"
   ]
  },
  {
   "cell_type": "code",
   "execution_count": null,
   "metadata": {},
   "outputs": [],
   "source": [
    "import importlib\n",
    "importlib.reload(link)"
   ]
  },
  {
   "cell_type": "code",
   "execution_count": null,
   "metadata": {},
   "outputs": [],
   "source": [
    "linked_data=link.link(parse_trees, embedding_file=bert_file)"
   ]
  },
  {
   "cell_type": "code",
   "execution_count": null,
   "metadata": {},
   "outputs": [],
   "source": [
    "links={}\n",
    "for sent_data in linked_data:\n",
    "    print('Sentence:', sent_data['sentence'])\n",
    "    linkedG=pgv.AGraph(strict=False, directed=True)\n",
    "    for n_id, n_data in sent_data['nodes'].items():\n",
    "        print('Node phrase:', n_data['phrase'])\n",
    "        for c in reversed(n_data['candidates']):\n",
    "            print(c)\n",
    "        print()\n",
    "        \n",
    "        links[n_id]=list(reversed(n_data['candidates']))[0]['uri']\n",
    "\n",
    "    for edge in rels:\n",
    "        linkedG.add_edge(links[edge[0]], links[edge[2]], label=edge[1])\n",
    "    print()"
   ]
  },
  {
   "cell_type": "code",
   "execution_count": null,
   "metadata": {},
   "outputs": [],
   "source": [
    "draw(linkedG)"
   ]
  },
  {
   "cell_type": "code",
   "execution_count": null,
   "metadata": {},
   "outputs": [],
   "source": []
  }
 ],
 "metadata": {
  "kernelspec": {
   "display_name": "Python 3",
   "language": "python",
   "name": "python3"
  },
  "language_info": {
   "codemirror_mode": {
    "name": "ipython",
    "version": 3
   },
   "file_extension": ".py",
   "mimetype": "text/x-python",
   "name": "python",
   "nbconvert_exporter": "python",
   "pygments_lexer": "ipython3",
   "version": "3.8.3"
  }
 },
 "nbformat": 4,
 "nbformat_minor": 4
}
