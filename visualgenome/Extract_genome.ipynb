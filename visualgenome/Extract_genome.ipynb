{
 "cells": [
  {
   "cell_type": "code",
   "execution_count": 1,
   "metadata": {},
   "outputs": [],
   "source": [
    "#libraries\n",
    "import json\n",
    "from collections import defaultdict\n",
    "import time"
   ]
  },
  {
   "cell_type": "code",
   "execution_count": 20,
   "metadata": {},
   "outputs": [],
   "source": [
    "#import data from folder\n",
    "\n",
    "def get_scene_graphs():\n",
    "    with open('/nas/home/slnagark/Genome/datasets/scene_graphs.json') as f:\n",
    "        scene_graphs = json.load(f)\n",
    "    return scene_graphs\n",
    "\n",
    "def get_image_data():\n",
    "    with open('/nas/home/slnagark/Genome/datasets/image_data.json') as f:\n",
    "        image_data = json.load(f)\n",
    "    return image_data\n",
    "\n",
    "def get_region_descriptions():\n",
    "    with open('/nas/home/slnagark/Genome/datasets/region_descriptions.json') as f:\n",
    "        region_descriptions = json.load(f)\n",
    "    return region_descriptions\n",
    "\n",
    "def get_objects():\n",
    "    with open('/nas/home/slnagark/Genome/datasets/objects.json') as f:\n",
    "        objects = json.load(f)\n",
    "    return objects\n",
    "\n",
    "def get_relationships():\n",
    "    with open('/nas/home/slnagark/Genome/datasets/relationships.json') as f:\n",
    "        relationships = json.load(f)\n",
    "    return relationships\n",
    "\n",
    "def get_region_graphs():\n",
    "    with open('/nas/home/slnagark/Genome/datasets/region_graphs.json') as f:\n",
    "        region_graphs = json.load(f)\n",
    "    return region_graphs\n",
    "\n",
    "def get_relationships():\n",
    "    with open('/nas/home/slnagark/Genome/datasets/relationships.json') as f:\n",
    "        relationships = json.load(f)\n",
    "    return relationships\n",
    "\n",
    "def get_relationship_synsets():\n",
    "    with open('/nas/home/slnagark/Genome/datasets/relationship_synsets.json') as f:\n",
    "        relationship_synets = json.load(f)\n",
    "    return relationship_synets\n",
    "\n",
    "def get_attribute_synsets():\n",
    "    with open('/nas/home/slnagark/Genome/datasets/attribute_synsets.json') as f:\n",
    "        attribute_synets = json.load(f)\n",
    "    return attribute_synets\n",
    "\n",
    "def get_object_synsets():\n",
    "    with open('/nas/home/slnagark/Genome/datasets/object_synsets.json') as f:\n",
    "        object_synets = json.load(f)\n",
    "    return object_synets\n",
    "\n",
    "def get_question_answers():\n",
    "    with open('/nas/home/slnagark/Genome/datasets/question_answers.json') as f:\n",
    "        q_a = json.load(f)\n",
    "    return q_a\n",
    "\n",
    "def get_mapping_qa_region():\n",
    "    with open('/nas/home/slnagark/Genome/datasets/qa_to_region_mapping.json') as f:\n",
    "        map_ = json.load(f)\n",
    "    return map_"
   ]
  },
  {
   "cell_type": "code",
   "execution_count": 16,
   "metadata": {},
   "outputs": [
    {
     "name": "stdout",
     "output_type": "stream",
     "text": [
      "Done importing Mapping QA to Regions in :  0.7821588516235352  sec.\n"
     ]
    }
   ],
   "source": [
    "start = time.time()\n",
    "map_ = get_mapping_qa_region()\n",
    "print(\"Done importing Mapping QA to Regions in : \",time.time()-start,\" sec.\")"
   ]
  },
  {
   "cell_type": "code",
   "execution_count": 3,
   "metadata": {},
   "outputs": [
    {
     "name": "stdout",
     "output_type": "stream",
     "text": [
      "Done importing question and answers  in :  5.874823808670044  sec.\n"
     ]
    }
   ],
   "source": [
    "start = time.time()\n",
    "q_a_ = get_question_answers()\n",
    "print(\"Done importing question and answers  in : \",time.time()-start,\" sec.\")"
   ]
  },
  {
   "cell_type": "code",
   "execution_count": 4,
   "metadata": {},
   "outputs": [
    {
     "name": "stdout",
     "output_type": "stream",
     "text": [
      "Done importing scene_graphs in :  21.53645396232605  sec.\n"
     ]
    }
   ],
   "source": [
    "start = time.time()\n",
    "scene_graphs_ = get_scene_graphs()\n",
    "print(\"Done importing scene_graphs in : \",time.time()-start,\" sec.\")"
   ]
  },
  {
   "cell_type": "code",
   "execution_count": 5,
   "metadata": {},
   "outputs": [
    {
     "name": "stdout",
     "output_type": "stream",
     "text": [
      "Done importing region graphs in :  74.083242893219  sec.\n"
     ]
    }
   ],
   "source": [
    "start = time.time()\n",
    "region_graphs_ = get_region_graphs()\n",
    "print(\"Done importing region graphs in : \",time.time()-start,\" sec.\")"
   ]
  },
  {
   "cell_type": "code",
   "execution_count": 6,
   "metadata": {},
   "outputs": [
    {
     "name": "stdout",
     "output_type": "stream",
     "text": [
      "Done importing relationships in :  27.39835834503174  sec.\n"
     ]
    }
   ],
   "source": [
    "start = time.time()\n",
    "relationships_ = get_relationships()\n",
    "print(\"Done importing relationships in : \",time.time()-start,\" sec.\")"
   ]
  },
  {
   "cell_type": "code",
   "execution_count": 89,
   "metadata": {},
   "outputs": [],
   "source": [
    "#variables\n",
    "relations_image_to_relations = {}\n",
    "scene_graphs_image_to_relations = {}\n",
    "rgraphs_image_to_relation = {}\n",
    "relationid2name = defaultdict(list)\n",
    "relationid2syns = defaultdict(list)\n",
    "image_to_qa = {}\n",
    "region_to_qa = defaultdict(list)"
   ]
  },
  {
   "cell_type": "code",
   "execution_count": 120,
   "metadata": {},
   "outputs": [],
   "source": [
    "\"\"\"\n",
    "input: relationship.json\n",
    "\n",
    "output: list of dictionaries of relationships\n",
    "        [\n",
    "            {\n",
    "                \"rel_id\" : int,\n",
    "                \"rel_name\" : str,\n",
    "                \"rel_syns\" : [str],\n",
    "                \"sub_id\" : int,\n",
    "                \"sub_name\" : str,\n",
    "                \"sub_syns\" : [str],\n",
    "                \"ob_id\" : int,\n",
    "                \"ob_name\" : str,\n",
    "                \"ob_syns\" : [str]\n",
    "            },\n",
    "            ....\n",
    "        ]\n",
    "\"\"\"\n",
    "\n",
    "def get_info_from_relations(relationships):\n",
    "\n",
    "    for ind, relations in enumerate(relationships):\n",
    "        relations_id = []\n",
    " \n",
    "        for rels in relations[\"relationships\"]:\n",
    "            rel_id = rels[\"relationship_id\"]\n",
    "            o_name = \"name\"\n",
    "            s_name = \"name\"\n",
    "            ob_ids = rels[\"object\"][\"object_id\"]\n",
    "            sub_ids = rels[\"subject\"][\"object_id\"]\n",
    "            if \"merged_object_ids\" in rels[\"object\"].keys():\n",
    "                o_name = \"names\"\n",
    "                ob_ids = list(set(rels[\"object\"][\"merged_object_ids\"]))\n",
    "            if len(rels[\"subject\"].keys())!=7:\n",
    "                s_name = \"names\"\n",
    "                sub_ids = list(set(rels[\"subject\"][\"merged_object_ids\"]))\n",
    "            relations_id.append({\n",
    "                \"rel_id\" : rel_id,\n",
    "                \"rel_name\" : rels[\"predicate\"].lower(),\n",
    "                \"rel_syns\" : rels[\"synsets\"],\n",
    "                \"sub_id\" : sub_ids,\n",
    "                \"sub_name\" : rels[\"subject\"][s_name],\n",
    "                \"sub_syns\" : rels[\"subject\"][\"synsets\"],\n",
    "                \"ob_id\" : ob_ids,\n",
    "                \"ob_name\" : rels[\"object\"][o_name],\n",
    "                \"ob_syns\" : rels[\"object\"][\"synsets\"]\n",
    "            })\n",
    "            \n",
    "        relations_image_to_relations[relations[\"image_id\"]] = relations_id\n",
    "        if ind == 9:\n",
    "                break"
   ]
  },
  {
   "cell_type": "code",
   "execution_count": 121,
   "metadata": {},
   "outputs": [],
   "source": [
    "get_info_from_relations(relationships_)"
   ]
  },
  {
   "cell_type": "code",
   "execution_count": 126,
   "metadata": {},
   "outputs": [],
   "source": [
    "\"\"\"\n",
    "input: scene_graphs.json\n",
    "\n",
    "output: dictionary of list of dictionaries of relationships\n",
    "        {\n",
    "          image_id:  \n",
    "          [\n",
    "              {\n",
    "                \"rel_id\" : int,\n",
    "                \"rel_name\" : str,\n",
    "                \"rel_syns\" : [str],\n",
    "                \"sub_id\" : int,\n",
    "                \"sub_name\" : str,\n",
    "                \"sub_syns\" : [str],\n",
    "                \"ob_id\" : int,\n",
    "                \"ob_name\" : str,\n",
    "                \"ob_syns\" : [str]\n",
    "              },\n",
    "              ....\n",
    "          ]\n",
    "        }\n",
    "\"\"\"\n",
    "\n",
    "def get_info_from_scene_graphs(scene_graphs):\n",
    "    for ind, an_image in enumerate(scene_graphs):\n",
    "        image_id = an_image['image_id']\n",
    "\n",
    "        # OBJECTS\n",
    "        objid2names=defaultdict(list)\n",
    "        objid2syns=defaultdict(list)\n",
    "        for o in an_image['objects']:\n",
    "            obj_id = o['object_id']\n",
    "            if obj_id not in objid2names.keys() or (objid2names[obj_id] and o[\"names\"] not in objid2names[obj_id]): \n",
    "                objid2syns[obj_id] += o['synsets']\n",
    "                objid2names[obj_id] += o[\"names\"]\n",
    "\n",
    "        # RELATIONS\n",
    "        relations_id = []\n",
    "        for rel in an_image['relationships']:\n",
    "            rel_id = rel['relationship_id']\n",
    "      \n",
    "            if rel['predicate'].lower() not in relationid2name[rel_id]:\n",
    "                relationid2name[rel_id] += rel['predicate'].lower()\n",
    "                relationid2syns[rel_id] += rel[\"synsets\"]\n",
    "\n",
    "            sub_id=rel['subject_id']\n",
    "            obj_id=rel['object_id']\n",
    "            relations_id.append({\n",
    "                        \"rel_id\" : rel_id,\n",
    "                        \"rel_name\" : relationid2name[rel_id],\n",
    "                        \"rel_syns\" : relationid2syns[rel_id],\n",
    "                        \"sub_id\" : sub_id,\n",
    "                        \"sub_name\" : objid2names[sub_id],\n",
    "                        \"sub_syns\" : objid2syns[sub_id],\n",
    "                        \"ob_id\" : obj_id,\n",
    "                        \"ob_name\" : objid2names[obj_id],\n",
    "                        \"ob_syns\" :objid2syns[obj_id]\n",
    "                    })\n",
    "            \n",
    "        scene_graphs_image_to_relations[image_id] = relations_id\n",
    "        if ind == 9:\n",
    "            break"
   ]
  },
  {
   "cell_type": "code",
   "execution_count": 127,
   "metadata": {},
   "outputs": [],
   "source": [
    "get_info_from_scene_graphs(scene_graphs_)"
   ]
  },
  {
   "cell_type": "code",
   "execution_count": 128,
   "metadata": {},
   "outputs": [],
   "source": [
    "\"\"\"\n",
    "input: region_graphs.json\n",
    "\n",
    "output: dictionary of list of dictionaries of regions\n",
    "        {\n",
    "          image_id:  \n",
    "          [\n",
    "              {\n",
    "                \"region_id\" : int,\n",
    "                \"phrase\" : str,\n",
    "                \"relationship_id\" : int,\n",
    "              },\n",
    "              ....\n",
    "          ]\n",
    "        }\n",
    "\"\"\"\n",
    "def get_info_from_region_graphs(region_graphs):\n",
    "\n",
    "    for ind, reg_graphs in enumerate(region_graphs):\n",
    "        region_data = []\n",
    "        region_info = []\n",
    "        image_id = reg_graphs[\"image_id\"]\n",
    "        \n",
    "        for regions in reg_graphs['regions']:\n",
    "            rel = []\n",
    "            reg_info = {}\n",
    "            \n",
    "            r_objid2name = defaultdict(list)\n",
    "            r_objid2syns = defaultdict(list)\n",
    "\n",
    "            region_id = regions[\"region_id\"]\n",
    "            phrase = regions[\"phrase\"]      \n",
    "\n",
    "            reg_info[\"region_id\"] = region_id\n",
    "            reg_info[\"phrase\"] = phrase\n",
    "\n",
    "            \n",
    "            for obj in regions[\"objects\"]:\n",
    "                ob_id = obj[\"object_id\"]\n",
    "                if ob_id not in r_objid2name.keys() or (r_objid2name[ob_id] and obj[\"name\"] not in r_objid2name[ob_id]): \n",
    "                    r_objid2name[ob_id].append(obj[\"name\"])\n",
    "                    r_objid2syns[ob_id].append(obj[\"synsets\"])\n",
    "            \n",
    "            \n",
    "            for relations in regions[\"relationships\"]:\n",
    "                r_id = relations[\"relationship_id\"]\n",
    "\n",
    "                if r_id not in relationid2name.keys():\n",
    "                    relationid2name[r_id].append(relations[\"predicate\"].lower())\n",
    "                    relationid2syns[r_id].append(relations[\"synsets\"])\n",
    "                    region_info.append({\n",
    "                        \"rel_id\" : rels[\"relationship_id\"],\n",
    "                        \"rel_name\" : rels[\"predicate\"],\n",
    "                        \"rel_syns\" : rels[\"synsets\"],\n",
    "                        \"sub_id\" : rels[\"subject_id\"],\n",
    "                        \"obj_id\" : rels[\"object_id\"],\n",
    "                        \"sub_name\" : r_objid2name[rels[\"subject_id\"]],\n",
    "                        \"obj_name\" : r_objid2name[rels[\"object_id\"]],\n",
    "                        \"sub_syns\" : r_objid2syns[rels[\"subject_id\"]],\n",
    "                        \"obj_syns\" : r_objid2syns[rels[\"object_id\"]]\n",
    "                    })\n",
    "\n",
    "                rel.append(r_id)\n",
    "\n",
    "            reg_info[\"relationship_id\"] = rel    \n",
    "            region_data.append(reg_info)\n",
    "\n",
    "        if len(region_info)!=0:\n",
    "            print(\"Region info Activated\")\n",
    "            scene_graphs_image_to_relations[iamge_id].append(region_info)\n",
    "    \n",
    "        rgraphs_image_to_relation[image_id] = region_data\n",
    "        if ind == 9:\n",
    "            break"
   ]
  },
  {
   "cell_type": "code",
   "execution_count": null,
   "metadata": {},
   "outputs": [],
   "source": [
    "get_info_from_region_graphs(region_graphs_)"
   ]
  },
  {
   "cell_type": "code",
   "execution_count": 131,
   "metadata": {},
   "outputs": [],
   "source": [
    "\"\"\"\n",
    "input: question_answers.json\n",
    "\n",
    "output: dictionary of dictionary\n",
    "        {\n",
    "            \"image_id\" : {\n",
    "                            \"loc\" : [{\n",
    "                                        \"question\": str\n",
    "                                        \"answer\"  : str\n",
    "                                    }],\n",
    "                                    \n",
    "                            \"time\" : [{\n",
    "                                        \"question\": str\n",
    "                                        \"answer\"  : str\n",
    "                                     }],\n",
    "                                     \n",
    "                            \"event\" :[{\n",
    "                                        \"question\": str\n",
    "                                        \"answer\"  : str\n",
    "                                     }],\n",
    "                          }\n",
    "        }\n",
    "\"\"\"\n",
    "def get_info_from_q_a(q_a):\n",
    "\n",
    "    for ind, qa in enumerate(q_a):\n",
    "        loc = []\n",
    "        time = []\n",
    "        event = []\n",
    "        cnt = 0\n",
    "        image_id = qa[\"id\"]\n",
    "        for qas in qa[\"qas\"]:\n",
    "            qa_id = qas[\"qa_id\"]\n",
    "            question = qas[\"question\"]\n",
    "            answer = qas[\"answer\"]\n",
    "            q = question.split(\" \")\n",
    "            if q[0].lower() == \"where\":\n",
    "                loc.append({\n",
    "                    \"question\" : question,\n",
    "                    \"answer\" : answer\n",
    "                })\n",
    "                \n",
    "            elif q[0].lower() ==\"when\":\n",
    "                time.append({\n",
    "                    \"question\" : question,\n",
    "                    \"answer\" : answer\n",
    "                })\n",
    "              \n",
    "            elif \"doing\" in question:\n",
    "                event.append({\n",
    "                    \"question\" : question,\n",
    "                    \"answer\" : answer\n",
    "                })\n",
    "\n",
    "        image_to_qa[image_id] = {\n",
    "            \"location\" : loc,\n",
    "            \"time\" : time,\n",
    "            \"event\" : event\n",
    "        }\n",
    "  \n",
    "        if ind == 9:\n",
    "            break\n"
   ]
  },
  {
   "cell_type": "code",
   "execution_count": 132,
   "metadata": {},
   "outputs": [],
   "source": [
    "get_info_from_q_a(q_a_)"
   ]
  },
  {
   "cell_type": "code",
   "execution_count": null,
   "metadata": {},
   "outputs": [],
   "source": []
  }
 ],
 "metadata": {
  "kernelspec": {
   "display_name": "Python 3",
   "language": "python",
   "name": "python3"
  },
  "language_info": {
   "codemirror_mode": {
    "name": "ipython",
    "version": 3
   },
   "file_extension": ".py",
   "mimetype": "text/x-python",
   "name": "python",
   "nbconvert_exporter": "python",
   "pygments_lexer": "ipython3",
   "version": "3.6.12"
  }
 },
 "nbformat": 4,
 "nbformat_minor": 4
}
